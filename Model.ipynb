{
  "cells": [
    {
      "cell_type": "markdown",
      "metadata": {
        "id": "HSbWYHJm4ec5"
      },
      "source": [
        "## Loading Pretrained Model"
      ]
    },
    {
      "cell_type": "code",
      "execution_count": 1,
      "metadata": {
        "colab": {
          "base_uri": "https://localhost:8080/"
        },
        "id": "BidUoZ0Z7Sem",
        "outputId": "f108e38b-f14a-427c-9a53-ad92f003f8b3"
      },
      "outputs": [
        {
          "name": "stdout",
          "output_type": "stream",
          "text": [
            "Looking in indexes: https://pypi.org/simple, https://us-python.pkg.dev/colab-wheels/public/simple/\n",
            "Collecting transformers\n",
            "  Downloading transformers-4.30.2-py3-none-any.whl (7.2 MB)\n",
            "\u001b[2K     \u001b[90m━━━━━━━━━━━━━━━━━━━━━━━━━━━━━━━━━━━━━━━━\u001b[0m \u001b[32m7.2/7.2 MB\u001b[0m \u001b[31m50.8 MB/s\u001b[0m eta \u001b[36m0:00:00\u001b[0m\n",
            "\u001b[?25hRequirement already satisfied: filelock in /usr/local/lib/python3.10/dist-packages (from transformers) (3.12.0)\n",
            "Collecting huggingface-hub<1.0,>=0.14.1 (from transformers)\n",
            "  Downloading huggingface_hub-0.15.1-py3-none-any.whl (236 kB)\n",
            "\u001b[2K     \u001b[90m━━━━━━━━━━━━━━━━━━━━━━━━━━━━━━━━━━━━━━\u001b[0m \u001b[32m236.8/236.8 kB\u001b[0m \u001b[31m26.9 MB/s\u001b[0m eta \u001b[36m0:00:00\u001b[0m\n",
            "\u001b[?25hRequirement already satisfied: numpy>=1.17 in /usr/local/lib/python3.10/dist-packages (from transformers) (1.22.4)\n",
            "Requirement already satisfied: packaging>=20.0 in /usr/local/lib/python3.10/dist-packages (from transformers) (23.1)\n",
            "Requirement already satisfied: pyyaml>=5.1 in /usr/local/lib/python3.10/dist-packages (from transformers) (6.0)\n",
            "Requirement already satisfied: regex!=2019.12.17 in /usr/local/lib/python3.10/dist-packages (from transformers) (2022.10.31)\n",
            "Requirement already satisfied: requests in /usr/local/lib/python3.10/dist-packages (from transformers) (2.27.1)\n",
            "Collecting tokenizers!=0.11.3,<0.14,>=0.11.1 (from transformers)\n",
            "  Downloading tokenizers-0.13.3-cp310-cp310-manylinux_2_17_x86_64.manylinux2014_x86_64.whl (7.8 MB)\n",
            "\u001b[2K     \u001b[90m━━━━━━━━━━━━━━━━━━━━━━━━━━━━━━━━━━━━━━━━\u001b[0m \u001b[32m7.8/7.8 MB\u001b[0m \u001b[31m116.7 MB/s\u001b[0m eta \u001b[36m0:00:00\u001b[0m\n",
            "\u001b[?25hCollecting safetensors>=0.3.1 (from transformers)\n",
            "  Downloading safetensors-0.3.1-cp310-cp310-manylinux_2_17_x86_64.manylinux2014_x86_64.whl (1.3 MB)\n",
            "\u001b[2K     \u001b[90m━━━━━━━━━━━━━━━━━━━━━━━━━━━━━━━━━━━━━━━━\u001b[0m \u001b[32m1.3/1.3 MB\u001b[0m \u001b[31m61.7 MB/s\u001b[0m eta \u001b[36m0:00:00\u001b[0m\n",
            "\u001b[?25hRequirement already satisfied: tqdm>=4.27 in /usr/local/lib/python3.10/dist-packages (from transformers) (4.65.0)\n",
            "Requirement already satisfied: fsspec in /usr/local/lib/python3.10/dist-packages (from huggingface-hub<1.0,>=0.14.1->transformers) (2023.4.0)\n",
            "Requirement already satisfied: typing-extensions>=3.7.4.3 in /usr/local/lib/python3.10/dist-packages (from huggingface-hub<1.0,>=0.14.1->transformers) (4.5.0)\n",
            "Requirement already satisfied: urllib3<1.27,>=1.21.1 in /usr/local/lib/python3.10/dist-packages (from requests->transformers) (1.26.15)\n",
            "Requirement already satisfied: certifi>=2017.4.17 in /usr/local/lib/python3.10/dist-packages (from requests->transformers) (2022.12.7)\n",
            "Requirement already satisfied: charset-normalizer~=2.0.0 in /usr/local/lib/python3.10/dist-packages (from requests->transformers) (2.0.12)\n",
            "Requirement already satisfied: idna<4,>=2.5 in /usr/local/lib/python3.10/dist-packages (from requests->transformers) (3.4)\n",
            "Installing collected packages: tokenizers, safetensors, huggingface-hub, transformers\n",
            "Successfully installed huggingface-hub-0.15.1 safetensors-0.3.1 tokenizers-0.13.3 transformers-4.30.2\n"
          ]
        }
      ],
      "source": [
        "!pip install transformers"
      ]
    },
    {
      "cell_type": "code",
      "execution_count": 2,
      "metadata": {
        "colab": {
          "base_uri": "https://localhost:8080/"
        },
        "id": "7K-_gra27hbs",
        "outputId": "3d84426a-9029-4c28-ff2f-4e25cc050f06"
      },
      "outputs": [
        {
          "name": "stdout",
          "output_type": "stream",
          "text": [
            "Looking in indexes: https://pypi.org/simple, https://us-python.pkg.dev/colab-wheels/public/simple/\n",
            "Collecting datasets\n",
            "  Downloading datasets-2.13.0-py3-none-any.whl (485 kB)\n",
            "\u001b[2K     \u001b[90m━━━━━━━━━━━━━━━━━━━━━━━━━━━━━━━━━━━━━━━\u001b[0m \u001b[32m485.6/485.6 kB\u001b[0m \u001b[31m8.6 MB/s\u001b[0m eta \u001b[36m0:00:00\u001b[0m\n",
            "\u001b[?25hRequirement already satisfied: numpy>=1.17 in /usr/local/lib/python3.10/dist-packages (from datasets) (1.22.4)\n",
            "Requirement already satisfied: pyarrow>=8.0.0 in /usr/local/lib/python3.10/dist-packages (from datasets) (9.0.0)\n",
            "Collecting dill<0.3.7,>=0.3.0 (from datasets)\n",
            "  Downloading dill-0.3.6-py3-none-any.whl (110 kB)\n",
            "\u001b[2K     \u001b[90m━━━━━━━━━━━━━━━━━━━━━━━━━━━━━━━━━━━━━━\u001b[0m \u001b[32m110.5/110.5 kB\u001b[0m \u001b[31m14.5 MB/s\u001b[0m eta \u001b[36m0:00:00\u001b[0m\n",
            "\u001b[?25hRequirement already satisfied: pandas in /usr/local/lib/python3.10/dist-packages (from datasets) (1.5.3)\n",
            "Requirement already satisfied: requests>=2.19.0 in /usr/local/lib/python3.10/dist-packages (from datasets) (2.27.1)\n",
            "Requirement already satisfied: tqdm>=4.62.1 in /usr/local/lib/python3.10/dist-packages (from datasets) (4.65.0)\n",
            "Collecting xxhash (from datasets)\n",
            "  Downloading xxhash-3.2.0-cp310-cp310-manylinux_2_17_x86_64.manylinux2014_x86_64.whl (212 kB)\n",
            "\u001b[2K     \u001b[90m━━━━━━━━━━━━━━━━━━━━━━━━━━━━━━━━━━━━━━\u001b[0m \u001b[32m212.5/212.5 kB\u001b[0m \u001b[31m19.7 MB/s\u001b[0m eta \u001b[36m0:00:00\u001b[0m\n",
            "\u001b[?25hCollecting multiprocess (from datasets)\n",
            "  Downloading multiprocess-0.70.14-py310-none-any.whl (134 kB)\n",
            "\u001b[2K     \u001b[90m━━━━━━━━━━━━━━━━━━━━━━━━━━━━━━━━━━━━━━\u001b[0m \u001b[32m134.3/134.3 kB\u001b[0m \u001b[31m16.5 MB/s\u001b[0m eta \u001b[36m0:00:00\u001b[0m\n",
            "\u001b[?25hRequirement already satisfied: fsspec[http]>=2021.11.1 in /usr/local/lib/python3.10/dist-packages (from datasets) (2023.4.0)\n",
            "Collecting aiohttp (from datasets)\n",
            "  Downloading aiohttp-3.8.4-cp310-cp310-manylinux_2_17_x86_64.manylinux2014_x86_64.whl (1.0 MB)\n",
            "\u001b[2K     \u001b[90m━━━━━━━━━━━━━━━━━━━━━━━━━━━━━━━━━━━━━━━━\u001b[0m \u001b[32m1.0/1.0 MB\u001b[0m \u001b[31m35.3 MB/s\u001b[0m eta \u001b[36m0:00:00\u001b[0m\n",
            "\u001b[?25hRequirement already satisfied: huggingface-hub<1.0.0,>=0.11.0 in /usr/local/lib/python3.10/dist-packages (from datasets) (0.15.1)\n",
            "Requirement already satisfied: packaging in /usr/local/lib/python3.10/dist-packages (from datasets) (23.1)\n",
            "Requirement already satisfied: pyyaml>=5.1 in /usr/local/lib/python3.10/dist-packages (from datasets) (6.0)\n",
            "Requirement already satisfied: attrs>=17.3.0 in /usr/local/lib/python3.10/dist-packages (from aiohttp->datasets) (23.1.0)\n",
            "Requirement already satisfied: charset-normalizer<4.0,>=2.0 in /usr/local/lib/python3.10/dist-packages (from aiohttp->datasets) (2.0.12)\n",
            "Collecting multidict<7.0,>=4.5 (from aiohttp->datasets)\n",
            "  Downloading multidict-6.0.4-cp310-cp310-manylinux_2_17_x86_64.manylinux2014_x86_64.whl (114 kB)\n",
            "\u001b[2K     \u001b[90m━━━━━━━━━━━━━━━━━━━━━━━━━━━━━━━━━━━━━━\u001b[0m \u001b[32m114.5/114.5 kB\u001b[0m \u001b[31m10.3 MB/s\u001b[0m eta \u001b[36m0:00:00\u001b[0m\n",
            "\u001b[?25hCollecting async-timeout<5.0,>=4.0.0a3 (from aiohttp->datasets)\n",
            "  Downloading async_timeout-4.0.2-py3-none-any.whl (5.8 kB)\n",
            "Collecting yarl<2.0,>=1.0 (from aiohttp->datasets)\n",
            "  Downloading yarl-1.9.2-cp310-cp310-manylinux_2_17_x86_64.manylinux2014_x86_64.whl (268 kB)\n",
            "\u001b[2K     \u001b[90m━━━━━━━━━━━━━━━━━━━━━━━━━━━━━━━━━━━━━━\u001b[0m \u001b[32m268.8/268.8 kB\u001b[0m \u001b[31m21.4 MB/s\u001b[0m eta \u001b[36m0:00:00\u001b[0m\n",
            "\u001b[?25hCollecting frozenlist>=1.1.1 (from aiohttp->datasets)\n",
            "  Downloading frozenlist-1.3.3-cp310-cp310-manylinux_2_5_x86_64.manylinux1_x86_64.manylinux_2_17_x86_64.manylinux2014_x86_64.whl (149 kB)\n",
            "\u001b[2K     \u001b[90m━━━━━━━━━━━━━━━━━━━━━━━━━━━━━━━━━━━━━━\u001b[0m \u001b[32m149.6/149.6 kB\u001b[0m \u001b[31m13.2 MB/s\u001b[0m eta \u001b[36m0:00:00\u001b[0m\n",
            "\u001b[?25hCollecting aiosignal>=1.1.2 (from aiohttp->datasets)\n",
            "  Downloading aiosignal-1.3.1-py3-none-any.whl (7.6 kB)\n",
            "Requirement already satisfied: filelock in /usr/local/lib/python3.10/dist-packages (from huggingface-hub<1.0.0,>=0.11.0->datasets) (3.12.0)\n",
            "Requirement already satisfied: typing-extensions>=3.7.4.3 in /usr/local/lib/python3.10/dist-packages (from huggingface-hub<1.0.0,>=0.11.0->datasets) (4.5.0)\n",
            "Requirement already satisfied: urllib3<1.27,>=1.21.1 in /usr/local/lib/python3.10/dist-packages (from requests>=2.19.0->datasets) (1.26.15)\n",
            "Requirement already satisfied: certifi>=2017.4.17 in /usr/local/lib/python3.10/dist-packages (from requests>=2.19.0->datasets) (2022.12.7)\n",
            "Requirement already satisfied: idna<4,>=2.5 in /usr/local/lib/python3.10/dist-packages (from requests>=2.19.0->datasets) (3.4)\n",
            "Requirement already satisfied: python-dateutil>=2.8.1 in /usr/local/lib/python3.10/dist-packages (from pandas->datasets) (2.8.2)\n",
            "Requirement already satisfied: pytz>=2020.1 in /usr/local/lib/python3.10/dist-packages (from pandas->datasets) (2022.7.1)\n",
            "Requirement already satisfied: six>=1.5 in /usr/local/lib/python3.10/dist-packages (from python-dateutil>=2.8.1->pandas->datasets) (1.16.0)\n",
            "Installing collected packages: xxhash, multidict, frozenlist, dill, async-timeout, yarl, multiprocess, aiosignal, aiohttp, datasets\n",
            "Successfully installed aiohttp-3.8.4 aiosignal-1.3.1 async-timeout-4.0.2 datasets-2.13.0 dill-0.3.6 frozenlist-1.3.3 multidict-6.0.4 multiprocess-0.70.14 xxhash-3.2.0 yarl-1.9.2\n"
          ]
        }
      ],
      "source": [
        "!pip install datasets"
      ]
    },
    {
      "cell_type": "code",
      "execution_count": 3,
      "metadata": {
        "colab": {
          "base_uri": "https://localhost:8080/"
        },
        "id": "thRq8b57vGoL",
        "outputId": "b9ca995e-d35f-4714-8392-bc093dce00bc"
      },
      "outputs": [
        {
          "name": "stdout",
          "output_type": "stream",
          "text": [
            "Looking in indexes: https://pypi.org/simple, https://us-python.pkg.dev/colab-wheels/public/simple/\n",
            "Collecting accelerate\n",
            "  Downloading accelerate-0.20.3-py3-none-any.whl (227 kB)\n",
            "\u001b[2K     \u001b[90m━━━━━━━━━━━━━━━━━━━━━━━━━━━━━━━━━━━━━━━\u001b[0m \u001b[32m227.6/227.6 kB\u001b[0m \u001b[31m6.9 MB/s\u001b[0m eta \u001b[36m0:00:00\u001b[0m\n",
            "\u001b[?25hRequirement already satisfied: numpy>=1.17 in /usr/local/lib/python3.10/dist-packages (from accelerate) (1.22.4)\n",
            "Requirement already satisfied: packaging>=20.0 in /usr/local/lib/python3.10/dist-packages (from accelerate) (23.1)\n",
            "Requirement already satisfied: psutil in /usr/local/lib/python3.10/dist-packages (from accelerate) (5.9.5)\n",
            "Requirement already satisfied: pyyaml in /usr/local/lib/python3.10/dist-packages (from accelerate) (6.0)\n",
            "Requirement already satisfied: torch>=1.6.0 in /usr/local/lib/python3.10/dist-packages (from accelerate) (2.0.1+cu118)\n",
            "Requirement already satisfied: filelock in /usr/local/lib/python3.10/dist-packages (from torch>=1.6.0->accelerate) (3.12.0)\n",
            "Requirement already satisfied: typing-extensions in /usr/local/lib/python3.10/dist-packages (from torch>=1.6.0->accelerate) (4.5.0)\n",
            "Requirement already satisfied: sympy in /usr/local/lib/python3.10/dist-packages (from torch>=1.6.0->accelerate) (1.11.1)\n",
            "Requirement already satisfied: networkx in /usr/local/lib/python3.10/dist-packages (from torch>=1.6.0->accelerate) (3.1)\n",
            "Requirement already satisfied: jinja2 in /usr/local/lib/python3.10/dist-packages (from torch>=1.6.0->accelerate) (3.1.2)\n",
            "Requirement already satisfied: triton==2.0.0 in /usr/local/lib/python3.10/dist-packages (from torch>=1.6.0->accelerate) (2.0.0)\n",
            "Requirement already satisfied: cmake in /usr/local/lib/python3.10/dist-packages (from triton==2.0.0->torch>=1.6.0->accelerate) (3.25.2)\n",
            "Requirement already satisfied: lit in /usr/local/lib/python3.10/dist-packages (from triton==2.0.0->torch>=1.6.0->accelerate) (16.0.5)\n",
            "Requirement already satisfied: MarkupSafe>=2.0 in /usr/local/lib/python3.10/dist-packages (from jinja2->torch>=1.6.0->accelerate) (2.1.2)\n",
            "Requirement already satisfied: mpmath>=0.19 in /usr/local/lib/python3.10/dist-packages (from sympy->torch>=1.6.0->accelerate) (1.3.0)\n",
            "Installing collected packages: accelerate\n",
            "Successfully installed accelerate-0.20.3\n"
          ]
        }
      ],
      "source": [
        "!pip install accelerate"
      ]
    },
    {
      "cell_type": "code",
      "execution_count": 4,
      "metadata": {
        "colab": {
          "base_uri": "https://localhost:8080/"
        },
        "id": "SAgDgz5QLDRW",
        "outputId": "c9551649-4537-4eba-942b-0aaf1c32a85e"
      },
      "outputs": [
        {
          "name": "stdout",
          "output_type": "stream",
          "text": [
            "Looking in indexes: https://pypi.org/simple, https://us-python.pkg.dev/colab-wheels/public/simple/\n",
            "Collecting seqeval\n",
            "  Downloading seqeval-1.2.2.tar.gz (43 kB)\n",
            "\u001b[2K     \u001b[90m━━━━━━━━━━━━━━━━━━━━━━━━━━━━━━━━━━━━━━━━\u001b[0m \u001b[32m43.6/43.6 kB\u001b[0m \u001b[31m2.7 MB/s\u001b[0m eta \u001b[36m0:00:00\u001b[0m\n",
            "\u001b[?25h  Preparing metadata (setup.py) ... \u001b[?25l\u001b[?25hdone\n",
            "Requirement already satisfied: numpy>=1.14.0 in /usr/local/lib/python3.10/dist-packages (from seqeval) (1.22.4)\n",
            "Requirement already satisfied: scikit-learn>=0.21.3 in /usr/local/lib/python3.10/dist-packages (from seqeval) (1.2.2)\n",
            "Requirement already satisfied: scipy>=1.3.2 in /usr/local/lib/python3.10/dist-packages (from scikit-learn>=0.21.3->seqeval) (1.10.1)\n",
            "Requirement already satisfied: joblib>=1.1.1 in /usr/local/lib/python3.10/dist-packages (from scikit-learn>=0.21.3->seqeval) (1.2.0)\n",
            "Requirement already satisfied: threadpoolctl>=2.0.0 in /usr/local/lib/python3.10/dist-packages (from scikit-learn>=0.21.3->seqeval) (3.1.0)\n",
            "Building wheels for collected packages: seqeval\n",
            "  Building wheel for seqeval (setup.py) ... \u001b[?25l\u001b[?25hdone\n",
            "  Created wheel for seqeval: filename=seqeval-1.2.2-py3-none-any.whl size=16165 sha256=3e082177ecaf7e900f9a659d073a17cb12cf861286c8c5eb7a5d4a0e4fa37b30\n",
            "  Stored in directory: /root/.cache/pip/wheels/1a/67/4a/ad4082dd7dfc30f2abfe4d80a2ed5926a506eb8a972b4767fa\n",
            "Successfully built seqeval\n",
            "Installing collected packages: seqeval\n",
            "Successfully installed seqeval-1.2.2\n"
          ]
        }
      ],
      "source": [
        "!pip install seqeval"
      ]
    },
    {
      "cell_type": "code",
      "execution_count": 5,
      "metadata": {
        "id": "AfXzHQV14ec7"
      },
      "outputs": [],
      "source": [
        "# loading the libraries\n",
        "from datasets import Dataset\n",
        "from datasets import load_dataset\n",
        "from datasets import load_metric\n",
        "import torch\n",
        "from transformers import AutoModelForTokenClassification\n",
        "from transformers import XLMRobertaTokenizerFast\n",
        "from transformers import DataCollatorForTokenClassification\n",
        "from transformers import TrainingArguments\n",
        "from transformers import Trainer\n",
        "import numpy as np\n",
        "import gc\n",
        "import pickle"
      ]
    },
    {
      "cell_type": "code",
      "execution_count": 8,
      "metadata": {
        "colab": {
          "base_uri": "https://localhost:8080/"
        },
        "id": "JqEixuJR4zPg",
        "outputId": "0daa1fab-7a95-4147-eebf-711c1c4f1779"
      },
      "outputs": [
        {
          "name": "stderr",
          "output_type": "stream",
          "text": [
            "WARNING:datasets.builder:Found cached dataset parquet (/root/.cache/huggingface/datasets/msislam___parquet/msislam--marc-multilingual-encodings-v4-c43196d1408202bb/0.0.0/14a00e99c0d15a23649d0db8944380ac81082d4b021f398733dd84f3a6c569a7)\n",
            "WARNING:datasets.builder:Found cached dataset parquet (/root/.cache/huggingface/datasets/msislam___parquet/msislam--marc-multilingual-encodings-v4-c43196d1408202bb/0.0.0/14a00e99c0d15a23649d0db8944380ac81082d4b021f398733dd84f3a6c569a7)\n",
            "WARNING:datasets.builder:Found cached dataset parquet (/root/.cache/huggingface/datasets/msislam___parquet/msislam--marc-multilingual-encodings-v4-c43196d1408202bb/0.0.0/14a00e99c0d15a23649d0db8944380ac81082d4b021f398733dd84f3a6c569a7)\n"
          ]
        }
      ],
      "source": [
        "# loading the encoded datasets\n",
        "dataset_train = load_dataset(\"msislam/marc-multilingual-encodings-v4\", split = 'train')\n",
        "dataset_test = load_dataset(\"msislam/marc-multilingual-encodings-v4\", split = 'test')\n",
        "dataset_validation = load_dataset(\"msislam/marc-multilingual-encodings-v4\", split = 'validation')"
      ]
    },
    {
      "cell_type": "code",
      "execution_count": 9,
      "metadata": {
        "colab": {
          "base_uri": "https://localhost:8080/"
        },
        "id": "uKpxIv7o8Kps",
        "outputId": "9c244a9a-e590-4002-c8b4-c517b2093a38"
      },
      "outputs": [
        {
          "data": {
            "text/plain": [
              "Dataset({\n",
              "    features: ['input_ids', 'attention_mask', 'labels'],\n",
              "    num_rows: 60000\n",
              "})"
            ]
          },
          "execution_count": 9,
          "metadata": {},
          "output_type": "execute_result"
        }
      ],
      "source": [
        "dataset_train"
      ]
    },
    {
      "cell_type": "code",
      "execution_count": 10,
      "metadata": {
        "colab": {
          "base_uri": "https://localhost:8080/"
        },
        "id": "rAZcb5W4DMgO",
        "outputId": "2b3b6098-12b0-4394-f2bb-e6435eed6efc"
      },
      "outputs": [
        {
          "data": {
            "text/plain": [
              "Dataset({\n",
              "    features: ['input_ids', 'attention_mask', 'labels'],\n",
              "    num_rows: 5000\n",
              "})"
            ]
          },
          "execution_count": 10,
          "metadata": {},
          "output_type": "execute_result"
        }
      ],
      "source": [
        "dataset_test"
      ]
    },
    {
      "cell_type": "code",
      "execution_count": 11,
      "metadata": {
        "colab": {
          "base_uri": "https://localhost:8080/"
        },
        "id": "jhfd16xRDMgP",
        "outputId": "48ffda48-5763-476b-d3b4-e99af6953b30"
      },
      "outputs": [
        {
          "data": {
            "text/plain": [
              "Dataset({\n",
              "    features: ['input_ids', 'attention_mask', 'labels'],\n",
              "    num_rows: 5000\n",
              "})"
            ]
          },
          "execution_count": 11,
          "metadata": {},
          "output_type": "execute_result"
        }
      ],
      "source": [
        "dataset_validation"
      ]
    },
    {
      "cell_type": "code",
      "execution_count": 1,
      "metadata": {
        "id": "zJYABEOa4ec9"
      },
      "outputs": [],
      "source": [
        "# creating the labels\n",
        "label_names = ['I-DE', 'I-EN', 'I-ES', 'I-FR']"
      ]
    },
    {
      "cell_type": "code",
      "execution_count": 13,
      "metadata": {
        "colab": {
          "base_uri": "https://localhost:8080/"
        },
        "id": "ULTJwV4G4ec9",
        "outputId": "28399cd9-6ce9-435f-c323-15a6d522d88f"
      },
      "outputs": [
        {
          "data": {
            "text/plain": [
              "4"
            ]
          },
          "execution_count": 13,
          "metadata": {},
          "output_type": "execute_result"
        }
      ],
      "source": [
        "label_len = len(label_names)\n",
        "label_len"
      ]
    },
    {
      "cell_type": "code",
      "execution_count": 15,
      "metadata": {
        "id": "I1Zulqa-4ec9"
      },
      "outputs": [],
      "source": [
        "# defining the model\n",
        "model_name  = \"xlm-roberta-base\""
      ]
    },
    {
      "cell_type": "code",
      "execution_count": 16,
      "metadata": {
        "colab": {
          "base_uri": "https://localhost:8080/",
          "height": 113,
          "referenced_widgets": [
            "947121a1f8a1458f8589c877a076aed6",
            "4d285ee7fa354890b9a2504069cbb5c4",
            "1d4d7d7b1225458ea83e6b4bac5a04f4",
            "c8eb10a2eac74c9cbaffba7770d4b223",
            "9f7a486584594d5093f2bd3e137c31ae",
            "fb3cf9a258e9423da979fa0ca2bd057d",
            "e8f4d4f2873d4ef7bce370a09713c801",
            "7fb919df41234b04a68f56ed8ba6de3a",
            "b4bc0f8a93d144b4b205ab298335fa34",
            "750047bb1d4744178c3050567d3bca24",
            "7bc89306c5e34beb99e6f3520b9f4a23",
            "4f56314667bc4f928efb6b19a6ed0c0f",
            "4142f7f495d7483c86fbaa35b4a2c029",
            "425ff43a68b64fb488aadc01ee0cce38",
            "d3fcfced67774b6caae7e64e65f828d3",
            "9282af109e694317980da8fa04022349",
            "41137956ae004ad28e51f608188273da",
            "d913c11f769f4a4aa4cdf91111aaee92",
            "6323eced3cc84802b0c791c21c2c51d2",
            "d41a5aeb9860409888ec9c844dbbfbbe",
            "ed0aee2c29d742878e0d19b4baf74cae",
            "5b9657c94b3141fb86f6dd74711dfc7d",
            "fb5c16ae9ee24c3292f85fcc44a97bf1",
            "42078267ccd34adfb577cfdbcee67a7f",
            "c1256a30ef2d4607816433b62ddbd532",
            "25773ae387724c43b4f15407c759b95f",
            "78a656d53c2747ce8cb92336c3714804",
            "fd20ad6592c14a36a24bcad4628b66f5",
            "a45bcf77146645d1aed48de9501704b9",
            "d021b472289f421382352225ed558ba7",
            "9042c852e88a491cb6bc1a56b692087d",
            "43bd8ca259e2496995f8219557a8b6d3",
            "06959f757e754e92bb281b2c0a3fc468"
          ]
        },
        "id": "CvqTn5Dl4ec9",
        "outputId": "7f4f5852-52e1-48e4-da36-3e4974339d07"
      },
      "outputs": [
        {
          "data": {
            "application/vnd.jupyter.widget-view+json": {
              "model_id": "947121a1f8a1458f8589c877a076aed6",
              "version_major": 2,
              "version_minor": 0
            },
            "text/plain": [
              "Downloading (…)tencepiece.bpe.model:   0%|          | 0.00/5.07M [00:00<?, ?B/s]"
            ]
          },
          "metadata": {},
          "output_type": "display_data"
        },
        {
          "data": {
            "application/vnd.jupyter.widget-view+json": {
              "model_id": "4f56314667bc4f928efb6b19a6ed0c0f",
              "version_major": 2,
              "version_minor": 0
            },
            "text/plain": [
              "Downloading (…)/main/tokenizer.json:   0%|          | 0.00/9.10M [00:00<?, ?B/s]"
            ]
          },
          "metadata": {},
          "output_type": "display_data"
        },
        {
          "data": {
            "application/vnd.jupyter.widget-view+json": {
              "model_id": "fb5c16ae9ee24c3292f85fcc44a97bf1",
              "version_major": 2,
              "version_minor": 0
            },
            "text/plain": [
              "Downloading (…)lve/main/config.json:   0%|          | 0.00/615 [00:00<?, ?B/s]"
            ]
          },
          "metadata": {},
          "output_type": "display_data"
        }
      ],
      "source": [
        "# defining the tokenizer\n",
        "tokenizer = XLMRobertaTokenizerFast.from_pretrained(model_name, add_prefix_space=True)"
      ]
    },
    {
      "cell_type": "code",
      "execution_count": 17,
      "metadata": {
        "id": "OriSCOYb4ec9"
      },
      "outputs": [],
      "source": [
        "# defining data collator\n",
        "data_collator = DataCollatorForTokenClassification(tokenizer=tokenizer)"
      ]
    },
    {
      "cell_type": "code",
      "execution_count": 20,
      "metadata": {
        "colab": {
          "base_uri": "https://localhost:8080/",
          "height": 105,
          "referenced_widgets": [
            "ee10d9d64b9046fe80986f0243548b75",
            "8af4a8fb7c654ae78a60c740a6d139f1",
            "552b8aae5a924980bcd4caa0ead8ad1f",
            "9c5134ec4be34305a1d3193531138679",
            "927f8093ad4144bf8f0ae449fd96b691",
            "552c4971dc354a96b45d7b40af366d36",
            "b2d6b57c90a94166adafc7164c131a23",
            "1372dc55d84d4a188a1c59885496107d",
            "1a1ffbadd5ce473e8ea947b9a4a068c5",
            "45885f9b38de4d7abc971976ca4899eb",
            "ca95c654ea804bc18a902d103b0266a7"
          ]
        },
        "id": "SQ2826Fl4ec-",
        "outputId": "981de7cd-4516-4941-93ca-c20a24f4554b"
      },
      "outputs": [
        {
          "name": "stderr",
          "output_type": "stream",
          "text": [
            "<ipython-input-20-e20ba34f8cc7>:1: FutureWarning: load_metric is deprecated and will be removed in the next major version of datasets. Use 'evaluate.load' instead, from the new library 🤗 Evaluate: https://huggingface.co/docs/evaluate\n",
            "  metric = load_metric(\"seqeval\")\n"
          ]
        },
        {
          "data": {
            "application/vnd.jupyter.widget-view+json": {
              "model_id": "ee10d9d64b9046fe80986f0243548b75",
              "version_major": 2,
              "version_minor": 0
            },
            "text/plain": [
              "Downloading builder script:   0%|          | 0.00/2.47k [00:00<?, ?B/s]"
            ]
          },
          "metadata": {},
          "output_type": "display_data"
        }
      ],
      "source": [
        "# defining the metric\n",
        "metric = load_metric(\"seqeval\")"
      ]
    },
    {
      "cell_type": "code",
      "execution_count": 21,
      "metadata": {
        "id": "ZMeMOoao4ec-"
      },
      "outputs": [],
      "source": [
        "# creating id attaching the the labels and vice versa\n",
        "id2label = {id : label for id, label in enumerate(label_names)}\n",
        "label2id = {label: id for id, label in enumerate(label_names)}"
      ]
    },
    {
      "cell_type": "code",
      "execution_count": 22,
      "metadata": {
        "colab": {
          "base_uri": "https://localhost:8080/"
        },
        "id": "ndaAQd5v4ec-",
        "outputId": "68825521-72b3-4803-c634-8c11b1a673da"
      },
      "outputs": [
        {
          "data": {
            "text/plain": [
              "{0: 'I-DE', 1: 'I-EN', 2: 'I-ES', 3: 'I-FR'}"
            ]
          },
          "execution_count": 22,
          "metadata": {},
          "output_type": "execute_result"
        }
      ],
      "source": [
        "id2label"
      ]
    },
    {
      "cell_type": "code",
      "execution_count": 23,
      "metadata": {
        "colab": {
          "base_uri": "https://localhost:8080/"
        },
        "id": "fVVl8Y_e4ec-",
        "outputId": "7a887ae3-3d0c-43cb-f84b-7f233e01a829"
      },
      "outputs": [
        {
          "data": {
            "text/plain": [
              "{'I-DE': 0, 'I-EN': 1, 'I-ES': 2, 'I-FR': 3}"
            ]
          },
          "execution_count": 23,
          "metadata": {},
          "output_type": "execute_result"
        }
      ],
      "source": [
        "label2id"
      ]
    },
    {
      "cell_type": "code",
      "execution_count": 24,
      "metadata": {
        "id": "YBdn54-h4ec-"
      },
      "outputs": [],
      "source": [
        "# function to calculate the metrics\n",
        "def compute_metrics(eval_preds):\n",
        "    logits, labels = eval_preds\n",
        "    predictions = np.argmax(logits, axis=-1)\n",
        "\n",
        "    # Remove ignored index (special tokens) and convert to labels\n",
        "    true_labels = [[label_names[l] for l in label if l != -100] for label in labels]\n",
        "    true_predictions = [\n",
        "        [label_names[p] for (p, l) in zip(prediction, label) if l != -100]\n",
        "        for prediction, label in zip(predictions, labels)\n",
        "    ]\n",
        "    all_metrics = metric.compute(predictions=true_predictions, references=true_labels)\n",
        "    print(all_metrics)\n",
        "    return {\n",
        "        \"precision\": all_metrics[\"overall_precision\"],\n",
        "        \"recall\": all_metrics[\"overall_recall\"],\n",
        "        \"f1\": all_metrics[\"overall_f1\"],\n",
        "        \"accuracy\": all_metrics[\"overall_accuracy\"],\n",
        "    }"
      ]
    },
    {
      "cell_type": "code",
      "execution_count": 25,
      "metadata": {
        "id": "3rZchw974ec_"
      },
      "outputs": [],
      "source": [
        "# defining garbage collector\n",
        "gc.collect()\n",
        "torch.cuda.empty_cache()"
      ]
    },
    {
      "cell_type": "code",
      "execution_count": 26,
      "metadata": {
        "colab": {
          "base_uri": "https://localhost:8080/",
          "height": 158,
          "referenced_widgets": [
            "0a4e9f3e097e47589693da4134fa4e95",
            "a20a3344f0f14a5c8b991fc41a16a4d0",
            "7320c021543e41b2aa50940b12394816",
            "058fcba27c4b44d2b09a966d42822429",
            "b3f3da532e414a739b98b244a6967d34",
            "6b11b40c098d4a34a293707c43543bcf",
            "3cec33a81e17426ab55a09626d9137b0",
            "48666dbff80549a6a6f38c7362138d26",
            "2a4df430e74240a1942edd0d0f3c1e18",
            "8e430cc6f6694bd09db20492b3dc5915",
            "f3f8bc6975d44308b6662910c0ab64b1"
          ]
        },
        "id": "GTR6X-yk4ec_",
        "outputId": "169bb5e9-f626-4364-fab5-59353db5c58a"
      },
      "outputs": [
        {
          "data": {
            "application/vnd.jupyter.widget-view+json": {
              "model_id": "0a4e9f3e097e47589693da4134fa4e95",
              "version_major": 2,
              "version_minor": 0
            },
            "text/plain": [
              "Downloading model.safetensors:   0%|          | 0.00/1.12G [00:00<?, ?B/s]"
            ]
          },
          "metadata": {},
          "output_type": "display_data"
        },
        {
          "name": "stderr",
          "output_type": "stream",
          "text": [
            "Some weights of the model checkpoint at xlm-roberta-base were not used when initializing XLMRobertaForTokenClassification: ['lm_head.layer_norm.bias', 'lm_head.dense.bias', 'lm_head.dense.weight', 'lm_head.bias', 'lm_head.layer_norm.weight']\n",
            "- This IS expected if you are initializing XLMRobertaForTokenClassification from the checkpoint of a model trained on another task or with another architecture (e.g. initializing a BertForSequenceClassification model from a BertForPreTraining model).\n",
            "- This IS NOT expected if you are initializing XLMRobertaForTokenClassification from the checkpoint of a model that you expect to be exactly identical (initializing a BertForSequenceClassification model from a BertForSequenceClassification model).\n",
            "Some weights of XLMRobertaForTokenClassification were not initialized from the model checkpoint at xlm-roberta-base and are newly initialized: ['classifier.bias', 'classifier.weight']\n",
            "You should probably TRAIN this model on a down-stream task to be able to use it for predictions and inference.\n"
          ]
        }
      ],
      "source": [
        "# creating the model with GPU access\n",
        "model = AutoModelForTokenClassification.from_pretrained(model_name, num_labels=label_len,id2label=id2label,label2id=label2id).cuda()"
      ]
    },
    {
      "cell_type": "code",
      "execution_count": 27,
      "metadata": {
        "colab": {
          "base_uri": "https://localhost:8080/"
        },
        "id": "3W1y0DFu4ec_",
        "outputId": "9861339d-f593-4bf6-9c96-d10dae71024c"
      },
      "outputs": [
        {
          "data": {
            "text/plain": [
              "XLMRobertaConfig {\n",
              "  \"_name_or_path\": \"xlm-roberta-base\",\n",
              "  \"architectures\": [\n",
              "    \"XLMRobertaForMaskedLM\"\n",
              "  ],\n",
              "  \"attention_probs_dropout_prob\": 0.1,\n",
              "  \"bos_token_id\": 0,\n",
              "  \"classifier_dropout\": null,\n",
              "  \"eos_token_id\": 2,\n",
              "  \"hidden_act\": \"gelu\",\n",
              "  \"hidden_dropout_prob\": 0.1,\n",
              "  \"hidden_size\": 768,\n",
              "  \"id2label\": {\n",
              "    \"0\": \"I-DE\",\n",
              "    \"1\": \"I-EN\",\n",
              "    \"2\": \"I-ES\",\n",
              "    \"3\": \"I-FR\"\n",
              "  },\n",
              "  \"initializer_range\": 0.02,\n",
              "  \"intermediate_size\": 3072,\n",
              "  \"label2id\": {\n",
              "    \"I-DE\": 0,\n",
              "    \"I-EN\": 1,\n",
              "    \"I-ES\": 2,\n",
              "    \"I-FR\": 3\n",
              "  },\n",
              "  \"layer_norm_eps\": 1e-05,\n",
              "  \"max_position_embeddings\": 514,\n",
              "  \"model_type\": \"xlm-roberta\",\n",
              "  \"num_attention_heads\": 12,\n",
              "  \"num_hidden_layers\": 12,\n",
              "  \"output_past\": true,\n",
              "  \"pad_token_id\": 1,\n",
              "  \"position_embedding_type\": \"absolute\",\n",
              "  \"transformers_version\": \"4.30.2\",\n",
              "  \"type_vocab_size\": 1,\n",
              "  \"use_cache\": true,\n",
              "  \"vocab_size\": 250002\n",
              "}"
            ]
          },
          "execution_count": 27,
          "metadata": {},
          "output_type": "execute_result"
        }
      ],
      "source": [
        "# model configuration\n",
        "model.config"
      ]
    },
    {
      "cell_type": "code",
      "execution_count": 28,
      "metadata": {
        "colab": {
          "base_uri": "https://localhost:8080/"
        },
        "id": "RuF4lMeR4ec_",
        "outputId": "ed41e772-44f1-4e5c-865f-de4a61578218"
      },
      "outputs": [
        {
          "data": {
            "text/plain": [
              "277456132"
            ]
          },
          "execution_count": 28,
          "metadata": {},
          "output_type": "execute_result"
        }
      ],
      "source": [
        "# number of model parameters\n",
        "model.num_parameters()"
      ]
    },
    {
      "cell_type": "code",
      "execution_count": 29,
      "metadata": {
        "colab": {
          "base_uri": "https://localhost:8080/"
        },
        "id": "pDijAvN34ec_",
        "outputId": "6ed7b18d-d196-41dc-d8f5-b9e42bdd2a1a"
      },
      "outputs": [
        {
          "data": {
            "text/plain": [
              "{0: 'I-DE', 1: 'I-EN', 2: 'I-ES', 3: 'I-FR'}"
            ]
          },
          "execution_count": 29,
          "metadata": {},
          "output_type": "execute_result"
        }
      ],
      "source": [
        "model.config.id2label"
      ]
    },
    {
      "cell_type": "code",
      "execution_count": 30,
      "metadata": {
        "id": "KmOceSoa4ec_"
      },
      "outputs": [],
      "source": [
        "# setting up the training arguments\n",
        "training_args = TrainingArguments(\n",
        "    output_dir=\"./results\",\n",
        "    #save_strategy= \"epoch\",\n",
        "    save_strategy = \"steps\",\n",
        "    save_steps = 2500,\n",
        "    evaluation_strategy=\"steps\",\n",
        "    eval_steps = 2500,\n",
        "    logging_strategy = \"steps\",\n",
        "    logging_steps = 2500,\n",
        "    remove_unused_columns = False,\n",
        "    #evaluation_strategy=\"epoch\",\n",
        "    learning_rate= 2e-5,\n",
        "    auto_find_batch_size = True,\n",
        "    #per_device_train_batch_size = 4,\n",
        "    #per_device_eval_batch_size = 4,\n",
        "    num_train_epochs=5,\n",
        "    weight_decay=0.01,\n",
        "    report_to=\"none\",\n",
        "    fp16=True,\n",
        "    #use_mps_device = True,\n",
        "    metric_for_best_model=\"f1\",\n",
        "    load_best_model_at_end=True\n",
        ")"
      ]
    },
    {
      "cell_type": "code",
      "execution_count": 31,
      "metadata": {
        "colab": {
          "base_uri": "https://localhost:8080/"
        },
        "id": "ZdChYXy3XbXZ",
        "outputId": "8bb3115b-4af5-459a-995d-7a5269370c18"
      },
      "outputs": [
        {
          "data": {
            "text/plain": [
              "Dataset({\n",
              "    features: ['input_ids', 'attention_mask', 'labels'],\n",
              "    num_rows: 60000\n",
              "})"
            ]
          },
          "execution_count": 31,
          "metadata": {},
          "output_type": "execute_result"
        }
      ],
      "source": [
        "dataset_train"
      ]
    },
    {
      "cell_type": "code",
      "execution_count": 32,
      "metadata": {
        "id": "XnkMTUC54ec_"
      },
      "outputs": [],
      "source": [
        "# setting up the trainer\n",
        "trainer = Trainer(\n",
        "    model=model,\n",
        "    args=training_args,\n",
        "    train_dataset=dataset_train,\n",
        "    eval_dataset=dataset_validation,\n",
        "    tokenizer=tokenizer,\n",
        "    data_collator=data_collator,\n",
        "    compute_metrics=compute_metrics,\n",
        "    #callbacks=[log_history_callback]\n",
        ")"
      ]
    },
    {
      "cell_type": "code",
      "execution_count": 33,
      "metadata": {
        "colab": {
          "base_uri": "https://localhost:8080/",
          "height": 941
        },
        "id": "lBplsq5J4ec_",
        "outputId": "5ec0b353-d6f4-47a2-c8f1-819baf61e869"
      },
      "outputs": [
        {
          "name": "stderr",
          "output_type": "stream",
          "text": [
            "/usr/local/lib/python3.10/dist-packages/transformers/optimization.py:411: FutureWarning: This implementation of AdamW is deprecated and will be removed in a future version. Use the PyTorch implementation torch.optim.AdamW instead, or set `no_deprecation_warning=True` to disable this warning\n",
            "  warnings.warn(\n",
            "You're using a XLMRobertaTokenizerFast tokenizer. Please note that with a fast tokenizer, using the `__call__` method is faster than using a method to encode the text followed by a call to the `pad` method to get a padded encoding.\n"
          ]
        },
        {
          "data": {
            "text/html": [
              "\n",
              "    <div>\n",
              "      \n",
              "      <progress value='37500' max='37500' style='width:300px; height:20px; vertical-align: middle;'></progress>\n",
              "      [37500/37500 3:22:11, Epoch 5/5]\n",
              "    </div>\n",
              "    <table border=\"1\" class=\"dataframe\">\n",
              "  <thead>\n",
              " <tr style=\"text-align: left;\">\n",
              "      <th>Step</th>\n",
              "      <th>Training Loss</th>\n",
              "      <th>Validation Loss</th>\n",
              "      <th>Precision</th>\n",
              "      <th>Recall</th>\n",
              "      <th>F1</th>\n",
              "      <th>Accuracy</th>\n",
              "    </tr>\n",
              "  </thead>\n",
              "  <tbody>\n",
              "    <tr>\n",
              "      <td>2500</td>\n",
              "      <td>0.018700</td>\n",
              "      <td>0.005186</td>\n",
              "      <td>0.978588</td>\n",
              "      <td>0.978614</td>\n",
              "      <td>0.978601</td>\n",
              "      <td>0.998653</td>\n",
              "    </tr>\n",
              "    <tr>\n",
              "      <td>5000</td>\n",
              "      <td>0.005500</td>\n",
              "      <td>0.003667</td>\n",
              "      <td>0.979501</td>\n",
              "      <td>0.981860</td>\n",
              "      <td>0.980679</td>\n",
              "      <td>0.998867</td>\n",
              "    </tr>\n",
              "    <tr>\n",
              "      <td>7500</td>\n",
              "      <td>0.004600</td>\n",
              "      <td>0.005106</td>\n",
              "      <td>0.977785</td>\n",
              "      <td>0.981624</td>\n",
              "      <td>0.979701</td>\n",
              "      <td>0.998938</td>\n",
              "    </tr>\n",
              "    <tr>\n",
              "      <td>10000</td>\n",
              "      <td>0.003300</td>\n",
              "      <td>0.003168</td>\n",
              "      <td>0.984362</td>\n",
              "      <td>0.985367</td>\n",
              "      <td>0.984865</td>\n",
              "      <td>0.999139</td>\n",
              "    </tr>\n",
              "    <tr>\n",
              "      <td>12500</td>\n",
              "      <td>0.002900</td>\n",
              "      <td>0.003504</td>\n",
              "      <td>0.982344</td>\n",
              "      <td>0.984556</td>\n",
              "      <td>0.983449</td>\n",
              "      <td>0.998940</td>\n",
              "    </tr>\n",
              "    <tr>\n",
              "      <td>15000</td>\n",
              "      <td>0.003300</td>\n",
              "      <td>0.002936</td>\n",
              "      <td>0.987096</td>\n",
              "      <td>0.987200</td>\n",
              "      <td>0.987148</td>\n",
              "      <td>0.999256</td>\n",
              "    </tr>\n",
              "    <tr>\n",
              "      <td>17500</td>\n",
              "      <td>0.002100</td>\n",
              "      <td>0.002834</td>\n",
              "      <td>0.986009</td>\n",
              "      <td>0.986990</td>\n",
              "      <td>0.986500</td>\n",
              "      <td>0.999206</td>\n",
              "    </tr>\n",
              "    <tr>\n",
              "      <td>20000</td>\n",
              "      <td>0.003500</td>\n",
              "      <td>0.002912</td>\n",
              "      <td>0.987001</td>\n",
              "      <td>0.987828</td>\n",
              "      <td>0.987414</td>\n",
              "      <td>0.999266</td>\n",
              "    </tr>\n",
              "    <tr>\n",
              "      <td>22500</td>\n",
              "      <td>0.002200</td>\n",
              "      <td>0.002848</td>\n",
              "      <td>0.988217</td>\n",
              "      <td>0.987933</td>\n",
              "      <td>0.988075</td>\n",
              "      <td>0.999280</td>\n",
              "    </tr>\n",
              "    <tr>\n",
              "      <td>25000</td>\n",
              "      <td>0.001400</td>\n",
              "      <td>0.002810</td>\n",
              "      <td>0.987780</td>\n",
              "      <td>0.988168</td>\n",
              "      <td>0.987974</td>\n",
              "      <td>0.999332</td>\n",
              "    </tr>\n",
              "    <tr>\n",
              "      <td>27500</td>\n",
              "      <td>0.001200</td>\n",
              "      <td>0.002751</td>\n",
              "      <td>0.989108</td>\n",
              "      <td>0.988901</td>\n",
              "      <td>0.989005</td>\n",
              "      <td>0.999364</td>\n",
              "    </tr>\n",
              "    <tr>\n",
              "      <td>30000</td>\n",
              "      <td>0.001600</td>\n",
              "      <td>0.003100</td>\n",
              "      <td>0.985871</td>\n",
              "      <td>0.988116</td>\n",
              "      <td>0.986992</td>\n",
              "      <td>0.999317</td>\n",
              "    </tr>\n",
              "    <tr>\n",
              "      <td>32500</td>\n",
              "      <td>0.000800</td>\n",
              "      <td>0.003035</td>\n",
              "      <td>0.986180</td>\n",
              "      <td>0.988142</td>\n",
              "      <td>0.987160</td>\n",
              "      <td>0.999324</td>\n",
              "    </tr>\n",
              "    <tr>\n",
              "      <td>35000</td>\n",
              "      <td>0.001100</td>\n",
              "      <td>0.002844</td>\n",
              "      <td>0.987764</td>\n",
              "      <td>0.988953</td>\n",
              "      <td>0.988358</td>\n",
              "      <td>0.999363</td>\n",
              "    </tr>\n",
              "    <tr>\n",
              "      <td>37500</td>\n",
              "      <td>0.000900</td>\n",
              "      <td>0.002769</td>\n",
              "      <td>0.989715</td>\n",
              "      <td>0.989922</td>\n",
              "      <td>0.989818</td>\n",
              "      <td>0.999425</td>\n",
              "    </tr>\n",
              "  </tbody>\n",
              "</table><p>"
            ],
            "text/plain": [
              "<IPython.core.display.HTML object>"
            ]
          },
          "metadata": {},
          "output_type": "display_data"
        },
        {
          "name": "stdout",
          "output_type": "stream",
          "text": [
            "{'DE': {'precision': 0.9795013850415513, 'recall': 0.9772455089820359, 'f1': 0.9783721466451465, 'number': 10855}, 'EN': {'precision': 0.9828953655040612, 'recall': 0.9834592217229181, 'f1': 0.9831772127700248, 'number': 10459}, 'ES': {'precision': 0.9744017144898203, 'recall': 0.981883623275345, 'f1': 0.9781283614198638, 'number': 8335}, 'FR': {'precision': 0.9762604301328006, 'recall': 0.9712381620484041, 'f1': 0.9737428203024265, 'number': 8553}, 'overall_precision': 0.9785880689998168, 'overall_recall': 0.9786136851473745, 'overall_f1': 0.9786008769059615, 'overall_accuracy': 0.9986532346100907}\n",
            "{'DE': {'precision': 0.974217818148454, 'recall': 0.9781667434362045, 'f1': 0.9761882872115473, 'number': 10855}, 'EN': {'precision': 0.9830152671755725, 'recall': 0.9849890046849603, 'f1': 0.9840011461865419, 'number': 10459}, 'ES': {'precision': 0.9844106007914618, 'recall': 0.984883023395321, 'f1': 0.9846467554276119, 'number': 8335}, 'FR': {'precision': 0.9771455223880597, 'recall': 0.97977317900152, 'f1': 0.9784575865491272, 'number': 8553}, 'overall_precision': 0.9795007050712905, 'overall_recall': 0.9818595885032197, 'overall_f1': 0.980678728299519, 'overall_accuracy': 0.9988668185485785}\n",
            "{'DE': {'precision': 0.9723817336614712, 'recall': 0.9827729157070474, 'f1': 0.9775497113534317, 'number': 10855}, 'EN': {'precision': 0.9839893262174784, 'recall': 0.987188067692896, 'f1': 0.9855861015654829, 'number': 10459}, 'ES': {'precision': 0.9768390735629425, 'recall': 0.9766046790641871, 'f1': 0.97672186225102, 'number': 8335}, 'FR': {'precision': 0.9780245470485096, 'recall': 0.9782532444756226, 'f1': 0.9781388823942015, 'number': 8553}, 'overall_precision': 0.977784730913642, 'overall_recall': 0.9816239987435212, 'overall_f1': 0.9797006034955716, 'overall_accuracy': 0.9989380131947411}\n",
            "{'DE': {'precision': 0.9844110321926022, 'recall': 0.9831414094887149, 'f1': 0.9837758112094396, 'number': 10855}, 'EN': {'precision': 0.9855100095328885, 'recall': 0.9884310163495554, 'f1': 0.9869683517112988, 'number': 10459}, 'ES': {'precision': 0.989058554767344, 'recall': 0.9869226154769046, 'f1': 0.9879894306990152, 'number': 8335}, 'FR': {'precision': 0.9783544745723263, 'recall': 0.9829299660937683, 'f1': 0.980636883238073, 'number': 8553}, 'overall_precision': 0.9843623336209827, 'overall_recall': 0.98536725825873, 'overall_f1': 0.9848645395915911, 'overall_accuracy': 0.9991385447814325}\n",
            "{'DE': {'precision': 0.9834946980175195, 'recall': 0.9825886688162138, 'f1': 0.9830414746543779, 'number': 10855}, 'EN': {'precision': 0.986791730474732, 'recall': 0.9857538961659814, 'f1': 0.986272540297508, 'number': 10459}, 'ES': {'precision': 0.9882536257940788, 'recall': 0.9892021595680864, 'f1': 0.9887276651876724, 'number': 8335}, 'FR': {'precision': 0.9698335644937587, 'recall': 0.98105927744651, 'f1': 0.9754141238012206, 'number': 8553}, 'overall_precision': 0.9823443376514835, 'overall_recall': 0.9845557824197686, 'overall_f1': 0.9834488168388025, 'overall_accuracy': 0.9989403863496131}\n",
            "{'DE': {'precision': 0.9846224677716391, 'recall': 0.9850760018424689, 'f1': 0.9848491825926778, 'number': 10855}, 'EN': {'precision': 0.9903404743687835, 'recall': 0.9900564107467253, 'f1': 0.9901984221850347, 'number': 10459}, 'ES': {'precision': 0.98991475567295, 'recall': 0.9892021595680864, 'f1': 0.9895583293326933, 'number': 8335}, 'FR': {'precision': 0.9835299614531012, 'recall': 0.9844499006196656, 'f1': 0.9839897160219704, 'number': 8553}, 'overall_precision': 0.9870962676019474, 'overall_recall': 0.9871996230563845, 'overall_f1': 0.9871479426238091, 'overall_accuracy': 0.9992560159476007}\n",
            "{'DE': {'precision': 0.9852452969383991, 'recall': 0.9842468908337172, 'f1': 0.9847458408221578, 'number': 10855}, 'EN': {'precision': 0.9880793438870875, 'recall': 0.9906300793574911, 'f1': 0.9893530675578895, 'number': 10459}, 'ES': {'precision': 0.9889635316698656, 'recall': 0.9890821835632874, 'f1': 0.9890228540579449, 'number': 8335}, 'FR': {'precision': 0.9815721950081642, 'recall': 0.983982228457851, 'f1': 0.9827757342208209, 'number': 8553}, 'overall_precision': 0.9860094142259415, 'overall_recall': 0.9869902099366525, 'overall_f1': 0.9864995683001492, 'overall_accuracy': 0.9992061796952869}\n",
            "{'DE': {'precision': 0.9848261909141071, 'recall': 0.9865499769691386, 'f1': 0.9856873302959178, 'number': 10855}, 'EN': {'precision': 0.9901689414908847, 'recall': 0.9918730280141504, 'f1': 0.9910202521971724, 'number': 10459}, 'ES': {'precision': 0.9899135446685879, 'recall': 0.9890821835632874, 'f1': 0.9894976894916883, 'number': 8335}, 'FR': {'precision': 0.9830508474576272, 'recall': 0.9832807202151292, 'f1': 0.983165770399813, 'number': 8553}, 'overall_precision': 0.9870010984987184, 'overall_recall': 0.9878278624155803, 'overall_f1': 0.9874143073944214, 'overall_accuracy': 0.9992655085670891}\n",
            "{'DE': {'precision': 0.985545939974222, 'recall': 0.9861814831874712, 'f1': 0.9858636091541189, 'number': 10855}, 'EN': {'precision': 0.9907336645013374, 'recall': 0.9915861937087675, 'f1': 0.9911597457829597, 'number': 10459}, 'ES': {'precision': 0.9922993622909397, 'recall': 0.9894421115776845, 'f1': 0.990868677159678, 'number': 8335}, 'FR': {'precision': 0.984561403508772, 'recall': 0.9842160645387583, 'f1': 0.9843887037361867, 'number': 8553}, 'overall_precision': 0.9882171192165693, 'overall_recall': 0.9879325689754463, 'overall_f1': 0.988074823609493, 'overall_accuracy': 0.9992797474963216}\n",
            "{'DE': {'precision': 0.9872658484820522, 'recall': 0.98562874251497, 'f1': 0.9864466162640605, 'number': 10855}, 'EN': {'precision': 0.9896995708154507, 'recall': 0.9921598623195335, 'f1': 0.9909281894576013, 'number': 10459}, 'ES': {'precision': 0.9912291241139012, 'recall': 0.9898020395920816, 'f1': 0.9905150678352743, 'number': 8335}, 'FR': {'precision': 0.9827344843677088, 'recall': 0.9849175727814802, 'f1': 0.9838248175182481, 'number': 8553}, 'overall_precision': 0.9877803071931339, 'overall_recall': 0.9881681587351447, 'overall_f1': 0.9879741948991743, 'overall_accuracy': 0.9993319569035075}\n",
            "{'DE': {'precision': 0.9883828139406232, 'recall': 0.987563334868724, 'f1': 0.9879729044744482, 'number': 10855}, 'EN': {'precision': 0.9910279660208074, 'recall': 0.9927335309302993, 'f1': 0.9918800152846771, 'number': 10459}, 'ES': {'precision': 0.991467371710131, 'recall': 0.9898020395920816, 'f1': 0.9906340057636889, 'number': 8335}, 'FR': {'precision': 0.9853801169590644, 'recall': 0.9850344908219338, 'f1': 0.9852072735777349, 'number': 8553}, 'overall_precision': 0.9891082368958475, 'overall_recall': 0.9889011046542066, 'overall_f1': 0.9890046599298391, 'overall_accuracy': 0.9993639944942807}\n",
            "{'DE': {'precision': 0.982175670709298, 'recall': 0.9847996315062183, 'f1': 0.9834859009154054, 'number': 10855}, 'EN': {'precision': 0.9876284735439665, 'recall': 0.992255473754661, 'f1': 0.9899365669862165, 'number': 10459}, 'ES': {'precision': 0.9905207583393328, 'recall': 0.9904019196160768, 'f1': 0.9904613354130423, 'number': 8335}, 'FR': {'precision': 0.9838841527502044, 'recall': 0.9850344908219338, 'f1': 0.9844589857443328, 'number': 8553}, 'overall_precision': 0.9858706155814986, 'overall_recall': 0.9881158054552117, 'overall_f1': 0.9869919336915453, 'overall_accuracy': 0.999316531396839}\n",
            "{'DE': {'precision': 0.9811632821832216, 'recall': 0.983694150161216, 'f1': 0.982427086208483, 'number': 10855}, 'EN': {'precision': 0.9891387195121951, 'recall': 0.9926379194951717, 'f1': 0.990885230255309, 'number': 10459}, 'ES': {'precision': 0.9902796111844474, 'recall': 0.9900419916016797, 'f1': 0.990160787137029, 'number': 8335}, 'FR': {'precision': 0.9849404622927854, 'recall': 0.9864375073073776, 'f1': 0.9856884163794615, 'number': 8553}, 'overall_precision': 0.9861800512043472, 'overall_recall': 0.9881419820951782, 'overall_f1': 0.9871600418410043, 'overall_accuracy': 0.9993236508614552}\n",
            "{'DE': {'precision': 0.984360625574977, 'recall': 0.9857208659603869, 'f1': 0.9850402761795166, 'number': 10855}, 'EN': {'precision': 0.9904643844760179, 'recall': 0.9931159766708099, 'f1': 0.9917884082879785, 'number': 10459}, 'ES': {'precision': 0.9912375465130236, 'recall': 0.9907618476304739, 'f1': 0.9909996399855995, 'number': 8335}, 'FR': {'precision': 0.9853971962616822, 'recall': 0.9862036712264702, 'f1': 0.985800268801496, 'number': 8553}, 'overall_precision': 0.9877640660949593, 'overall_recall': 0.9889534579341396, 'overall_f1': 0.9883584041857423, 'overall_accuracy': 0.9993628079168446}\n",
            "{'DE': {'precision': 0.988663594470046, 'recall': 0.9882081989866421, 'f1': 0.9884358442755126, 'number': 10855}, 'EN': {'precision': 0.9914113942170054, 'recall': 0.9933071995410652, 'f1': 0.9923583914413985, 'number': 10459}, 'ES': {'precision': 0.9915956297274583, 'recall': 0.990881823635273, 'f1': 0.9912385981757081, 'number': 8335}, 'FR': {'precision': 0.9871375116931712, 'recall': 0.9870220975096458, 'f1': 0.9870798012277112, 'number': 8553}, 'overall_precision': 0.9897147343627323, 'overall_recall': 0.9899219936128999, 'overall_f1': 0.9898183531382506, 'overall_accuracy': 0.999424509943519}\n"
          ]
        },
        {
          "data": {
            "text/plain": [
              "TrainOutput(global_step=37500, training_loss=0.0035408822377522788, metrics={'train_runtime': 12132.8604, 'train_samples_per_second': 24.726, 'train_steps_per_second': 3.091, 'total_flos': 4.531428232585574e+16, 'train_loss': 0.0035408822377522788, 'epoch': 5.0})"
            ]
          },
          "execution_count": 33,
          "metadata": {},
          "output_type": "execute_result"
        }
      ],
      "source": [
        "# initiating the training\n",
        "trainer.train()"
      ]
    },
    {
      "cell_type": "code",
      "execution_count": 34,
      "metadata": {
        "colab": {
          "base_uri": "https://localhost:8080/",
          "height": 35
        },
        "id": "BaLIjH674edA",
        "outputId": "bcce2956-1f71-4deb-82d9-4e03b4154c25"
      },
      "outputs": [
        {
          "data": {
            "application/vnd.google.colaboratory.intrinsic+json": {
              "type": "string"
            },
            "text/plain": [
              "'./results/checkpoint-37500'"
            ]
          },
          "execution_count": 34,
          "metadata": {},
          "output_type": "execute_result"
        }
      ],
      "source": [
        "trainer.state.best_model_checkpoint"
      ]
    },
    {
      "cell_type": "code",
      "execution_count": 39,
      "metadata": {
        "id": "ucwbXEMQ705O"
      },
      "outputs": [],
      "source": [
        "# saving the best model\n",
        "trainer.save_model('results/checkpoint-best/')"
      ]
    },
    {
      "cell_type": "code",
      "execution_count": 41,
      "metadata": {
        "id": "WU524XFL7SYY"
      },
      "outputs": [],
      "source": [
        "# loading the training arguments of the best model\n",
        "import pickle\n",
        "with open(\"results/checkpoint-best/training_args.pkl\", 'wb') as f:\n",
        "    pickle.dump(obj=trainer.args, file=f)"
      ]
    },
    {
      "cell_type": "code",
      "execution_count": 42,
      "metadata": {
        "colab": {
          "base_uri": "https://localhost:8080/"
        },
        "id": "R6nc3ebY8-vJ",
        "outputId": "cac49767-528c-48fa-9a99-9c4269d20f2a"
      },
      "outputs": [
        {
          "data": {
            "text/plain": [
              "TrainingArguments(\n",
              "_n_gpu=1,\n",
              "adafactor=False,\n",
              "adam_beta1=0.9,\n",
              "adam_beta2=0.999,\n",
              "adam_epsilon=1e-08,\n",
              "auto_find_batch_size=True,\n",
              "bf16=False,\n",
              "bf16_full_eval=False,\n",
              "data_seed=None,\n",
              "dataloader_drop_last=False,\n",
              "dataloader_num_workers=0,\n",
              "dataloader_pin_memory=True,\n",
              "ddp_backend=None,\n",
              "ddp_bucket_cap_mb=None,\n",
              "ddp_find_unused_parameters=None,\n",
              "ddp_timeout=1800,\n",
              "debug=[],\n",
              "deepspeed=None,\n",
              "disable_tqdm=False,\n",
              "do_eval=True,\n",
              "do_predict=False,\n",
              "do_train=False,\n",
              "eval_accumulation_steps=None,\n",
              "eval_delay=0,\n",
              "eval_steps=2500,\n",
              "evaluation_strategy=steps,\n",
              "fp16=True,\n",
              "fp16_backend=auto,\n",
              "fp16_full_eval=False,\n",
              "fp16_opt_level=O1,\n",
              "fsdp=[],\n",
              "fsdp_config={'fsdp_min_num_params': 0, 'xla': False, 'xla_fsdp_grad_ckpt': False},\n",
              "fsdp_min_num_params=0,\n",
              "fsdp_transformer_layer_cls_to_wrap=None,\n",
              "full_determinism=False,\n",
              "gradient_accumulation_steps=1,\n",
              "gradient_checkpointing=False,\n",
              "greater_is_better=True,\n",
              "group_by_length=False,\n",
              "half_precision_backend=auto,\n",
              "hub_model_id=None,\n",
              "hub_private_repo=False,\n",
              "hub_strategy=every_save,\n",
              "hub_token=<HUB_TOKEN>,\n",
              "ignore_data_skip=False,\n",
              "include_inputs_for_metrics=False,\n",
              "jit_mode_eval=False,\n",
              "label_names=None,\n",
              "label_smoothing_factor=0.0,\n",
              "learning_rate=2e-05,\n",
              "length_column_name=length,\n",
              "load_best_model_at_end=True,\n",
              "local_rank=0,\n",
              "log_level=passive,\n",
              "log_level_replica=warning,\n",
              "log_on_each_node=True,\n",
              "logging_dir=./results/runs/Jun18_19-53-19_ea83b7279787,\n",
              "logging_first_step=False,\n",
              "logging_nan_inf_filter=True,\n",
              "logging_steps=2500,\n",
              "logging_strategy=steps,\n",
              "lr_scheduler_type=linear,\n",
              "max_grad_norm=1.0,\n",
              "max_steps=-1,\n",
              "metric_for_best_model=f1,\n",
              "mp_parameters=,\n",
              "no_cuda=False,\n",
              "num_train_epochs=5,\n",
              "optim=adamw_hf,\n",
              "optim_args=None,\n",
              "output_dir=./results,\n",
              "overwrite_output_dir=False,\n",
              "past_index=-1,\n",
              "per_device_eval_batch_size=8,\n",
              "per_device_train_batch_size=8,\n",
              "prediction_loss_only=False,\n",
              "push_to_hub=False,\n",
              "push_to_hub_model_id=None,\n",
              "push_to_hub_organization=None,\n",
              "push_to_hub_token=<PUSH_TO_HUB_TOKEN>,\n",
              "ray_scope=last,\n",
              "remove_unused_columns=False,\n",
              "report_to=[],\n",
              "resume_from_checkpoint=None,\n",
              "run_name=./results,\n",
              "save_on_each_node=False,\n",
              "save_safetensors=False,\n",
              "save_steps=2500,\n",
              "save_strategy=steps,\n",
              "save_total_limit=None,\n",
              "seed=42,\n",
              "sharded_ddp=[],\n",
              "skip_memory_metrics=True,\n",
              "tf32=None,\n",
              "torch_compile=False,\n",
              "torch_compile_backend=None,\n",
              "torch_compile_mode=None,\n",
              "torchdynamo=None,\n",
              "tpu_metrics_debug=False,\n",
              "tpu_num_cores=None,\n",
              "use_ipex=False,\n",
              "use_legacy_prediction_loop=False,\n",
              "use_mps_device=False,\n",
              "warmup_ratio=0.0,\n",
              "warmup_steps=0,\n",
              "weight_decay=0.01,\n",
              "xpu_backend=None,\n",
              ")"
            ]
          },
          "execution_count": 42,
          "metadata": {},
          "output_type": "execute_result"
        }
      ],
      "source": [
        "trainer.args"
      ]
    },
    {
      "cell_type": "code",
      "execution_count": 45,
      "metadata": {
        "id": "1A2q7fLxBZcq"
      },
      "outputs": [],
      "source": [
        "# loading training state of the best model\n",
        "with open('results/checkpoint-best/training_history.pkl', 'wb') as f:\n",
        "    pickle.dump(obj=trainer.state, file=f)"
      ]
    },
    {
      "cell_type": "code",
      "execution_count": 43,
      "metadata": {
        "colab": {
          "base_uri": "https://localhost:8080/"
        },
        "id": "HKEbwLuM9JVa",
        "outputId": "4a9dceb1-cd64-4654-b6b3-13ee095c6878"
      },
      "outputs": [
        {
          "data": {
            "text/plain": [
              "TrainerState(epoch=5.0, global_step=37500, max_steps=37500, num_train_epochs=5, total_flos=4.531428232585574e+16, log_history=[{'loss': 0.0187, 'learning_rate': 1.866826666666667e-05, 'epoch': 0.33, 'step': 2500}, {'eval_loss': 0.005186041351407766, 'eval_precision': 0.9785880689998168, 'eval_recall': 0.9786136851473745, 'eval_f1': 0.9786008769059615, 'eval_accuracy': 0.9986532346100907, 'eval_runtime': 57.7748, 'eval_samples_per_second': 86.543, 'eval_steps_per_second': 10.818, 'epoch': 0.33, 'step': 2500}, {'loss': 0.0055, 'learning_rate': 1.7334933333333336e-05, 'epoch': 0.67, 'step': 5000}, {'eval_loss': 0.0036667557433247566, 'eval_precision': 0.9795007050712905, 'eval_recall': 0.9818595885032197, 'eval_f1': 0.980678728299519, 'eval_accuracy': 0.9988668185485785, 'eval_runtime': 57.4715, 'eval_samples_per_second': 87.0, 'eval_steps_per_second': 10.875, 'epoch': 0.67, 'step': 5000}, {'loss': 0.0046, 'learning_rate': 1.6003733333333334e-05, 'epoch': 1.0, 'step': 7500}, {'eval_loss': 0.005106177646666765, 'eval_precision': 0.977784730913642, 'eval_recall': 0.9816239987435212, 'eval_f1': 0.9797006034955716, 'eval_accuracy': 0.9989380131947411, 'eval_runtime': 59.3344, 'eval_samples_per_second': 84.268, 'eval_steps_per_second': 10.534, 'epoch': 1.0, 'step': 7500}, {'loss': 0.0033, 'learning_rate': 1.4670400000000001e-05, 'epoch': 1.33, 'step': 10000}, {'eval_loss': 0.003167875576764345, 'eval_precision': 0.9843623336209827, 'eval_recall': 0.98536725825873, 'eval_f1': 0.9848645395915911, 'eval_accuracy': 0.9991385447814325, 'eval_runtime': 57.5338, 'eval_samples_per_second': 86.905, 'eval_steps_per_second': 10.863, 'epoch': 1.33, 'step': 10000}, {'loss': 0.0029, 'learning_rate': 1.3337066666666666e-05, 'epoch': 1.67, 'step': 12500}, {'eval_loss': 0.0035043801181018353, 'eval_precision': 0.9823443376514835, 'eval_recall': 0.9845557824197686, 'eval_f1': 0.9834488168388025, 'eval_accuracy': 0.9989403863496131, 'eval_runtime': 59.8562, 'eval_samples_per_second': 83.534, 'eval_steps_per_second': 10.442, 'epoch': 1.67, 'step': 12500}, {'loss': 0.0033, 'learning_rate': 1.2004266666666668e-05, 'epoch': 2.0, 'step': 15000}, {'eval_loss': 0.0029357888270169497, 'eval_precision': 0.9870962676019474, 'eval_recall': 0.9871996230563845, 'eval_f1': 0.9871479426238091, 'eval_accuracy': 0.9992560159476007, 'eval_runtime': 58.1942, 'eval_samples_per_second': 85.919, 'eval_steps_per_second': 10.74, 'epoch': 2.0, 'step': 15000}, {'loss': 0.0021, 'learning_rate': 1.0671466666666668e-05, 'epoch': 2.33, 'step': 17500}, {'eval_loss': 0.0028338793199509382, 'eval_precision': 0.9860094142259415, 'eval_recall': 0.9869902099366525, 'eval_f1': 0.9864995683001492, 'eval_accuracy': 0.9992061796952869, 'eval_runtime': 57.7068, 'eval_samples_per_second': 86.645, 'eval_steps_per_second': 10.831, 'epoch': 2.33, 'step': 17500}, {'loss': 0.0035, 'learning_rate': 9.339733333333335e-06, 'epoch': 2.67, 'step': 20000}, {'eval_loss': 0.002911886665970087, 'eval_precision': 0.9870010984987184, 'eval_recall': 0.9878278624155803, 'eval_f1': 0.9874143073944214, 'eval_accuracy': 0.9992655085670891, 'eval_runtime': 59.2725, 'eval_samples_per_second': 84.356, 'eval_steps_per_second': 10.545, 'epoch': 2.67, 'step': 20000}, {'loss': 0.0022, 'learning_rate': 8.006933333333335e-06, 'epoch': 3.0, 'step': 22500}, {'eval_loss': 0.0028483825735747814, 'eval_precision': 0.9882171192165693, 'eval_recall': 0.9879325689754463, 'eval_f1': 0.988074823609493, 'eval_accuracy': 0.9992797474963216, 'eval_runtime': 58.0931, 'eval_samples_per_second': 86.069, 'eval_steps_per_second': 10.759, 'epoch': 3.0, 'step': 22500}, {'loss': 0.0014, 'learning_rate': 6.6736e-06, 'epoch': 3.33, 'step': 25000}, {'eval_loss': 0.002810489619150758, 'eval_precision': 0.9877803071931339, 'eval_recall': 0.9881681587351447, 'eval_f1': 0.9879741948991743, 'eval_accuracy': 0.9993319569035075, 'eval_runtime': 57.904, 'eval_samples_per_second': 86.35, 'eval_steps_per_second': 10.794, 'epoch': 3.33, 'step': 25000}, {'loss': 0.0012, 'learning_rate': 5.340266666666667e-06, 'epoch': 3.67, 'step': 27500}, {'eval_loss': 0.0027514391113072634, 'eval_precision': 0.9891082368958475, 'eval_recall': 0.9889011046542066, 'eval_f1': 0.9890046599298391, 'eval_accuracy': 0.9993639944942807, 'eval_runtime': 58.342, 'eval_samples_per_second': 85.702, 'eval_steps_per_second': 10.713, 'epoch': 3.67, 'step': 27500}, {'loss': 0.0016, 'learning_rate': 4.007466666666667e-06, 'epoch': 4.0, 'step': 30000}, {'eval_loss': 0.003099782159551978, 'eval_precision': 0.9858706155814986, 'eval_recall': 0.9881158054552117, 'eval_f1': 0.9869919336915453, 'eval_accuracy': 0.999316531396839, 'eval_runtime': 58.471, 'eval_samples_per_second': 85.512, 'eval_steps_per_second': 10.689, 'epoch': 4.0, 'step': 30000}, {'loss': 0.0008, 'learning_rate': 2.6741333333333338e-06, 'epoch': 4.33, 'step': 32500}, {'eval_loss': 0.0030345479026436806, 'eval_precision': 0.9861800512043472, 'eval_recall': 0.9881419820951782, 'eval_f1': 0.9871600418410043, 'eval_accuracy': 0.9993236508614552, 'eval_runtime': 58.549, 'eval_samples_per_second': 85.399, 'eval_steps_per_second': 10.675, 'epoch': 4.33, 'step': 32500}, {'loss': 0.0011, 'learning_rate': 1.3413333333333334e-06, 'epoch': 4.67, 'step': 35000}, {'eval_loss': 0.002844160422682762, 'eval_precision': 0.9877640660949593, 'eval_recall': 0.9889534579341396, 'eval_f1': 0.9883584041857423, 'eval_accuracy': 0.9993628079168446, 'eval_runtime': 59.8393, 'eval_samples_per_second': 83.557, 'eval_steps_per_second': 10.445, 'epoch': 4.67, 'step': 35000}, {'loss': 0.0009, 'learning_rate': 8e-09, 'epoch': 5.0, 'step': 37500}, {'eval_loss': 0.002769122365862131, 'eval_precision': 0.9897147343627323, 'eval_recall': 0.9899219936128999, 'eval_f1': 0.9898183531382506, 'eval_accuracy': 0.999424509943519, 'eval_runtime': 58.1175, 'eval_samples_per_second': 86.033, 'eval_steps_per_second': 10.754, 'epoch': 5.0, 'step': 37500}, {'train_runtime': 12132.8604, 'train_samples_per_second': 24.726, 'train_steps_per_second': 3.091, 'total_flos': 4.531428232585574e+16, 'train_loss': 0.0035408822377522788, 'epoch': 5.0, 'step': 37500}], best_metric=0.9898183531382506, best_model_checkpoint='./results/checkpoint-37500', is_local_process_zero=True, is_world_process_zero=True, is_hyper_param_search=False, trial_name=None, trial_params=None)"
            ]
          },
          "execution_count": 43,
          "metadata": {},
          "output_type": "execute_result"
        }
      ],
      "source": [
        "trainer.state"
      ]
    },
    {
      "cell_type": "code",
      "execution_count": 44,
      "metadata": {
        "colab": {
          "base_uri": "https://localhost:8080/"
        },
        "id": "W43TrNP49rTe",
        "outputId": "c635590b-c743-49c3-a2c9-8749724b88b1"
      },
      "outputs": [
        {
          "data": {
            "text/plain": [
              "[{'loss': 0.0187,\n",
              "  'learning_rate': 1.866826666666667e-05,\n",
              "  'epoch': 0.33,\n",
              "  'step': 2500},\n",
              " {'eval_loss': 0.005186041351407766,\n",
              "  'eval_precision': 0.9785880689998168,\n",
              "  'eval_recall': 0.9786136851473745,\n",
              "  'eval_f1': 0.9786008769059615,\n",
              "  'eval_accuracy': 0.9986532346100907,\n",
              "  'eval_runtime': 57.7748,\n",
              "  'eval_samples_per_second': 86.543,\n",
              "  'eval_steps_per_second': 10.818,\n",
              "  'epoch': 0.33,\n",
              "  'step': 2500},\n",
              " {'loss': 0.0055,\n",
              "  'learning_rate': 1.7334933333333336e-05,\n",
              "  'epoch': 0.67,\n",
              "  'step': 5000},\n",
              " {'eval_loss': 0.0036667557433247566,\n",
              "  'eval_precision': 0.9795007050712905,\n",
              "  'eval_recall': 0.9818595885032197,\n",
              "  'eval_f1': 0.980678728299519,\n",
              "  'eval_accuracy': 0.9988668185485785,\n",
              "  'eval_runtime': 57.4715,\n",
              "  'eval_samples_per_second': 87.0,\n",
              "  'eval_steps_per_second': 10.875,\n",
              "  'epoch': 0.67,\n",
              "  'step': 5000},\n",
              " {'loss': 0.0046,\n",
              "  'learning_rate': 1.6003733333333334e-05,\n",
              "  'epoch': 1.0,\n",
              "  'step': 7500},\n",
              " {'eval_loss': 0.005106177646666765,\n",
              "  'eval_precision': 0.977784730913642,\n",
              "  'eval_recall': 0.9816239987435212,\n",
              "  'eval_f1': 0.9797006034955716,\n",
              "  'eval_accuracy': 0.9989380131947411,\n",
              "  'eval_runtime': 59.3344,\n",
              "  'eval_samples_per_second': 84.268,\n",
              "  'eval_steps_per_second': 10.534,\n",
              "  'epoch': 1.0,\n",
              "  'step': 7500},\n",
              " {'loss': 0.0033,\n",
              "  'learning_rate': 1.4670400000000001e-05,\n",
              "  'epoch': 1.33,\n",
              "  'step': 10000},\n",
              " {'eval_loss': 0.003167875576764345,\n",
              "  'eval_precision': 0.9843623336209827,\n",
              "  'eval_recall': 0.98536725825873,\n",
              "  'eval_f1': 0.9848645395915911,\n",
              "  'eval_accuracy': 0.9991385447814325,\n",
              "  'eval_runtime': 57.5338,\n",
              "  'eval_samples_per_second': 86.905,\n",
              "  'eval_steps_per_second': 10.863,\n",
              "  'epoch': 1.33,\n",
              "  'step': 10000},\n",
              " {'loss': 0.0029,\n",
              "  'learning_rate': 1.3337066666666666e-05,\n",
              "  'epoch': 1.67,\n",
              "  'step': 12500},\n",
              " {'eval_loss': 0.0035043801181018353,\n",
              "  'eval_precision': 0.9823443376514835,\n",
              "  'eval_recall': 0.9845557824197686,\n",
              "  'eval_f1': 0.9834488168388025,\n",
              "  'eval_accuracy': 0.9989403863496131,\n",
              "  'eval_runtime': 59.8562,\n",
              "  'eval_samples_per_second': 83.534,\n",
              "  'eval_steps_per_second': 10.442,\n",
              "  'epoch': 1.67,\n",
              "  'step': 12500},\n",
              " {'loss': 0.0033,\n",
              "  'learning_rate': 1.2004266666666668e-05,\n",
              "  'epoch': 2.0,\n",
              "  'step': 15000},\n",
              " {'eval_loss': 0.0029357888270169497,\n",
              "  'eval_precision': 0.9870962676019474,\n",
              "  'eval_recall': 0.9871996230563845,\n",
              "  'eval_f1': 0.9871479426238091,\n",
              "  'eval_accuracy': 0.9992560159476007,\n",
              "  'eval_runtime': 58.1942,\n",
              "  'eval_samples_per_second': 85.919,\n",
              "  'eval_steps_per_second': 10.74,\n",
              "  'epoch': 2.0,\n",
              "  'step': 15000},\n",
              " {'loss': 0.0021,\n",
              "  'learning_rate': 1.0671466666666668e-05,\n",
              "  'epoch': 2.33,\n",
              "  'step': 17500},\n",
              " {'eval_loss': 0.0028338793199509382,\n",
              "  'eval_precision': 0.9860094142259415,\n",
              "  'eval_recall': 0.9869902099366525,\n",
              "  'eval_f1': 0.9864995683001492,\n",
              "  'eval_accuracy': 0.9992061796952869,\n",
              "  'eval_runtime': 57.7068,\n",
              "  'eval_samples_per_second': 86.645,\n",
              "  'eval_steps_per_second': 10.831,\n",
              "  'epoch': 2.33,\n",
              "  'step': 17500},\n",
              " {'loss': 0.0035,\n",
              "  'learning_rate': 9.339733333333335e-06,\n",
              "  'epoch': 2.67,\n",
              "  'step': 20000},\n",
              " {'eval_loss': 0.002911886665970087,\n",
              "  'eval_precision': 0.9870010984987184,\n",
              "  'eval_recall': 0.9878278624155803,\n",
              "  'eval_f1': 0.9874143073944214,\n",
              "  'eval_accuracy': 0.9992655085670891,\n",
              "  'eval_runtime': 59.2725,\n",
              "  'eval_samples_per_second': 84.356,\n",
              "  'eval_steps_per_second': 10.545,\n",
              "  'epoch': 2.67,\n",
              "  'step': 20000},\n",
              " {'loss': 0.0022,\n",
              "  'learning_rate': 8.006933333333335e-06,\n",
              "  'epoch': 3.0,\n",
              "  'step': 22500},\n",
              " {'eval_loss': 0.0028483825735747814,\n",
              "  'eval_precision': 0.9882171192165693,\n",
              "  'eval_recall': 0.9879325689754463,\n",
              "  'eval_f1': 0.988074823609493,\n",
              "  'eval_accuracy': 0.9992797474963216,\n",
              "  'eval_runtime': 58.0931,\n",
              "  'eval_samples_per_second': 86.069,\n",
              "  'eval_steps_per_second': 10.759,\n",
              "  'epoch': 3.0,\n",
              "  'step': 22500},\n",
              " {'loss': 0.0014, 'learning_rate': 6.6736e-06, 'epoch': 3.33, 'step': 25000},\n",
              " {'eval_loss': 0.002810489619150758,\n",
              "  'eval_precision': 0.9877803071931339,\n",
              "  'eval_recall': 0.9881681587351447,\n",
              "  'eval_f1': 0.9879741948991743,\n",
              "  'eval_accuracy': 0.9993319569035075,\n",
              "  'eval_runtime': 57.904,\n",
              "  'eval_samples_per_second': 86.35,\n",
              "  'eval_steps_per_second': 10.794,\n",
              "  'epoch': 3.33,\n",
              "  'step': 25000},\n",
              " {'loss': 0.0012,\n",
              "  'learning_rate': 5.340266666666667e-06,\n",
              "  'epoch': 3.67,\n",
              "  'step': 27500},\n",
              " {'eval_loss': 0.0027514391113072634,\n",
              "  'eval_precision': 0.9891082368958475,\n",
              "  'eval_recall': 0.9889011046542066,\n",
              "  'eval_f1': 0.9890046599298391,\n",
              "  'eval_accuracy': 0.9993639944942807,\n",
              "  'eval_runtime': 58.342,\n",
              "  'eval_samples_per_second': 85.702,\n",
              "  'eval_steps_per_second': 10.713,\n",
              "  'epoch': 3.67,\n",
              "  'step': 27500},\n",
              " {'loss': 0.0016,\n",
              "  'learning_rate': 4.007466666666667e-06,\n",
              "  'epoch': 4.0,\n",
              "  'step': 30000},\n",
              " {'eval_loss': 0.003099782159551978,\n",
              "  'eval_precision': 0.9858706155814986,\n",
              "  'eval_recall': 0.9881158054552117,\n",
              "  'eval_f1': 0.9869919336915453,\n",
              "  'eval_accuracy': 0.999316531396839,\n",
              "  'eval_runtime': 58.471,\n",
              "  'eval_samples_per_second': 85.512,\n",
              "  'eval_steps_per_second': 10.689,\n",
              "  'epoch': 4.0,\n",
              "  'step': 30000},\n",
              " {'loss': 0.0008,\n",
              "  'learning_rate': 2.6741333333333338e-06,\n",
              "  'epoch': 4.33,\n",
              "  'step': 32500},\n",
              " {'eval_loss': 0.0030345479026436806,\n",
              "  'eval_precision': 0.9861800512043472,\n",
              "  'eval_recall': 0.9881419820951782,\n",
              "  'eval_f1': 0.9871600418410043,\n",
              "  'eval_accuracy': 0.9993236508614552,\n",
              "  'eval_runtime': 58.549,\n",
              "  'eval_samples_per_second': 85.399,\n",
              "  'eval_steps_per_second': 10.675,\n",
              "  'epoch': 4.33,\n",
              "  'step': 32500},\n",
              " {'loss': 0.0011,\n",
              "  'learning_rate': 1.3413333333333334e-06,\n",
              "  'epoch': 4.67,\n",
              "  'step': 35000},\n",
              " {'eval_loss': 0.002844160422682762,\n",
              "  'eval_precision': 0.9877640660949593,\n",
              "  'eval_recall': 0.9889534579341396,\n",
              "  'eval_f1': 0.9883584041857423,\n",
              "  'eval_accuracy': 0.9993628079168446,\n",
              "  'eval_runtime': 59.8393,\n",
              "  'eval_samples_per_second': 83.557,\n",
              "  'eval_steps_per_second': 10.445,\n",
              "  'epoch': 4.67,\n",
              "  'step': 35000},\n",
              " {'loss': 0.0009, 'learning_rate': 8e-09, 'epoch': 5.0, 'step': 37500},\n",
              " {'eval_loss': 0.002769122365862131,\n",
              "  'eval_precision': 0.9897147343627323,\n",
              "  'eval_recall': 0.9899219936128999,\n",
              "  'eval_f1': 0.9898183531382506,\n",
              "  'eval_accuracy': 0.999424509943519,\n",
              "  'eval_runtime': 58.1175,\n",
              "  'eval_samples_per_second': 86.033,\n",
              "  'eval_steps_per_second': 10.754,\n",
              "  'epoch': 5.0,\n",
              "  'step': 37500},\n",
              " {'train_runtime': 12132.8604,\n",
              "  'train_samples_per_second': 24.726,\n",
              "  'train_steps_per_second': 3.091,\n",
              "  'total_flos': 4.531428232585574e+16,\n",
              "  'train_loss': 0.0035408822377522788,\n",
              "  'epoch': 5.0,\n",
              "  'step': 37500}]"
            ]
          },
          "execution_count": 44,
          "metadata": {},
          "output_type": "execute_result"
        }
      ],
      "source": [
        "trainer.state.log_history"
      ]
    },
    {
      "cell_type": "code",
      "execution_count": 46,
      "metadata": {
        "colab": {
          "base_uri": "https://localhost:8080/"
        },
        "id": "d58FGXowzSVU",
        "outputId": "da0e04f4-d219-4c92-ba35-b5dad2cc8f2a"
      },
      "outputs": [
        {
          "name": "stdout",
          "output_type": "stream",
          "text": [
            "  adding: content/results/checkpoint-best/ (stored 0%)\n",
            "  adding: content/results/checkpoint-best/special_tokens_map.json (deflated 52%)\n",
            "  adding: content/results/checkpoint-best/tokenizer_config.json (deflated 50%)\n",
            "  adding: content/results/checkpoint-best/training_args.pkl (deflated 46%)\n",
            "  adding: content/results/checkpoint-best/pytorch_model.bin (deflated 22%)\n",
            "  adding: content/results/checkpoint-best/config.json (deflated 52%)\n",
            "  adding: content/results/checkpoint-best/training_args.bin (deflated 48%)\n",
            "  adding: content/results/checkpoint-best/training_history.pkl (deflated 60%)\n",
            "  adding: content/results/checkpoint-best/tokenizer.json (deflated 76%)\n"
          ]
        }
      ],
      "source": [
        "!zip -r /content/file-all4-sk.zip /content/results/checkpoint-best"
      ]
    },
    {
      "cell_type": "code",
      "execution_count": 47,
      "metadata": {
        "colab": {
          "base_uri": "https://localhost:8080/",
          "height": 75
        },
        "id": "bafH_2KtBi-9",
        "outputId": "233c63a5-284c-4ffb-d4cc-63cdefb7a12c"
      },
      "outputs": [
        {
          "data": {
            "text/html": [
              "\n",
              "    <div>\n",
              "      \n",
              "      <progress value='625' max='625' style='width:300px; height:20px; vertical-align: middle;'></progress>\n",
              "      [625/625 00:39]\n",
              "    </div>\n",
              "    "
            ],
            "text/plain": [
              "<IPython.core.display.HTML object>"
            ]
          },
          "metadata": {},
          "output_type": "display_data"
        },
        {
          "name": "stdout",
          "output_type": "stream",
          "text": [
            "{'DE': {'precision': 0.988663594470046, 'recall': 0.9882081989866421, 'f1': 0.9884358442755126, 'number': 10855}, 'EN': {'precision': 0.9914113942170054, 'recall': 0.9933071995410652, 'f1': 0.9923583914413985, 'number': 10459}, 'ES': {'precision': 0.9915956297274583, 'recall': 0.990881823635273, 'f1': 0.9912385981757081, 'number': 8335}, 'FR': {'precision': 0.9871375116931712, 'recall': 0.9870220975096458, 'f1': 0.9870798012277112, 'number': 8553}, 'overall_precision': 0.9897147343627323, 'overall_recall': 0.9899219936128999, 'overall_f1': 0.9898183531382506, 'overall_accuracy': 0.999424509943519}\n"
          ]
        }
      ],
      "source": [
        "# evaluating the model\n",
        "eval_results = trainer.evaluate()"
      ]
    },
    {
      "cell_type": "code",
      "execution_count": 48,
      "metadata": {
        "colab": {
          "base_uri": "https://localhost:8080/"
        },
        "id": "Pou_qpgbB9z7",
        "outputId": "8987c89a-82c8-4b9b-fc3f-5cb1a218a346"
      },
      "outputs": [
        {
          "data": {
            "text/plain": [
              "{'eval_loss': 0.002769122365862131,\n",
              " 'eval_precision': 0.9897147343627323,\n",
              " 'eval_recall': 0.9899219936128999,\n",
              " 'eval_f1': 0.9898183531382506,\n",
              " 'eval_accuracy': 0.999424509943519,\n",
              " 'eval_runtime': 58.7866,\n",
              " 'eval_samples_per_second': 85.053,\n",
              " 'eval_steps_per_second': 10.632,\n",
              " 'epoch': 5.0}"
            ]
          },
          "execution_count": 48,
          "metadata": {},
          "output_type": "execute_result"
        }
      ],
      "source": [
        "eval_results"
      ]
    },
    {
      "cell_type": "code",
      "execution_count": 49,
      "metadata": {
        "colab": {
          "base_uri": "https://localhost:8080/"
        },
        "id": "6SfhK0NGDEre",
        "outputId": "be76614f-d6a9-41ce-f215-cc22785118c3"
      },
      "outputs": [
        {
          "data": {
            "text/plain": [
              "Dataset({\n",
              "    features: ['input_ids', 'attention_mask', 'labels'],\n",
              "    num_rows: 5000\n",
              "})"
            ]
          },
          "execution_count": 49,
          "metadata": {},
          "output_type": "execute_result"
        }
      ],
      "source": [
        "dataset_test"
      ]
    },
    {
      "cell_type": "code",
      "execution_count": 50,
      "metadata": {
        "colab": {
          "base_uri": "https://localhost:8080/",
          "height": 55
        },
        "id": "ky17qg6FB9KK",
        "outputId": "e2733aab-52dc-4a83-dfa5-563d815aa8dd"
      },
      "outputs": [
        {
          "data": {
            "text/html": [],
            "text/plain": [
              "<IPython.core.display.HTML object>"
            ]
          },
          "metadata": {},
          "output_type": "display_data"
        },
        {
          "name": "stdout",
          "output_type": "stream",
          "text": [
            "{'DE': {'precision': 0.9870741390453328, 'recall': 0.9883516686696866, 'f1': 0.9877124907612713, 'number': 10817}, 'EN': {'precision': 0.9901617633147289, 'recall': 0.9914748508098892, 'f1': 0.9908178720181748, 'number': 10557}, 'ES': {'precision': 0.9912407007439404, 'recall': 0.9912407007439404, 'f1': 0.9912407007439406, 'number': 8334}, 'FR': {'precision': 0.9872469872469872, 'recall': 0.9871314927468414, 'f1': 0.9871892366188945, 'number': 8548}, 'overall_precision': 0.9888723454274744, 'overall_recall': 0.9895702634880803, 'overall_f1': 0.9892211813585232, 'overall_accuracy': 0.9993651810717168}\n"
          ]
        }
      ],
      "source": [
        "# model prediction using test data\n",
        "predictions, labels, _ = trainer.predict(dataset_test)\n",
        "predictions = np.argmax(predictions, axis=-1)"
      ]
    },
    {
      "cell_type": "code",
      "execution_count": 51,
      "metadata": {
        "colab": {
          "base_uri": "https://localhost:8080/"
        },
        "id": "V3Nk26jCDIlY",
        "outputId": "fa0151fa-ee26-4bbc-9868-b772f5bd5cd0"
      },
      "outputs": [
        {
          "name": "stdout",
          "output_type": "stream",
          "text": [
            "{'DE': {'precision': 0.9870741390453328, 'recall': 0.9883516686696866, 'f1': 0.9877124907612713, 'number': 10817}, 'EN': {'precision': 0.9901617633147289, 'recall': 0.9914748508098892, 'f1': 0.9908178720181748, 'number': 10557}, 'ES': {'precision': 0.9912407007439404, 'recall': 0.9912407007439404, 'f1': 0.9912407007439406, 'number': 8334}, 'FR': {'precision': 0.9872469872469872, 'recall': 0.9871314927468414, 'f1': 0.9871892366188945, 'number': 8548}, 'overall_precision': 0.9888723454274744, 'overall_recall': 0.9895702634880803, 'overall_f1': 0.9892211813585232, 'overall_accuracy': 0.9993651810717168}\n"
          ]
        }
      ],
      "source": [
        "# calculating and printing prediction metrics\n",
        "true_labels = [\n",
        "    [label_names[l] for l in label  if l != -100]\n",
        "    for label in labels\n",
        "]\n",
        "\n",
        "true_predictions = [\n",
        "    [label_names[p] for (p, l) in zip(prediction, label)  if l != -100]\n",
        "    for prediction, label in zip(predictions, labels)\n",
        "]\n",
        "\n",
        "prediction_results = metric.compute(predictions=true_predictions, references=true_labels)\n",
        "print(prediction_results)"
      ]
    },
    {
      "cell_type": "code",
      "execution_count": 52,
      "metadata": {
        "id": "xv0oCtpAHswu"
      },
      "outputs": [],
      "source": [
        "# calling the best model\n",
        "model_best = AutoModelForTokenClassification.from_pretrained(\"results/checkpoint-best/\")"
      ]
    },
    {
      "cell_type": "code",
      "execution_count": 53,
      "metadata": {
        "colab": {
          "base_uri": "https://localhost:8080/"
        },
        "id": "PPybsK7IH7Y1",
        "outputId": "22d35f1e-7550-4485-e542-45e5b5c74f0d"
      },
      "outputs": [
        {
          "data": {
            "text/plain": [
              "XLMRobertaConfig {\n",
              "  \"_name_or_path\": \"results/checkpoint-best/\",\n",
              "  \"architectures\": [\n",
              "    \"XLMRobertaForTokenClassification\"\n",
              "  ],\n",
              "  \"attention_probs_dropout_prob\": 0.1,\n",
              "  \"bos_token_id\": 0,\n",
              "  \"classifier_dropout\": null,\n",
              "  \"eos_token_id\": 2,\n",
              "  \"hidden_act\": \"gelu\",\n",
              "  \"hidden_dropout_prob\": 0.1,\n",
              "  \"hidden_size\": 768,\n",
              "  \"id2label\": {\n",
              "    \"0\": \"I-DE\",\n",
              "    \"1\": \"I-EN\",\n",
              "    \"2\": \"I-ES\",\n",
              "    \"3\": \"I-FR\"\n",
              "  },\n",
              "  \"initializer_range\": 0.02,\n",
              "  \"intermediate_size\": 3072,\n",
              "  \"label2id\": {\n",
              "    \"I-DE\": 0,\n",
              "    \"I-EN\": 1,\n",
              "    \"I-ES\": 2,\n",
              "    \"I-FR\": 3\n",
              "  },\n",
              "  \"layer_norm_eps\": 1e-05,\n",
              "  \"max_position_embeddings\": 514,\n",
              "  \"model_type\": \"xlm-roberta\",\n",
              "  \"num_attention_heads\": 12,\n",
              "  \"num_hidden_layers\": 12,\n",
              "  \"output_past\": true,\n",
              "  \"pad_token_id\": 1,\n",
              "  \"position_embedding_type\": \"absolute\",\n",
              "  \"torch_dtype\": \"float32\",\n",
              "  \"transformers_version\": \"4.30.2\",\n",
              "  \"type_vocab_size\": 1,\n",
              "  \"use_cache\": true,\n",
              "  \"vocab_size\": 250002\n",
              "}"
            ]
          },
          "execution_count": 53,
          "metadata": {},
          "output_type": "execute_result"
        }
      ],
      "source": [
        "model_best.config"
      ]
    },
    {
      "cell_type": "code",
      "execution_count": 54,
      "metadata": {
        "id": "MN554xZZKb0p"
      },
      "outputs": [],
      "source": [
        "# example text\n",
        "text = 'Sie sind gut. How about you? Comment va ta mère? And what about you?Estoy aprendiendo español. Thanks.'"
      ]
    },
    {
      "cell_type": "code",
      "execution_count": null,
      "metadata": {
        "id": "hCQntavRDMgX"
      },
      "outputs": [],
      "source": [
        "# example text\n",
        "text = '\"Hello, how are you? Guten Tag!\"'"
      ]
    },
    {
      "cell_type": "code",
      "execution_count": 55,
      "metadata": {
        "id": "yDCbdolmPXun"
      },
      "outputs": [],
      "source": [
        "# creating embedded inputs using the tokenizer\n",
        "tokens = tokenizer(text, add_special_tokens= False, return_tensors=\"pt\")"
      ]
    },
    {
      "cell_type": "code",
      "execution_count": 56,
      "metadata": {
        "colab": {
          "base_uri": "https://localhost:8080/"
        },
        "id": "G0KXX3Z7MTpQ",
        "outputId": "9ef00eb1-c2f7-473b-8149-b8bfa7acf64d"
      },
      "outputs": [
        {
          "data": {
            "text/plain": [
              "{'input_ids': tensor([[   727,   1276,   5768,      5,  11249,   1672,    398,     32,  16277,\n",
              "            307,    308,  94683,     32,   3493,   2367,   1672,    398,     32,\n",
              "         159970,     53, 109802,   4017,  36131,      5,  22362,      5]]), 'attention_mask': tensor([[1, 1, 1, 1, 1, 1, 1, 1, 1, 1, 1, 1, 1, 1, 1, 1, 1, 1, 1, 1, 1, 1, 1, 1,\n",
              "         1, 1]])}"
            ]
          },
          "execution_count": 56,
          "metadata": {},
          "output_type": "execute_result"
        }
      ],
      "source": [
        "tokens"
      ]
    },
    {
      "cell_type": "code",
      "execution_count": 57,
      "metadata": {
        "id": "MSauB-c0MjJm"
      },
      "outputs": [],
      "source": [
        "# predicting using the best model\n",
        "with torch.no_grad():\n",
        "  logits = model_best(**tokens).logits\n",
        "\n",
        "labels_predicted = logits.argmax(-1)"
      ]
    },
    {
      "cell_type": "code",
      "execution_count": 58,
      "metadata": {
        "colab": {
          "base_uri": "https://localhost:8080/"
        },
        "id": "lNeImGaBDMgX",
        "outputId": "2d77a822-0a91-4f15-f151-42e486d384c0"
      },
      "outputs": [
        {
          "data": {
            "text/plain": [
              "tensor([[[ 6.4227, -2.0906, -2.9082, -1.9542],\n",
              "         [10.3800, -3.4752, -3.3619, -3.5705],\n",
              "         [10.4305, -3.5540, -3.3986, -3.4291],\n",
              "         [10.1828, -3.4653, -3.4368, -3.6833],\n",
              "         [-2.8922,  4.9866, -2.7963, -0.4872],\n",
              "         [-3.0611,  5.1412, -2.8119, -0.5075],\n",
              "         [-3.2989,  5.1967, -2.9386, -0.3128],\n",
              "         [-2.8974,  4.9982, -2.7464, -0.5783],\n",
              "         [-3.4862, -3.8999, -2.3259, 10.5741],\n",
              "         [-3.3861, -4.0742, -2.2032, 10.6098],\n",
              "         [-3.3893, -3.8983, -2.2133, 10.5120],\n",
              "         [-3.4170, -3.6037, -2.5408, 10.4603],\n",
              "         [-3.5466, -3.3968, -2.1601, 10.0394],\n",
              "         [-2.5143,  5.1698, -2.4301, -1.5254],\n",
              "         [-2.7888,  5.2349, -2.4451, -1.1374],\n",
              "         [-2.7949,  5.7437, -2.6815, -1.5899],\n",
              "         [-2.9699,  5.4787, -2.6213, -1.2770],\n",
              "         [-2.6242,  5.0385, -2.2669, -1.3377],\n",
              "         [-3.7312, -2.2774, 10.4162, -3.0205],\n",
              "         [-3.7219, -2.5271, 10.5287, -2.7254],\n",
              "         [-3.7170, -2.5520, 10.8948, -3.1360],\n",
              "         [-3.7638, -2.4456, 10.8236, -3.1055],\n",
              "         [-3.8243, -2.4933, 10.7541, -2.9397],\n",
              "         [-3.9962, -2.4760, 10.3642, -2.4182],\n",
              "         [-2.4589,  5.3347, -2.4503, -1.6306],\n",
              "         [-2.6000,  5.4807, -2.7685, -1.7473]]])"
            ]
          },
          "execution_count": 58,
          "metadata": {},
          "output_type": "execute_result"
        }
      ],
      "source": [
        "logits"
      ]
    },
    {
      "cell_type": "code",
      "execution_count": 59,
      "metadata": {
        "colab": {
          "base_uri": "https://localhost:8080/"
        },
        "id": "fkXfCHvqMnHG",
        "outputId": "7caf41e6-1d33-45d6-e281-b69182b80cf1"
      },
      "outputs": [
        {
          "data": {
            "text/plain": [
              "tensor([[0, 0, 0, 0, 1, 1, 1, 1, 3, 3, 3, 3, 3, 1, 1, 1, 1, 1, 2, 2, 2, 2, 2, 2,\n",
              "         1, 1]])"
            ]
          },
          "execution_count": 59,
          "metadata": {},
          "output_type": "execute_result"
        }
      ],
      "source": [
        "# predicted labels\n",
        "labels_predicted"
      ]
    },
    {
      "cell_type": "code",
      "execution_count": 60,
      "metadata": {
        "colab": {
          "base_uri": "https://localhost:8080/"
        },
        "id": "jDhNBH1qMlvF",
        "outputId": "572088f6-9c13-4cbb-c027-6f132656f757"
      },
      "outputs": [
        {
          "data": {
            "text/plain": [
              "['I-DE',\n",
              " 'I-DE',\n",
              " 'I-DE',\n",
              " 'I-DE',\n",
              " 'I-EN',\n",
              " 'I-EN',\n",
              " 'I-EN',\n",
              " 'I-EN',\n",
              " 'I-FR',\n",
              " 'I-FR',\n",
              " 'I-FR',\n",
              " 'I-FR',\n",
              " 'I-FR',\n",
              " 'I-EN',\n",
              " 'I-EN',\n",
              " 'I-EN',\n",
              " 'I-EN',\n",
              " 'I-EN',\n",
              " 'I-ES',\n",
              " 'I-ES',\n",
              " 'I-ES',\n",
              " 'I-ES',\n",
              " 'I-ES',\n",
              " 'I-ES',\n",
              " 'I-EN',\n",
              " 'I-EN']"
            ]
          },
          "execution_count": 60,
          "metadata": {},
          "output_type": "execute_result"
        }
      ],
      "source": [
        "# predicted language labels\n",
        "lang_tag_predicted = [model_best.config.id2label[t.item()] for t in labels_predicted[0]]\n",
        "lang_tag_predicted"
      ]
    },
    {
      "cell_type": "code",
      "execution_count": 61,
      "metadata": {
        "colab": {
          "base_uri": "https://localhost:8080/",
          "height": 145,
          "referenced_widgets": [
            "f292ced57a874e4db4a84570355d1ef2",
            "8d8579f77ed44d0aaa1dd8085e2c5cf1",
            "627ec901983f4c028d81a742e7125c55",
            "4187aa64457941aebb3668d661947b0f",
            "c1a833009b374894be05b7548fa793ad",
            "f680495ce3cc43079749dcdd011a5c5a",
            "45e3728386b949188febd5933cb52bc6",
            "fc77e790ad6b45c2b51e366bc0b0f8be",
            "0b07e25377244e6f92fc8a94dd69795f",
            "b1bf6ea42ce74d1685b6df5ec48d007c",
            "2789add056c74f7194ecc905154317cd",
            "bbf6e310fb0f481590bd9d0878242ce2",
            "34b875800a494aa6a1133212ac0c9b0f",
            "32cd041ce23844f4913884216b4d6f86",
            "922a4719415640f8b5f6dafb7ab54362",
            "5281233348804a849d0c279c01c915d7",
            "5649d51c976246e6979e6660493cdf55",
            "7594cba3d458452db67884fe1690b205",
            "387dc904f86f4c33836fdd26126d53a1",
            "8c498fe318a0490b901334a099a9f525",
            "75a94d97399c4f908116c280a5be3109",
            "ffcdee6f3d3f471eafaa0da987370507",
            "dd5cd395286540ceb642078c9ca4094c",
            "1a79a0211dc44d0684ed3ccc2cd935e8",
            "4cc6d791ac8c41a4aafa9cb3b973b8d8",
            "e9014cf5389f431d8c650f576eeea900",
            "f97c63cedebd40f0a75075e12a3e0d4a",
            "99837679eb3646e99abc8ae85e09dcf5",
            "85e75ea7f83e4abdbf2acaa1c0475d21",
            "1f75115359ac4732b881c8c66176c530",
            "b73231a3b90c4387b0fd3c57b06aed3e",
            "919e0f88cbb741388ef6fcc60aa5b232"
          ]
        },
        "id": "WB0N12BBNlmk",
        "outputId": "e6a3ade2-35d5-4a6a-83a0-27bef528734f"
      },
      "outputs": [
        {
          "data": {
            "application/vnd.jupyter.widget-view+json": {
              "model_id": "f292ced57a874e4db4a84570355d1ef2",
              "version_major": 2,
              "version_minor": 0
            },
            "text/plain": [
              "VBox(children=(HTML(value='<center> <img\\nsrc=https://huggingface.co/front/assets/huggingface_logo-noborder.sv…"
            ]
          },
          "metadata": {},
          "output_type": "display_data"
        }
      ],
      "source": [
        "# loading HuggingFace library to push the model\n",
        "from huggingface_hub import notebook_login\n",
        "notebook_login()"
      ]
    },
    {
      "cell_type": "code",
      "execution_count": 66,
      "metadata": {
        "colab": {
          "base_uri": "https://localhost:8080/",
          "height": 135,
          "referenced_widgets": [
            "72accf44ec3345f5b51daea69188b2d2",
            "88b15237c4ec4f3b925a4b0a2c48ca42",
            "e5705b4ce527497cadf2ed391c0e2cc9",
            "d2e993c612ac433c91f39b99ec3bd733",
            "0cd873987e744e7aacd4ebd0f93d8610",
            "0f7843ee4f3d4774a8330ab0a5fb757f",
            "e417e2621b774c7cb92ad6e7e5ea88bb",
            "84a45adf1fde40c687655327bc78c63b",
            "d27fb2f9d1514c67b10c2bd7dcd5571f",
            "c2fbff0ef5814d67a8b3704a1ab8148a",
            "d4bf842f1e04465abd5b063809d20a12",
            "e39580cd4eca4c0bb4f4a3dc041b90eb",
            "30c591fc13b447538aebcfe1d681c7bc",
            "9955afe5f8c04c17afdcdff02e562579",
            "f7e012ae657f4921aff2d2382a9d671c",
            "e18f457fa2a248b092a21b5c15f8767d",
            "9df3417ed4224940bd64a4e218a3910b",
            "ca74f8c935754275a12488224b220dad",
            "66d2e0214129497aac9f8d2e82ee8435",
            "01a850436a074e0498447b150ce1184f",
            "00fccdf25d10425eab1416eae5dea59a",
            "608c15c31fca450bb001a5eefe4ddc38"
          ]
        },
        "id": "iW0fpYSNFacJ",
        "outputId": "1ca0065c-6669-4e76-ac41-d0d52c8b4038"
      },
      "outputs": [
        {
          "data": {
            "application/vnd.jupyter.widget-view+json": {
              "model_id": "72accf44ec3345f5b51daea69188b2d2",
              "version_major": 2,
              "version_minor": 0
            },
            "text/plain": [
              "pytorch_model.bin:   0%|          | 0.00/1.11G [00:00<?, ?B/s]"
            ]
          },
          "metadata": {},
          "output_type": "display_data"
        },
        {
          "data": {
            "application/vnd.jupyter.widget-view+json": {
              "model_id": "e39580cd4eca4c0bb4f4a3dc041b90eb",
              "version_major": 2,
              "version_minor": 0
            },
            "text/plain": [
              "Upload 1 LFS files:   0%|          | 0/1 [00:00<?, ?it/s]"
            ]
          },
          "metadata": {},
          "output_type": "display_data"
        },
        {
          "data": {
            "text/plain": [
              "CommitInfo(commit_url='https://huggingface.co/msislam/multilingual-language-detection-XLMRoberta/commit/8797907a5307222e94f243704178506dd7237695', commit_message='Upload XLMRobertaForTokenClassification', commit_description='', oid='8797907a5307222e94f243704178506dd7237695', pr_url=None, pr_revision=None, pr_num=None)"
            ]
          },
          "execution_count": 66,
          "metadata": {},
          "output_type": "execute_result"
        }
      ],
      "source": [
        "# pushing the model to HuggingFace\n",
        "model_best.push_to_hub(\"msislam/multilingual-language-detection-XLMRoberta\", use_temp_dir=True )"
      ]
    },
    {
      "cell_type": "code",
      "execution_count": 67,
      "metadata": {
        "colab": {
          "base_uri": "https://localhost:8080/",
          "height": 135,
          "referenced_widgets": [
            "5d4ba1e81d434901aeaa4181a5452518",
            "663d3030bdbf4d21a206ad6b6776a270",
            "29eb0f2233de471fbd13a99be0854de1",
            "3370bfd243fe4019a494409c666bb869",
            "5994b7a962a24fe49b6b217138521d18",
            "7ae4947214ac419d94607fca18563592",
            "d0b9206d43c34a1aa8d8de76cc659456",
            "38c2d31e44d54f0e80d697e82376c798",
            "71636c0923ce439ead1eb8f1053cfbeb",
            "76ccf3e158ce48c6a9abb365ab867bd2",
            "9f826d89de2741738b3eddfdeadd133b",
            "f55dde87e4644a3b800536ccc08391e6",
            "d9abca9ac1374052a1728b7cab383712",
            "dd3d3b31ab9b47e2924ce9aa68574e59",
            "f61fe38ab50e475ca50df5ffb4e0b2f8",
            "bb0dd0923dbd48fd8377ee1760eb9b62",
            "211056921bf44b8e8bc2bba96cce9e15",
            "04ffc682cb0a40a7b2fddbe3b264713d",
            "043f45fe0b244aea8c8da009359263c6",
            "a9baaa4f370442f2857bc78a1b465ecc",
            "bec9dbcab6b24eb3b15233be7fc28262",
            "5ffee7df05c2407fa0c8705287ae879b"
          ]
        },
        "id": "OTkvzWncSdlW",
        "outputId": "61c1b96a-0460-486a-c57e-caad0839ec4a"
      },
      "outputs": [
        {
          "data": {
            "application/vnd.jupyter.widget-view+json": {
              "model_id": "5d4ba1e81d434901aeaa4181a5452518",
              "version_major": 2,
              "version_minor": 0
            },
            "text/plain": [
              "tokenizer.json:   0%|          | 0.00/17.1M [00:00<?, ?B/s]"
            ]
          },
          "metadata": {},
          "output_type": "display_data"
        },
        {
          "data": {
            "application/vnd.jupyter.widget-view+json": {
              "model_id": "f55dde87e4644a3b800536ccc08391e6",
              "version_major": 2,
              "version_minor": 0
            },
            "text/plain": [
              "Upload 1 LFS files:   0%|          | 0/1 [00:00<?, ?it/s]"
            ]
          },
          "metadata": {},
          "output_type": "display_data"
        },
        {
          "data": {
            "text/plain": [
              "CommitInfo(commit_url='https://huggingface.co/msislam/multilingual-language-detection-XLMRoberta/commit/ff09bd9242d66ee7a437ee83d9a093d3bb8b8c54', commit_message='Upload tokenizer', commit_description='', oid='ff09bd9242d66ee7a437ee83d9a093d3bb8b8c54', pr_url=None, pr_revision=None, pr_num=None)"
            ]
          },
          "execution_count": 67,
          "metadata": {},
          "output_type": "execute_result"
        }
      ],
      "source": [
        "# pushing the tokenizer to HuggingFace\n",
        "tokenizer.push_to_hub(\"msislam/multilingual-language-detection-XLMRoberta\", use_temp_dir=True )"
      ]
    }
  ],
  "metadata": {
    "accelerator": "GPU",
    "colab": {
      "gpuType": "T4",
      "provenance": []
    },
    "kernelspec": {
      "display_name": "Python 3",
      "name": "python3"
    },
    "language_info": {
      "codemirror_mode": {
        "name": "ipython",
        "version": 3
      },
      "file_extension": ".py",
      "mimetype": "text/x-python",
      "name": "python",
      "nbconvert_exporter": "python",
      "pygments_lexer": "ipython3",
      "version": "3.11.3"
    },
    "orig_nbformat": 4,
    "widgets": {
      "application/vnd.jupyter.widget-state+json": {
        "00fccdf25d10425eab1416eae5dea59a": {
          "model_module": "@jupyter-widgets/base",
          "model_module_version": "1.2.0",
          "model_name": "LayoutModel",
          "state": {
            "_model_module": "@jupyter-widgets/base",
            "_model_module_version": "1.2.0",
            "_model_name": "LayoutModel",
            "_view_count": null,
            "_view_module": "@jupyter-widgets/base",
            "_view_module_version": "1.2.0",
            "_view_name": "LayoutView",
            "align_content": null,
            "align_items": null,
            "align_self": null,
            "border": null,
            "bottom": null,
            "display": null,
            "flex": null,
            "flex_flow": null,
            "grid_area": null,
            "grid_auto_columns": null,
            "grid_auto_flow": null,
            "grid_auto_rows": null,
            "grid_column": null,
            "grid_gap": null,
            "grid_row": null,
            "grid_template_areas": null,
            "grid_template_columns": null,
            "grid_template_rows": null,
            "height": null,
            "justify_content": null,
            "justify_items": null,
            "left": null,
            "margin": null,
            "max_height": null,
            "max_width": null,
            "min_height": null,
            "min_width": null,
            "object_fit": null,
            "object_position": null,
            "order": null,
            "overflow": null,
            "overflow_x": null,
            "overflow_y": null,
            "padding": null,
            "right": null,
            "top": null,
            "visibility": null,
            "width": null
          }
        },
        "01a850436a074e0498447b150ce1184f": {
          "model_module": "@jupyter-widgets/controls",
          "model_module_version": "1.5.0",
          "model_name": "ProgressStyleModel",
          "state": {
            "_model_module": "@jupyter-widgets/controls",
            "_model_module_version": "1.5.0",
            "_model_name": "ProgressStyleModel",
            "_view_count": null,
            "_view_module": "@jupyter-widgets/base",
            "_view_module_version": "1.2.0",
            "_view_name": "StyleView",
            "bar_color": null,
            "description_width": ""
          }
        },
        "043f45fe0b244aea8c8da009359263c6": {
          "model_module": "@jupyter-widgets/base",
          "model_module_version": "1.2.0",
          "model_name": "LayoutModel",
          "state": {
            "_model_module": "@jupyter-widgets/base",
            "_model_module_version": "1.2.0",
            "_model_name": "LayoutModel",
            "_view_count": null,
            "_view_module": "@jupyter-widgets/base",
            "_view_module_version": "1.2.0",
            "_view_name": "LayoutView",
            "align_content": null,
            "align_items": null,
            "align_self": null,
            "border": null,
            "bottom": null,
            "display": null,
            "flex": null,
            "flex_flow": null,
            "grid_area": null,
            "grid_auto_columns": null,
            "grid_auto_flow": null,
            "grid_auto_rows": null,
            "grid_column": null,
            "grid_gap": null,
            "grid_row": null,
            "grid_template_areas": null,
            "grid_template_columns": null,
            "grid_template_rows": null,
            "height": null,
            "justify_content": null,
            "justify_items": null,
            "left": null,
            "margin": null,
            "max_height": null,
            "max_width": null,
            "min_height": null,
            "min_width": null,
            "object_fit": null,
            "object_position": null,
            "order": null,
            "overflow": null,
            "overflow_x": null,
            "overflow_y": null,
            "padding": null,
            "right": null,
            "top": null,
            "visibility": null,
            "width": null
          }
        },
        "04ffc682cb0a40a7b2fddbe3b264713d": {
          "model_module": "@jupyter-widgets/controls",
          "model_module_version": "1.5.0",
          "model_name": "DescriptionStyleModel",
          "state": {
            "_model_module": "@jupyter-widgets/controls",
            "_model_module_version": "1.5.0",
            "_model_name": "DescriptionStyleModel",
            "_view_count": null,
            "_view_module": "@jupyter-widgets/base",
            "_view_module_version": "1.2.0",
            "_view_name": "StyleView",
            "description_width": ""
          }
        },
        "058fcba27c4b44d2b09a966d42822429": {
          "model_module": "@jupyter-widgets/controls",
          "model_module_version": "1.5.0",
          "model_name": "HTMLModel",
          "state": {
            "_dom_classes": [],
            "_model_module": "@jupyter-widgets/controls",
            "_model_module_version": "1.5.0",
            "_model_name": "HTMLModel",
            "_view_count": null,
            "_view_module": "@jupyter-widgets/controls",
            "_view_module_version": "1.5.0",
            "_view_name": "HTMLView",
            "description": "",
            "description_tooltip": null,
            "layout": "IPY_MODEL_8e430cc6f6694bd09db20492b3dc5915",
            "placeholder": "​",
            "style": "IPY_MODEL_f3f8bc6975d44308b6662910c0ab64b1",
            "value": " 1.12G/1.12G [00:15&lt;00:00, 73.9MB/s]"
          }
        },
        "06959f757e754e92bb281b2c0a3fc468": {
          "model_module": "@jupyter-widgets/controls",
          "model_module_version": "1.5.0",
          "model_name": "DescriptionStyleModel",
          "state": {
            "_model_module": "@jupyter-widgets/controls",
            "_model_module_version": "1.5.0",
            "_model_name": "DescriptionStyleModel",
            "_view_count": null,
            "_view_module": "@jupyter-widgets/base",
            "_view_module_version": "1.2.0",
            "_view_name": "StyleView",
            "description_width": ""
          }
        },
        "0a4e9f3e097e47589693da4134fa4e95": {
          "model_module": "@jupyter-widgets/controls",
          "model_module_version": "1.5.0",
          "model_name": "HBoxModel",
          "state": {
            "_dom_classes": [],
            "_model_module": "@jupyter-widgets/controls",
            "_model_module_version": "1.5.0",
            "_model_name": "HBoxModel",
            "_view_count": null,
            "_view_module": "@jupyter-widgets/controls",
            "_view_module_version": "1.5.0",
            "_view_name": "HBoxView",
            "box_style": "",
            "children": [
              "IPY_MODEL_a20a3344f0f14a5c8b991fc41a16a4d0",
              "IPY_MODEL_7320c021543e41b2aa50940b12394816",
              "IPY_MODEL_058fcba27c4b44d2b09a966d42822429"
            ],
            "layout": "IPY_MODEL_b3f3da532e414a739b98b244a6967d34"
          }
        },
        "0b07e25377244e6f92fc8a94dd69795f": {
          "model_module": "@jupyter-widgets/controls",
          "model_module_version": "1.5.0",
          "model_name": "DescriptionStyleModel",
          "state": {
            "_model_module": "@jupyter-widgets/controls",
            "_model_module_version": "1.5.0",
            "_model_name": "DescriptionStyleModel",
            "_view_count": null,
            "_view_module": "@jupyter-widgets/base",
            "_view_module_version": "1.2.0",
            "_view_name": "StyleView",
            "description_width": ""
          }
        },
        "0cd873987e744e7aacd4ebd0f93d8610": {
          "model_module": "@jupyter-widgets/base",
          "model_module_version": "1.2.0",
          "model_name": "LayoutModel",
          "state": {
            "_model_module": "@jupyter-widgets/base",
            "_model_module_version": "1.2.0",
            "_model_name": "LayoutModel",
            "_view_count": null,
            "_view_module": "@jupyter-widgets/base",
            "_view_module_version": "1.2.0",
            "_view_name": "LayoutView",
            "align_content": null,
            "align_items": null,
            "align_self": null,
            "border": null,
            "bottom": null,
            "display": null,
            "flex": null,
            "flex_flow": null,
            "grid_area": null,
            "grid_auto_columns": null,
            "grid_auto_flow": null,
            "grid_auto_rows": null,
            "grid_column": null,
            "grid_gap": null,
            "grid_row": null,
            "grid_template_areas": null,
            "grid_template_columns": null,
            "grid_template_rows": null,
            "height": null,
            "justify_content": null,
            "justify_items": null,
            "left": null,
            "margin": null,
            "max_height": null,
            "max_width": null,
            "min_height": null,
            "min_width": null,
            "object_fit": null,
            "object_position": null,
            "order": null,
            "overflow": null,
            "overflow_x": null,
            "overflow_y": null,
            "padding": null,
            "right": null,
            "top": null,
            "visibility": null,
            "width": null
          }
        },
        "0f7843ee4f3d4774a8330ab0a5fb757f": {
          "model_module": "@jupyter-widgets/base",
          "model_module_version": "1.2.0",
          "model_name": "LayoutModel",
          "state": {
            "_model_module": "@jupyter-widgets/base",
            "_model_module_version": "1.2.0",
            "_model_name": "LayoutModel",
            "_view_count": null,
            "_view_module": "@jupyter-widgets/base",
            "_view_module_version": "1.2.0",
            "_view_name": "LayoutView",
            "align_content": null,
            "align_items": null,
            "align_self": null,
            "border": null,
            "bottom": null,
            "display": null,
            "flex": null,
            "flex_flow": null,
            "grid_area": null,
            "grid_auto_columns": null,
            "grid_auto_flow": null,
            "grid_auto_rows": null,
            "grid_column": null,
            "grid_gap": null,
            "grid_row": null,
            "grid_template_areas": null,
            "grid_template_columns": null,
            "grid_template_rows": null,
            "height": null,
            "justify_content": null,
            "justify_items": null,
            "left": null,
            "margin": null,
            "max_height": null,
            "max_width": null,
            "min_height": null,
            "min_width": null,
            "object_fit": null,
            "object_position": null,
            "order": null,
            "overflow": null,
            "overflow_x": null,
            "overflow_y": null,
            "padding": null,
            "right": null,
            "top": null,
            "visibility": null,
            "width": null
          }
        },
        "1372dc55d84d4a188a1c59885496107d": {
          "model_module": "@jupyter-widgets/base",
          "model_module_version": "1.2.0",
          "model_name": "LayoutModel",
          "state": {
            "_model_module": "@jupyter-widgets/base",
            "_model_module_version": "1.2.0",
            "_model_name": "LayoutModel",
            "_view_count": null,
            "_view_module": "@jupyter-widgets/base",
            "_view_module_version": "1.2.0",
            "_view_name": "LayoutView",
            "align_content": null,
            "align_items": null,
            "align_self": null,
            "border": null,
            "bottom": null,
            "display": null,
            "flex": null,
            "flex_flow": null,
            "grid_area": null,
            "grid_auto_columns": null,
            "grid_auto_flow": null,
            "grid_auto_rows": null,
            "grid_column": null,
            "grid_gap": null,
            "grid_row": null,
            "grid_template_areas": null,
            "grid_template_columns": null,
            "grid_template_rows": null,
            "height": null,
            "justify_content": null,
            "justify_items": null,
            "left": null,
            "margin": null,
            "max_height": null,
            "max_width": null,
            "min_height": null,
            "min_width": null,
            "object_fit": null,
            "object_position": null,
            "order": null,
            "overflow": null,
            "overflow_x": null,
            "overflow_y": null,
            "padding": null,
            "right": null,
            "top": null,
            "visibility": null,
            "width": null
          }
        },
        "1a1ffbadd5ce473e8ea947b9a4a068c5": {
          "model_module": "@jupyter-widgets/controls",
          "model_module_version": "1.5.0",
          "model_name": "ProgressStyleModel",
          "state": {
            "_model_module": "@jupyter-widgets/controls",
            "_model_module_version": "1.5.0",
            "_model_name": "ProgressStyleModel",
            "_view_count": null,
            "_view_module": "@jupyter-widgets/base",
            "_view_module_version": "1.2.0",
            "_view_name": "StyleView",
            "bar_color": null,
            "description_width": ""
          }
        },
        "1a79a0211dc44d0684ed3ccc2cd935e8": {
          "model_module": "@jupyter-widgets/controls",
          "model_module_version": "1.5.0",
          "model_name": "LabelModel",
          "state": {
            "_dom_classes": [],
            "_model_module": "@jupyter-widgets/controls",
            "_model_module_version": "1.5.0",
            "_model_name": "LabelModel",
            "_view_count": null,
            "_view_module": "@jupyter-widgets/controls",
            "_view_module_version": "1.5.0",
            "_view_name": "LabelView",
            "description": "",
            "description_tooltip": null,
            "layout": "IPY_MODEL_b73231a3b90c4387b0fd3c57b06aed3e",
            "placeholder": "​",
            "style": "IPY_MODEL_919e0f88cbb741388ef6fcc60aa5b232",
            "value": "Login successful"
          }
        },
        "1d4d7d7b1225458ea83e6b4bac5a04f4": {
          "model_module": "@jupyter-widgets/controls",
          "model_module_version": "1.5.0",
          "model_name": "FloatProgressModel",
          "state": {
            "_dom_classes": [],
            "_model_module": "@jupyter-widgets/controls",
            "_model_module_version": "1.5.0",
            "_model_name": "FloatProgressModel",
            "_view_count": null,
            "_view_module": "@jupyter-widgets/controls",
            "_view_module_version": "1.5.0",
            "_view_name": "ProgressView",
            "bar_style": "success",
            "description": "",
            "description_tooltip": null,
            "layout": "IPY_MODEL_7fb919df41234b04a68f56ed8ba6de3a",
            "max": 5069051,
            "min": 0,
            "orientation": "horizontal",
            "style": "IPY_MODEL_b4bc0f8a93d144b4b205ab298335fa34",
            "value": 5069051
          }
        },
        "1f75115359ac4732b881c8c66176c530": {
          "model_module": "@jupyter-widgets/controls",
          "model_module_version": "1.5.0",
          "model_name": "DescriptionStyleModel",
          "state": {
            "_model_module": "@jupyter-widgets/controls",
            "_model_module_version": "1.5.0",
            "_model_name": "DescriptionStyleModel",
            "_view_count": null,
            "_view_module": "@jupyter-widgets/base",
            "_view_module_version": "1.2.0",
            "_view_name": "StyleView",
            "description_width": ""
          }
        },
        "211056921bf44b8e8bc2bba96cce9e15": {
          "model_module": "@jupyter-widgets/base",
          "model_module_version": "1.2.0",
          "model_name": "LayoutModel",
          "state": {
            "_model_module": "@jupyter-widgets/base",
            "_model_module_version": "1.2.0",
            "_model_name": "LayoutModel",
            "_view_count": null,
            "_view_module": "@jupyter-widgets/base",
            "_view_module_version": "1.2.0",
            "_view_name": "LayoutView",
            "align_content": null,
            "align_items": null,
            "align_self": null,
            "border": null,
            "bottom": null,
            "display": null,
            "flex": null,
            "flex_flow": null,
            "grid_area": null,
            "grid_auto_columns": null,
            "grid_auto_flow": null,
            "grid_auto_rows": null,
            "grid_column": null,
            "grid_gap": null,
            "grid_row": null,
            "grid_template_areas": null,
            "grid_template_columns": null,
            "grid_template_rows": null,
            "height": null,
            "justify_content": null,
            "justify_items": null,
            "left": null,
            "margin": null,
            "max_height": null,
            "max_width": null,
            "min_height": null,
            "min_width": null,
            "object_fit": null,
            "object_position": null,
            "order": null,
            "overflow": null,
            "overflow_x": null,
            "overflow_y": null,
            "padding": null,
            "right": null,
            "top": null,
            "visibility": null,
            "width": null
          }
        },
        "25773ae387724c43b4f15407c759b95f": {
          "model_module": "@jupyter-widgets/controls",
          "model_module_version": "1.5.0",
          "model_name": "HTMLModel",
          "state": {
            "_dom_classes": [],
            "_model_module": "@jupyter-widgets/controls",
            "_model_module_version": "1.5.0",
            "_model_name": "HTMLModel",
            "_view_count": null,
            "_view_module": "@jupyter-widgets/controls",
            "_view_module_version": "1.5.0",
            "_view_name": "HTMLView",
            "description": "",
            "description_tooltip": null,
            "layout": "IPY_MODEL_43bd8ca259e2496995f8219557a8b6d3",
            "placeholder": "​",
            "style": "IPY_MODEL_06959f757e754e92bb281b2c0a3fc468",
            "value": " 615/615 [00:00&lt;00:00, 17.0kB/s]"
          }
        },
        "2789add056c74f7194ecc905154317cd": {
          "model_module": "@jupyter-widgets/controls",
          "model_module_version": "1.5.0",
          "model_name": "DescriptionStyleModel",
          "state": {
            "_model_module": "@jupyter-widgets/controls",
            "_model_module_version": "1.5.0",
            "_model_name": "DescriptionStyleModel",
            "_view_count": null,
            "_view_module": "@jupyter-widgets/base",
            "_view_module_version": "1.2.0",
            "_view_name": "StyleView",
            "description_width": ""
          }
        },
        "29eb0f2233de471fbd13a99be0854de1": {
          "model_module": "@jupyter-widgets/controls",
          "model_module_version": "1.5.0",
          "model_name": "FloatProgressModel",
          "state": {
            "_dom_classes": [],
            "_model_module": "@jupyter-widgets/controls",
            "_model_module_version": "1.5.0",
            "_model_name": "FloatProgressModel",
            "_view_count": null,
            "_view_module": "@jupyter-widgets/controls",
            "_view_module_version": "1.5.0",
            "_view_name": "ProgressView",
            "bar_style": "success",
            "description": "",
            "description_tooltip": null,
            "layout": "IPY_MODEL_38c2d31e44d54f0e80d697e82376c798",
            "max": 17082660,
            "min": 0,
            "orientation": "horizontal",
            "style": "IPY_MODEL_71636c0923ce439ead1eb8f1053cfbeb",
            "value": 17082660
          }
        },
        "2a4df430e74240a1942edd0d0f3c1e18": {
          "model_module": "@jupyter-widgets/controls",
          "model_module_version": "1.5.0",
          "model_name": "ProgressStyleModel",
          "state": {
            "_model_module": "@jupyter-widgets/controls",
            "_model_module_version": "1.5.0",
            "_model_name": "ProgressStyleModel",
            "_view_count": null,
            "_view_module": "@jupyter-widgets/base",
            "_view_module_version": "1.2.0",
            "_view_name": "StyleView",
            "bar_color": null,
            "description_width": ""
          }
        },
        "30c591fc13b447538aebcfe1d681c7bc": {
          "model_module": "@jupyter-widgets/controls",
          "model_module_version": "1.5.0",
          "model_name": "HTMLModel",
          "state": {
            "_dom_classes": [],
            "_model_module": "@jupyter-widgets/controls",
            "_model_module_version": "1.5.0",
            "_model_name": "HTMLModel",
            "_view_count": null,
            "_view_module": "@jupyter-widgets/controls",
            "_view_module_version": "1.5.0",
            "_view_name": "HTMLView",
            "description": "",
            "description_tooltip": null,
            "layout": "IPY_MODEL_9df3417ed4224940bd64a4e218a3910b",
            "placeholder": "​",
            "style": "IPY_MODEL_ca74f8c935754275a12488224b220dad",
            "value": "Upload 1 LFS files: 100%"
          }
        },
        "32cd041ce23844f4913884216b4d6f86": {
          "model_module": "@jupyter-widgets/base",
          "model_module_version": "1.2.0",
          "model_name": "LayoutModel",
          "state": {
            "_model_module": "@jupyter-widgets/base",
            "_model_module_version": "1.2.0",
            "_model_name": "LayoutModel",
            "_view_count": null,
            "_view_module": "@jupyter-widgets/base",
            "_view_module_version": "1.2.0",
            "_view_name": "LayoutView",
            "align_content": null,
            "align_items": null,
            "align_self": null,
            "border": null,
            "bottom": null,
            "display": null,
            "flex": null,
            "flex_flow": null,
            "grid_area": null,
            "grid_auto_columns": null,
            "grid_auto_flow": null,
            "grid_auto_rows": null,
            "grid_column": null,
            "grid_gap": null,
            "grid_row": null,
            "grid_template_areas": null,
            "grid_template_columns": null,
            "grid_template_rows": null,
            "height": null,
            "justify_content": null,
            "justify_items": null,
            "left": null,
            "margin": null,
            "max_height": null,
            "max_width": null,
            "min_height": null,
            "min_width": null,
            "object_fit": null,
            "object_position": null,
            "order": null,
            "overflow": null,
            "overflow_x": null,
            "overflow_y": null,
            "padding": null,
            "right": null,
            "top": null,
            "visibility": null,
            "width": null
          }
        },
        "3370bfd243fe4019a494409c666bb869": {
          "model_module": "@jupyter-widgets/controls",
          "model_module_version": "1.5.0",
          "model_name": "HTMLModel",
          "state": {
            "_dom_classes": [],
            "_model_module": "@jupyter-widgets/controls",
            "_model_module_version": "1.5.0",
            "_model_name": "HTMLModel",
            "_view_count": null,
            "_view_module": "@jupyter-widgets/controls",
            "_view_module_version": "1.5.0",
            "_view_name": "HTMLView",
            "description": "",
            "description_tooltip": null,
            "layout": "IPY_MODEL_76ccf3e158ce48c6a9abb365ab867bd2",
            "placeholder": "​",
            "style": "IPY_MODEL_9f826d89de2741738b3eddfdeadd133b",
            "value": " 17.1M/17.1M [00:00&lt;00:00, 43.1MB/s]"
          }
        },
        "34b875800a494aa6a1133212ac0c9b0f": {
          "model_module": "@jupyter-widgets/controls",
          "model_module_version": "1.5.0",
          "model_name": "DescriptionStyleModel",
          "state": {
            "_model_module": "@jupyter-widgets/controls",
            "_model_module_version": "1.5.0",
            "_model_name": "DescriptionStyleModel",
            "_view_count": null,
            "_view_module": "@jupyter-widgets/base",
            "_view_module_version": "1.2.0",
            "_view_name": "StyleView",
            "description_width": ""
          }
        },
        "387dc904f86f4c33836fdd26126d53a1": {
          "model_module": "@jupyter-widgets/base",
          "model_module_version": "1.2.0",
          "model_name": "LayoutModel",
          "state": {
            "_model_module": "@jupyter-widgets/base",
            "_model_module_version": "1.2.0",
            "_model_name": "LayoutModel",
            "_view_count": null,
            "_view_module": "@jupyter-widgets/base",
            "_view_module_version": "1.2.0",
            "_view_name": "LayoutView",
            "align_content": null,
            "align_items": null,
            "align_self": null,
            "border": null,
            "bottom": null,
            "display": null,
            "flex": null,
            "flex_flow": null,
            "grid_area": null,
            "grid_auto_columns": null,
            "grid_auto_flow": null,
            "grid_auto_rows": null,
            "grid_column": null,
            "grid_gap": null,
            "grid_row": null,
            "grid_template_areas": null,
            "grid_template_columns": null,
            "grid_template_rows": null,
            "height": null,
            "justify_content": null,
            "justify_items": null,
            "left": null,
            "margin": null,
            "max_height": null,
            "max_width": null,
            "min_height": null,
            "min_width": null,
            "object_fit": null,
            "object_position": null,
            "order": null,
            "overflow": null,
            "overflow_x": null,
            "overflow_y": null,
            "padding": null,
            "right": null,
            "top": null,
            "visibility": null,
            "width": null
          }
        },
        "38c2d31e44d54f0e80d697e82376c798": {
          "model_module": "@jupyter-widgets/base",
          "model_module_version": "1.2.0",
          "model_name": "LayoutModel",
          "state": {
            "_model_module": "@jupyter-widgets/base",
            "_model_module_version": "1.2.0",
            "_model_name": "LayoutModel",
            "_view_count": null,
            "_view_module": "@jupyter-widgets/base",
            "_view_module_version": "1.2.0",
            "_view_name": "LayoutView",
            "align_content": null,
            "align_items": null,
            "align_self": null,
            "border": null,
            "bottom": null,
            "display": null,
            "flex": null,
            "flex_flow": null,
            "grid_area": null,
            "grid_auto_columns": null,
            "grid_auto_flow": null,
            "grid_auto_rows": null,
            "grid_column": null,
            "grid_gap": null,
            "grid_row": null,
            "grid_template_areas": null,
            "grid_template_columns": null,
            "grid_template_rows": null,
            "height": null,
            "justify_content": null,
            "justify_items": null,
            "left": null,
            "margin": null,
            "max_height": null,
            "max_width": null,
            "min_height": null,
            "min_width": null,
            "object_fit": null,
            "object_position": null,
            "order": null,
            "overflow": null,
            "overflow_x": null,
            "overflow_y": null,
            "padding": null,
            "right": null,
            "top": null,
            "visibility": null,
            "width": null
          }
        },
        "3cec33a81e17426ab55a09626d9137b0": {
          "model_module": "@jupyter-widgets/controls",
          "model_module_version": "1.5.0",
          "model_name": "DescriptionStyleModel",
          "state": {
            "_model_module": "@jupyter-widgets/controls",
            "_model_module_version": "1.5.0",
            "_model_name": "DescriptionStyleModel",
            "_view_count": null,
            "_view_module": "@jupyter-widgets/base",
            "_view_module_version": "1.2.0",
            "_view_name": "StyleView",
            "description_width": ""
          }
        },
        "41137956ae004ad28e51f608188273da": {
          "model_module": "@jupyter-widgets/base",
          "model_module_version": "1.2.0",
          "model_name": "LayoutModel",
          "state": {
            "_model_module": "@jupyter-widgets/base",
            "_model_module_version": "1.2.0",
            "_model_name": "LayoutModel",
            "_view_count": null,
            "_view_module": "@jupyter-widgets/base",
            "_view_module_version": "1.2.0",
            "_view_name": "LayoutView",
            "align_content": null,
            "align_items": null,
            "align_self": null,
            "border": null,
            "bottom": null,
            "display": null,
            "flex": null,
            "flex_flow": null,
            "grid_area": null,
            "grid_auto_columns": null,
            "grid_auto_flow": null,
            "grid_auto_rows": null,
            "grid_column": null,
            "grid_gap": null,
            "grid_row": null,
            "grid_template_areas": null,
            "grid_template_columns": null,
            "grid_template_rows": null,
            "height": null,
            "justify_content": null,
            "justify_items": null,
            "left": null,
            "margin": null,
            "max_height": null,
            "max_width": null,
            "min_height": null,
            "min_width": null,
            "object_fit": null,
            "object_position": null,
            "order": null,
            "overflow": null,
            "overflow_x": null,
            "overflow_y": null,
            "padding": null,
            "right": null,
            "top": null,
            "visibility": null,
            "width": null
          }
        },
        "4142f7f495d7483c86fbaa35b4a2c029": {
          "model_module": "@jupyter-widgets/controls",
          "model_module_version": "1.5.0",
          "model_name": "HTMLModel",
          "state": {
            "_dom_classes": [],
            "_model_module": "@jupyter-widgets/controls",
            "_model_module_version": "1.5.0",
            "_model_name": "HTMLModel",
            "_view_count": null,
            "_view_module": "@jupyter-widgets/controls",
            "_view_module_version": "1.5.0",
            "_view_name": "HTMLView",
            "description": "",
            "description_tooltip": null,
            "layout": "IPY_MODEL_41137956ae004ad28e51f608188273da",
            "placeholder": "​",
            "style": "IPY_MODEL_d913c11f769f4a4aa4cdf91111aaee92",
            "value": "Downloading (…)/main/tokenizer.json: 100%"
          }
        },
        "4187aa64457941aebb3668d661947b0f": {
          "model_module": "@jupyter-widgets/controls",
          "model_module_version": "1.5.0",
          "model_name": "CheckboxModel",
          "state": {
            "_dom_classes": [],
            "_model_module": "@jupyter-widgets/controls",
            "_model_module_version": "1.5.0",
            "_model_name": "CheckboxModel",
            "_view_count": null,
            "_view_module": "@jupyter-widgets/controls",
            "_view_module_version": "1.5.0",
            "_view_name": "CheckboxView",
            "description": "Add token as git credential?",
            "description_tooltip": null,
            "disabled": false,
            "indent": true,
            "layout": "IPY_MODEL_bbf6e310fb0f481590bd9d0878242ce2",
            "style": "IPY_MODEL_34b875800a494aa6a1133212ac0c9b0f",
            "value": true
          }
        },
        "42078267ccd34adfb577cfdbcee67a7f": {
          "model_module": "@jupyter-widgets/controls",
          "model_module_version": "1.5.0",
          "model_name": "HTMLModel",
          "state": {
            "_dom_classes": [],
            "_model_module": "@jupyter-widgets/controls",
            "_model_module_version": "1.5.0",
            "_model_name": "HTMLModel",
            "_view_count": null,
            "_view_module": "@jupyter-widgets/controls",
            "_view_module_version": "1.5.0",
            "_view_name": "HTMLView",
            "description": "",
            "description_tooltip": null,
            "layout": "IPY_MODEL_fd20ad6592c14a36a24bcad4628b66f5",
            "placeholder": "​",
            "style": "IPY_MODEL_a45bcf77146645d1aed48de9501704b9",
            "value": "Downloading (…)lve/main/config.json: 100%"
          }
        },
        "425ff43a68b64fb488aadc01ee0cce38": {
          "model_module": "@jupyter-widgets/controls",
          "model_module_version": "1.5.0",
          "model_name": "FloatProgressModel",
          "state": {
            "_dom_classes": [],
            "_model_module": "@jupyter-widgets/controls",
            "_model_module_version": "1.5.0",
            "_model_name": "FloatProgressModel",
            "_view_count": null,
            "_view_module": "@jupyter-widgets/controls",
            "_view_module_version": "1.5.0",
            "_view_name": "ProgressView",
            "bar_style": "success",
            "description": "",
            "description_tooltip": null,
            "layout": "IPY_MODEL_6323eced3cc84802b0c791c21c2c51d2",
            "max": 9096718,
            "min": 0,
            "orientation": "horizontal",
            "style": "IPY_MODEL_d41a5aeb9860409888ec9c844dbbfbbe",
            "value": 9096718
          }
        },
        "43bd8ca259e2496995f8219557a8b6d3": {
          "model_module": "@jupyter-widgets/base",
          "model_module_version": "1.2.0",
          "model_name": "LayoutModel",
          "state": {
            "_model_module": "@jupyter-widgets/base",
            "_model_module_version": "1.2.0",
            "_model_name": "LayoutModel",
            "_view_count": null,
            "_view_module": "@jupyter-widgets/base",
            "_view_module_version": "1.2.0",
            "_view_name": "LayoutView",
            "align_content": null,
            "align_items": null,
            "align_self": null,
            "border": null,
            "bottom": null,
            "display": null,
            "flex": null,
            "flex_flow": null,
            "grid_area": null,
            "grid_auto_columns": null,
            "grid_auto_flow": null,
            "grid_auto_rows": null,
            "grid_column": null,
            "grid_gap": null,
            "grid_row": null,
            "grid_template_areas": null,
            "grid_template_columns": null,
            "grid_template_rows": null,
            "height": null,
            "justify_content": null,
            "justify_items": null,
            "left": null,
            "margin": null,
            "max_height": null,
            "max_width": null,
            "min_height": null,
            "min_width": null,
            "object_fit": null,
            "object_position": null,
            "order": null,
            "overflow": null,
            "overflow_x": null,
            "overflow_y": null,
            "padding": null,
            "right": null,
            "top": null,
            "visibility": null,
            "width": null
          }
        },
        "45885f9b38de4d7abc971976ca4899eb": {
          "model_module": "@jupyter-widgets/base",
          "model_module_version": "1.2.0",
          "model_name": "LayoutModel",
          "state": {
            "_model_module": "@jupyter-widgets/base",
            "_model_module_version": "1.2.0",
            "_model_name": "LayoutModel",
            "_view_count": null,
            "_view_module": "@jupyter-widgets/base",
            "_view_module_version": "1.2.0",
            "_view_name": "LayoutView",
            "align_content": null,
            "align_items": null,
            "align_self": null,
            "border": null,
            "bottom": null,
            "display": null,
            "flex": null,
            "flex_flow": null,
            "grid_area": null,
            "grid_auto_columns": null,
            "grid_auto_flow": null,
            "grid_auto_rows": null,
            "grid_column": null,
            "grid_gap": null,
            "grid_row": null,
            "grid_template_areas": null,
            "grid_template_columns": null,
            "grid_template_rows": null,
            "height": null,
            "justify_content": null,
            "justify_items": null,
            "left": null,
            "margin": null,
            "max_height": null,
            "max_width": null,
            "min_height": null,
            "min_width": null,
            "object_fit": null,
            "object_position": null,
            "order": null,
            "overflow": null,
            "overflow_x": null,
            "overflow_y": null,
            "padding": null,
            "right": null,
            "top": null,
            "visibility": null,
            "width": null
          }
        },
        "45e3728386b949188febd5933cb52bc6": {
          "model_module": "@jupyter-widgets/base",
          "model_module_version": "1.2.0",
          "model_name": "LayoutModel",
          "state": {
            "_model_module": "@jupyter-widgets/base",
            "_model_module_version": "1.2.0",
            "_model_name": "LayoutModel",
            "_view_count": null,
            "_view_module": "@jupyter-widgets/base",
            "_view_module_version": "1.2.0",
            "_view_name": "LayoutView",
            "align_content": null,
            "align_items": "center",
            "align_self": null,
            "border": null,
            "bottom": null,
            "display": "flex",
            "flex": null,
            "flex_flow": "column",
            "grid_area": null,
            "grid_auto_columns": null,
            "grid_auto_flow": null,
            "grid_auto_rows": null,
            "grid_column": null,
            "grid_gap": null,
            "grid_row": null,
            "grid_template_areas": null,
            "grid_template_columns": null,
            "grid_template_rows": null,
            "height": null,
            "justify_content": null,
            "justify_items": null,
            "left": null,
            "margin": null,
            "max_height": null,
            "max_width": null,
            "min_height": null,
            "min_width": null,
            "object_fit": null,
            "object_position": null,
            "order": null,
            "overflow": null,
            "overflow_x": null,
            "overflow_y": null,
            "padding": null,
            "right": null,
            "top": null,
            "visibility": null,
            "width": "50%"
          }
        },
        "48666dbff80549a6a6f38c7362138d26": {
          "model_module": "@jupyter-widgets/base",
          "model_module_version": "1.2.0",
          "model_name": "LayoutModel",
          "state": {
            "_model_module": "@jupyter-widgets/base",
            "_model_module_version": "1.2.0",
            "_model_name": "LayoutModel",
            "_view_count": null,
            "_view_module": "@jupyter-widgets/base",
            "_view_module_version": "1.2.0",
            "_view_name": "LayoutView",
            "align_content": null,
            "align_items": null,
            "align_self": null,
            "border": null,
            "bottom": null,
            "display": null,
            "flex": null,
            "flex_flow": null,
            "grid_area": null,
            "grid_auto_columns": null,
            "grid_auto_flow": null,
            "grid_auto_rows": null,
            "grid_column": null,
            "grid_gap": null,
            "grid_row": null,
            "grid_template_areas": null,
            "grid_template_columns": null,
            "grid_template_rows": null,
            "height": null,
            "justify_content": null,
            "justify_items": null,
            "left": null,
            "margin": null,
            "max_height": null,
            "max_width": null,
            "min_height": null,
            "min_width": null,
            "object_fit": null,
            "object_position": null,
            "order": null,
            "overflow": null,
            "overflow_x": null,
            "overflow_y": null,
            "padding": null,
            "right": null,
            "top": null,
            "visibility": null,
            "width": null
          }
        },
        "4cc6d791ac8c41a4aafa9cb3b973b8d8": {
          "model_module": "@jupyter-widgets/base",
          "model_module_version": "1.2.0",
          "model_name": "LayoutModel",
          "state": {
            "_model_module": "@jupyter-widgets/base",
            "_model_module_version": "1.2.0",
            "_model_name": "LayoutModel",
            "_view_count": null,
            "_view_module": "@jupyter-widgets/base",
            "_view_module_version": "1.2.0",
            "_view_name": "LayoutView",
            "align_content": null,
            "align_items": null,
            "align_self": null,
            "border": null,
            "bottom": null,
            "display": null,
            "flex": null,
            "flex_flow": null,
            "grid_area": null,
            "grid_auto_columns": null,
            "grid_auto_flow": null,
            "grid_auto_rows": null,
            "grid_column": null,
            "grid_gap": null,
            "grid_row": null,
            "grid_template_areas": null,
            "grid_template_columns": null,
            "grid_template_rows": null,
            "height": null,
            "justify_content": null,
            "justify_items": null,
            "left": null,
            "margin": null,
            "max_height": null,
            "max_width": null,
            "min_height": null,
            "min_width": null,
            "object_fit": null,
            "object_position": null,
            "order": null,
            "overflow": null,
            "overflow_x": null,
            "overflow_y": null,
            "padding": null,
            "right": null,
            "top": null,
            "visibility": null,
            "width": null
          }
        },
        "4d285ee7fa354890b9a2504069cbb5c4": {
          "model_module": "@jupyter-widgets/controls",
          "model_module_version": "1.5.0",
          "model_name": "HTMLModel",
          "state": {
            "_dom_classes": [],
            "_model_module": "@jupyter-widgets/controls",
            "_model_module_version": "1.5.0",
            "_model_name": "HTMLModel",
            "_view_count": null,
            "_view_module": "@jupyter-widgets/controls",
            "_view_module_version": "1.5.0",
            "_view_name": "HTMLView",
            "description": "",
            "description_tooltip": null,
            "layout": "IPY_MODEL_fb3cf9a258e9423da979fa0ca2bd057d",
            "placeholder": "​",
            "style": "IPY_MODEL_e8f4d4f2873d4ef7bce370a09713c801",
            "value": "Downloading (…)tencepiece.bpe.model: 100%"
          }
        },
        "4f56314667bc4f928efb6b19a6ed0c0f": {
          "model_module": "@jupyter-widgets/controls",
          "model_module_version": "1.5.0",
          "model_name": "HBoxModel",
          "state": {
            "_dom_classes": [],
            "_model_module": "@jupyter-widgets/controls",
            "_model_module_version": "1.5.0",
            "_model_name": "HBoxModel",
            "_view_count": null,
            "_view_module": "@jupyter-widgets/controls",
            "_view_module_version": "1.5.0",
            "_view_name": "HBoxView",
            "box_style": "",
            "children": [
              "IPY_MODEL_4142f7f495d7483c86fbaa35b4a2c029",
              "IPY_MODEL_425ff43a68b64fb488aadc01ee0cce38",
              "IPY_MODEL_d3fcfced67774b6caae7e64e65f828d3"
            ],
            "layout": "IPY_MODEL_9282af109e694317980da8fa04022349"
          }
        },
        "5281233348804a849d0c279c01c915d7": {
          "model_module": "@jupyter-widgets/base",
          "model_module_version": "1.2.0",
          "model_name": "LayoutModel",
          "state": {
            "_model_module": "@jupyter-widgets/base",
            "_model_module_version": "1.2.0",
            "_model_name": "LayoutModel",
            "_view_count": null,
            "_view_module": "@jupyter-widgets/base",
            "_view_module_version": "1.2.0",
            "_view_name": "LayoutView",
            "align_content": null,
            "align_items": null,
            "align_self": null,
            "border": null,
            "bottom": null,
            "display": null,
            "flex": null,
            "flex_flow": null,
            "grid_area": null,
            "grid_auto_columns": null,
            "grid_auto_flow": null,
            "grid_auto_rows": null,
            "grid_column": null,
            "grid_gap": null,
            "grid_row": null,
            "grid_template_areas": null,
            "grid_template_columns": null,
            "grid_template_rows": null,
            "height": null,
            "justify_content": null,
            "justify_items": null,
            "left": null,
            "margin": null,
            "max_height": null,
            "max_width": null,
            "min_height": null,
            "min_width": null,
            "object_fit": null,
            "object_position": null,
            "order": null,
            "overflow": null,
            "overflow_x": null,
            "overflow_y": null,
            "padding": null,
            "right": null,
            "top": null,
            "visibility": null,
            "width": null
          }
        },
        "552b8aae5a924980bcd4caa0ead8ad1f": {
          "model_module": "@jupyter-widgets/controls",
          "model_module_version": "1.5.0",
          "model_name": "FloatProgressModel",
          "state": {
            "_dom_classes": [],
            "_model_module": "@jupyter-widgets/controls",
            "_model_module_version": "1.5.0",
            "_model_name": "FloatProgressModel",
            "_view_count": null,
            "_view_module": "@jupyter-widgets/controls",
            "_view_module_version": "1.5.0",
            "_view_name": "ProgressView",
            "bar_style": "success",
            "description": "",
            "description_tooltip": null,
            "layout": "IPY_MODEL_1372dc55d84d4a188a1c59885496107d",
            "max": 2472,
            "min": 0,
            "orientation": "horizontal",
            "style": "IPY_MODEL_1a1ffbadd5ce473e8ea947b9a4a068c5",
            "value": 2472
          }
        },
        "552c4971dc354a96b45d7b40af366d36": {
          "model_module": "@jupyter-widgets/base",
          "model_module_version": "1.2.0",
          "model_name": "LayoutModel",
          "state": {
            "_model_module": "@jupyter-widgets/base",
            "_model_module_version": "1.2.0",
            "_model_name": "LayoutModel",
            "_view_count": null,
            "_view_module": "@jupyter-widgets/base",
            "_view_module_version": "1.2.0",
            "_view_name": "LayoutView",
            "align_content": null,
            "align_items": null,
            "align_self": null,
            "border": null,
            "bottom": null,
            "display": null,
            "flex": null,
            "flex_flow": null,
            "grid_area": null,
            "grid_auto_columns": null,
            "grid_auto_flow": null,
            "grid_auto_rows": null,
            "grid_column": null,
            "grid_gap": null,
            "grid_row": null,
            "grid_template_areas": null,
            "grid_template_columns": null,
            "grid_template_rows": null,
            "height": null,
            "justify_content": null,
            "justify_items": null,
            "left": null,
            "margin": null,
            "max_height": null,
            "max_width": null,
            "min_height": null,
            "min_width": null,
            "object_fit": null,
            "object_position": null,
            "order": null,
            "overflow": null,
            "overflow_x": null,
            "overflow_y": null,
            "padding": null,
            "right": null,
            "top": null,
            "visibility": null,
            "width": null
          }
        },
        "5649d51c976246e6979e6660493cdf55": {
          "model_module": "@jupyter-widgets/controls",
          "model_module_version": "1.5.0",
          "model_name": "DescriptionStyleModel",
          "state": {
            "_model_module": "@jupyter-widgets/controls",
            "_model_module_version": "1.5.0",
            "_model_name": "DescriptionStyleModel",
            "_view_count": null,
            "_view_module": "@jupyter-widgets/base",
            "_view_module_version": "1.2.0",
            "_view_name": "StyleView",
            "description_width": ""
          }
        },
        "5994b7a962a24fe49b6b217138521d18": {
          "model_module": "@jupyter-widgets/base",
          "model_module_version": "1.2.0",
          "model_name": "LayoutModel",
          "state": {
            "_model_module": "@jupyter-widgets/base",
            "_model_module_version": "1.2.0",
            "_model_name": "LayoutModel",
            "_view_count": null,
            "_view_module": "@jupyter-widgets/base",
            "_view_module_version": "1.2.0",
            "_view_name": "LayoutView",
            "align_content": null,
            "align_items": null,
            "align_self": null,
            "border": null,
            "bottom": null,
            "display": null,
            "flex": null,
            "flex_flow": null,
            "grid_area": null,
            "grid_auto_columns": null,
            "grid_auto_flow": null,
            "grid_auto_rows": null,
            "grid_column": null,
            "grid_gap": null,
            "grid_row": null,
            "grid_template_areas": null,
            "grid_template_columns": null,
            "grid_template_rows": null,
            "height": null,
            "justify_content": null,
            "justify_items": null,
            "left": null,
            "margin": null,
            "max_height": null,
            "max_width": null,
            "min_height": null,
            "min_width": null,
            "object_fit": null,
            "object_position": null,
            "order": null,
            "overflow": null,
            "overflow_x": null,
            "overflow_y": null,
            "padding": null,
            "right": null,
            "top": null,
            "visibility": null,
            "width": null
          }
        },
        "5b9657c94b3141fb86f6dd74711dfc7d": {
          "model_module": "@jupyter-widgets/controls",
          "model_module_version": "1.5.0",
          "model_name": "DescriptionStyleModel",
          "state": {
            "_model_module": "@jupyter-widgets/controls",
            "_model_module_version": "1.5.0",
            "_model_name": "DescriptionStyleModel",
            "_view_count": null,
            "_view_module": "@jupyter-widgets/base",
            "_view_module_version": "1.2.0",
            "_view_name": "StyleView",
            "description_width": ""
          }
        },
        "5d4ba1e81d434901aeaa4181a5452518": {
          "model_module": "@jupyter-widgets/controls",
          "model_module_version": "1.5.0",
          "model_name": "HBoxModel",
          "state": {
            "_dom_classes": [],
            "_model_module": "@jupyter-widgets/controls",
            "_model_module_version": "1.5.0",
            "_model_name": "HBoxModel",
            "_view_count": null,
            "_view_module": "@jupyter-widgets/controls",
            "_view_module_version": "1.5.0",
            "_view_name": "HBoxView",
            "box_style": "",
            "children": [
              "IPY_MODEL_663d3030bdbf4d21a206ad6b6776a270",
              "IPY_MODEL_29eb0f2233de471fbd13a99be0854de1",
              "IPY_MODEL_3370bfd243fe4019a494409c666bb869"
            ],
            "layout": "IPY_MODEL_5994b7a962a24fe49b6b217138521d18"
          }
        },
        "5ffee7df05c2407fa0c8705287ae879b": {
          "model_module": "@jupyter-widgets/controls",
          "model_module_version": "1.5.0",
          "model_name": "DescriptionStyleModel",
          "state": {
            "_model_module": "@jupyter-widgets/controls",
            "_model_module_version": "1.5.0",
            "_model_name": "DescriptionStyleModel",
            "_view_count": null,
            "_view_module": "@jupyter-widgets/base",
            "_view_module_version": "1.2.0",
            "_view_name": "StyleView",
            "description_width": ""
          }
        },
        "608c15c31fca450bb001a5eefe4ddc38": {
          "model_module": "@jupyter-widgets/controls",
          "model_module_version": "1.5.0",
          "model_name": "DescriptionStyleModel",
          "state": {
            "_model_module": "@jupyter-widgets/controls",
            "_model_module_version": "1.5.0",
            "_model_name": "DescriptionStyleModel",
            "_view_count": null,
            "_view_module": "@jupyter-widgets/base",
            "_view_module_version": "1.2.0",
            "_view_name": "StyleView",
            "description_width": ""
          }
        },
        "627ec901983f4c028d81a742e7125c55": {
          "model_module": "@jupyter-widgets/controls",
          "model_module_version": "1.5.0",
          "model_name": "PasswordModel",
          "state": {
            "_dom_classes": [],
            "_model_module": "@jupyter-widgets/controls",
            "_model_module_version": "1.5.0",
            "_model_name": "PasswordModel",
            "_view_count": null,
            "_view_module": "@jupyter-widgets/controls",
            "_view_module_version": "1.5.0",
            "_view_name": "PasswordView",
            "continuous_update": true,
            "description": "Token:",
            "description_tooltip": null,
            "disabled": false,
            "layout": "IPY_MODEL_b1bf6ea42ce74d1685b6df5ec48d007c",
            "placeholder": "​",
            "style": "IPY_MODEL_2789add056c74f7194ecc905154317cd",
            "value": ""
          }
        },
        "6323eced3cc84802b0c791c21c2c51d2": {
          "model_module": "@jupyter-widgets/base",
          "model_module_version": "1.2.0",
          "model_name": "LayoutModel",
          "state": {
            "_model_module": "@jupyter-widgets/base",
            "_model_module_version": "1.2.0",
            "_model_name": "LayoutModel",
            "_view_count": null,
            "_view_module": "@jupyter-widgets/base",
            "_view_module_version": "1.2.0",
            "_view_name": "LayoutView",
            "align_content": null,
            "align_items": null,
            "align_self": null,
            "border": null,
            "bottom": null,
            "display": null,
            "flex": null,
            "flex_flow": null,
            "grid_area": null,
            "grid_auto_columns": null,
            "grid_auto_flow": null,
            "grid_auto_rows": null,
            "grid_column": null,
            "grid_gap": null,
            "grid_row": null,
            "grid_template_areas": null,
            "grid_template_columns": null,
            "grid_template_rows": null,
            "height": null,
            "justify_content": null,
            "justify_items": null,
            "left": null,
            "margin": null,
            "max_height": null,
            "max_width": null,
            "min_height": null,
            "min_width": null,
            "object_fit": null,
            "object_position": null,
            "order": null,
            "overflow": null,
            "overflow_x": null,
            "overflow_y": null,
            "padding": null,
            "right": null,
            "top": null,
            "visibility": null,
            "width": null
          }
        },
        "663d3030bdbf4d21a206ad6b6776a270": {
          "model_module": "@jupyter-widgets/controls",
          "model_module_version": "1.5.0",
          "model_name": "HTMLModel",
          "state": {
            "_dom_classes": [],
            "_model_module": "@jupyter-widgets/controls",
            "_model_module_version": "1.5.0",
            "_model_name": "HTMLModel",
            "_view_count": null,
            "_view_module": "@jupyter-widgets/controls",
            "_view_module_version": "1.5.0",
            "_view_name": "HTMLView",
            "description": "",
            "description_tooltip": null,
            "layout": "IPY_MODEL_7ae4947214ac419d94607fca18563592",
            "placeholder": "​",
            "style": "IPY_MODEL_d0b9206d43c34a1aa8d8de76cc659456",
            "value": "tokenizer.json: 100%"
          }
        },
        "66d2e0214129497aac9f8d2e82ee8435": {
          "model_module": "@jupyter-widgets/base",
          "model_module_version": "1.2.0",
          "model_name": "LayoutModel",
          "state": {
            "_model_module": "@jupyter-widgets/base",
            "_model_module_version": "1.2.0",
            "_model_name": "LayoutModel",
            "_view_count": null,
            "_view_module": "@jupyter-widgets/base",
            "_view_module_version": "1.2.0",
            "_view_name": "LayoutView",
            "align_content": null,
            "align_items": null,
            "align_self": null,
            "border": null,
            "bottom": null,
            "display": null,
            "flex": null,
            "flex_flow": null,
            "grid_area": null,
            "grid_auto_columns": null,
            "grid_auto_flow": null,
            "grid_auto_rows": null,
            "grid_column": null,
            "grid_gap": null,
            "grid_row": null,
            "grid_template_areas": null,
            "grid_template_columns": null,
            "grid_template_rows": null,
            "height": null,
            "justify_content": null,
            "justify_items": null,
            "left": null,
            "margin": null,
            "max_height": null,
            "max_width": null,
            "min_height": null,
            "min_width": null,
            "object_fit": null,
            "object_position": null,
            "order": null,
            "overflow": null,
            "overflow_x": null,
            "overflow_y": null,
            "padding": null,
            "right": null,
            "top": null,
            "visibility": null,
            "width": null
          }
        },
        "6b11b40c098d4a34a293707c43543bcf": {
          "model_module": "@jupyter-widgets/base",
          "model_module_version": "1.2.0",
          "model_name": "LayoutModel",
          "state": {
            "_model_module": "@jupyter-widgets/base",
            "_model_module_version": "1.2.0",
            "_model_name": "LayoutModel",
            "_view_count": null,
            "_view_module": "@jupyter-widgets/base",
            "_view_module_version": "1.2.0",
            "_view_name": "LayoutView",
            "align_content": null,
            "align_items": null,
            "align_self": null,
            "border": null,
            "bottom": null,
            "display": null,
            "flex": null,
            "flex_flow": null,
            "grid_area": null,
            "grid_auto_columns": null,
            "grid_auto_flow": null,
            "grid_auto_rows": null,
            "grid_column": null,
            "grid_gap": null,
            "grid_row": null,
            "grid_template_areas": null,
            "grid_template_columns": null,
            "grid_template_rows": null,
            "height": null,
            "justify_content": null,
            "justify_items": null,
            "left": null,
            "margin": null,
            "max_height": null,
            "max_width": null,
            "min_height": null,
            "min_width": null,
            "object_fit": null,
            "object_position": null,
            "order": null,
            "overflow": null,
            "overflow_x": null,
            "overflow_y": null,
            "padding": null,
            "right": null,
            "top": null,
            "visibility": null,
            "width": null
          }
        },
        "71636c0923ce439ead1eb8f1053cfbeb": {
          "model_module": "@jupyter-widgets/controls",
          "model_module_version": "1.5.0",
          "model_name": "ProgressStyleModel",
          "state": {
            "_model_module": "@jupyter-widgets/controls",
            "_model_module_version": "1.5.0",
            "_model_name": "ProgressStyleModel",
            "_view_count": null,
            "_view_module": "@jupyter-widgets/base",
            "_view_module_version": "1.2.0",
            "_view_name": "StyleView",
            "bar_color": null,
            "description_width": ""
          }
        },
        "72accf44ec3345f5b51daea69188b2d2": {
          "model_module": "@jupyter-widgets/controls",
          "model_module_version": "1.5.0",
          "model_name": "HBoxModel",
          "state": {
            "_dom_classes": [],
            "_model_module": "@jupyter-widgets/controls",
            "_model_module_version": "1.5.0",
            "_model_name": "HBoxModel",
            "_view_count": null,
            "_view_module": "@jupyter-widgets/controls",
            "_view_module_version": "1.5.0",
            "_view_name": "HBoxView",
            "box_style": "",
            "children": [
              "IPY_MODEL_88b15237c4ec4f3b925a4b0a2c48ca42",
              "IPY_MODEL_e5705b4ce527497cadf2ed391c0e2cc9",
              "IPY_MODEL_d2e993c612ac433c91f39b99ec3bd733"
            ],
            "layout": "IPY_MODEL_0cd873987e744e7aacd4ebd0f93d8610"
          }
        },
        "7320c021543e41b2aa50940b12394816": {
          "model_module": "@jupyter-widgets/controls",
          "model_module_version": "1.5.0",
          "model_name": "FloatProgressModel",
          "state": {
            "_dom_classes": [],
            "_model_module": "@jupyter-widgets/controls",
            "_model_module_version": "1.5.0",
            "_model_name": "FloatProgressModel",
            "_view_count": null,
            "_view_module": "@jupyter-widgets/controls",
            "_view_module_version": "1.5.0",
            "_view_name": "ProgressView",
            "bar_style": "success",
            "description": "",
            "description_tooltip": null,
            "layout": "IPY_MODEL_48666dbff80549a6a6f38c7362138d26",
            "max": 1115567652,
            "min": 0,
            "orientation": "horizontal",
            "style": "IPY_MODEL_2a4df430e74240a1942edd0d0f3c1e18",
            "value": 1115567652
          }
        },
        "750047bb1d4744178c3050567d3bca24": {
          "model_module": "@jupyter-widgets/base",
          "model_module_version": "1.2.0",
          "model_name": "LayoutModel",
          "state": {
            "_model_module": "@jupyter-widgets/base",
            "_model_module_version": "1.2.0",
            "_model_name": "LayoutModel",
            "_view_count": null,
            "_view_module": "@jupyter-widgets/base",
            "_view_module_version": "1.2.0",
            "_view_name": "LayoutView",
            "align_content": null,
            "align_items": null,
            "align_self": null,
            "border": null,
            "bottom": null,
            "display": null,
            "flex": null,
            "flex_flow": null,
            "grid_area": null,
            "grid_auto_columns": null,
            "grid_auto_flow": null,
            "grid_auto_rows": null,
            "grid_column": null,
            "grid_gap": null,
            "grid_row": null,
            "grid_template_areas": null,
            "grid_template_columns": null,
            "grid_template_rows": null,
            "height": null,
            "justify_content": null,
            "justify_items": null,
            "left": null,
            "margin": null,
            "max_height": null,
            "max_width": null,
            "min_height": null,
            "min_width": null,
            "object_fit": null,
            "object_position": null,
            "order": null,
            "overflow": null,
            "overflow_x": null,
            "overflow_y": null,
            "padding": null,
            "right": null,
            "top": null,
            "visibility": null,
            "width": null
          }
        },
        "7594cba3d458452db67884fe1690b205": {
          "model_module": "@jupyter-widgets/controls",
          "model_module_version": "1.5.0",
          "model_name": "LabelModel",
          "state": {
            "_dom_classes": [],
            "_model_module": "@jupyter-widgets/controls",
            "_model_module_version": "1.5.0",
            "_model_name": "LabelModel",
            "_view_count": null,
            "_view_module": "@jupyter-widgets/controls",
            "_view_module_version": "1.5.0",
            "_view_name": "LabelView",
            "description": "",
            "description_tooltip": null,
            "layout": "IPY_MODEL_387dc904f86f4c33836fdd26126d53a1",
            "placeholder": "​",
            "style": "IPY_MODEL_8c498fe318a0490b901334a099a9f525",
            "value": "Connecting..."
          }
        },
        "75a94d97399c4f908116c280a5be3109": {
          "model_module": "@jupyter-widgets/controls",
          "model_module_version": "1.5.0",
          "model_name": "LabelModel",
          "state": {
            "_dom_classes": [],
            "_model_module": "@jupyter-widgets/controls",
            "_model_module_version": "1.5.0",
            "_model_name": "LabelModel",
            "_view_count": null,
            "_view_module": "@jupyter-widgets/controls",
            "_view_module_version": "1.5.0",
            "_view_name": "LabelView",
            "description": "",
            "description_tooltip": null,
            "layout": "IPY_MODEL_4cc6d791ac8c41a4aafa9cb3b973b8d8",
            "placeholder": "​",
            "style": "IPY_MODEL_e9014cf5389f431d8c650f576eeea900",
            "value": "Token is valid (permission: write)."
          }
        },
        "76ccf3e158ce48c6a9abb365ab867bd2": {
          "model_module": "@jupyter-widgets/base",
          "model_module_version": "1.2.0",
          "model_name": "LayoutModel",
          "state": {
            "_model_module": "@jupyter-widgets/base",
            "_model_module_version": "1.2.0",
            "_model_name": "LayoutModel",
            "_view_count": null,
            "_view_module": "@jupyter-widgets/base",
            "_view_module_version": "1.2.0",
            "_view_name": "LayoutView",
            "align_content": null,
            "align_items": null,
            "align_self": null,
            "border": null,
            "bottom": null,
            "display": null,
            "flex": null,
            "flex_flow": null,
            "grid_area": null,
            "grid_auto_columns": null,
            "grid_auto_flow": null,
            "grid_auto_rows": null,
            "grid_column": null,
            "grid_gap": null,
            "grid_row": null,
            "grid_template_areas": null,
            "grid_template_columns": null,
            "grid_template_rows": null,
            "height": null,
            "justify_content": null,
            "justify_items": null,
            "left": null,
            "margin": null,
            "max_height": null,
            "max_width": null,
            "min_height": null,
            "min_width": null,
            "object_fit": null,
            "object_position": null,
            "order": null,
            "overflow": null,
            "overflow_x": null,
            "overflow_y": null,
            "padding": null,
            "right": null,
            "top": null,
            "visibility": null,
            "width": null
          }
        },
        "78a656d53c2747ce8cb92336c3714804": {
          "model_module": "@jupyter-widgets/base",
          "model_module_version": "1.2.0",
          "model_name": "LayoutModel",
          "state": {
            "_model_module": "@jupyter-widgets/base",
            "_model_module_version": "1.2.0",
            "_model_name": "LayoutModel",
            "_view_count": null,
            "_view_module": "@jupyter-widgets/base",
            "_view_module_version": "1.2.0",
            "_view_name": "LayoutView",
            "align_content": null,
            "align_items": null,
            "align_self": null,
            "border": null,
            "bottom": null,
            "display": null,
            "flex": null,
            "flex_flow": null,
            "grid_area": null,
            "grid_auto_columns": null,
            "grid_auto_flow": null,
            "grid_auto_rows": null,
            "grid_column": null,
            "grid_gap": null,
            "grid_row": null,
            "grid_template_areas": null,
            "grid_template_columns": null,
            "grid_template_rows": null,
            "height": null,
            "justify_content": null,
            "justify_items": null,
            "left": null,
            "margin": null,
            "max_height": null,
            "max_width": null,
            "min_height": null,
            "min_width": null,
            "object_fit": null,
            "object_position": null,
            "order": null,
            "overflow": null,
            "overflow_x": null,
            "overflow_y": null,
            "padding": null,
            "right": null,
            "top": null,
            "visibility": null,
            "width": null
          }
        },
        "7ae4947214ac419d94607fca18563592": {
          "model_module": "@jupyter-widgets/base",
          "model_module_version": "1.2.0",
          "model_name": "LayoutModel",
          "state": {
            "_model_module": "@jupyter-widgets/base",
            "_model_module_version": "1.2.0",
            "_model_name": "LayoutModel",
            "_view_count": null,
            "_view_module": "@jupyter-widgets/base",
            "_view_module_version": "1.2.0",
            "_view_name": "LayoutView",
            "align_content": null,
            "align_items": null,
            "align_self": null,
            "border": null,
            "bottom": null,
            "display": null,
            "flex": null,
            "flex_flow": null,
            "grid_area": null,
            "grid_auto_columns": null,
            "grid_auto_flow": null,
            "grid_auto_rows": null,
            "grid_column": null,
            "grid_gap": null,
            "grid_row": null,
            "grid_template_areas": null,
            "grid_template_columns": null,
            "grid_template_rows": null,
            "height": null,
            "justify_content": null,
            "justify_items": null,
            "left": null,
            "margin": null,
            "max_height": null,
            "max_width": null,
            "min_height": null,
            "min_width": null,
            "object_fit": null,
            "object_position": null,
            "order": null,
            "overflow": null,
            "overflow_x": null,
            "overflow_y": null,
            "padding": null,
            "right": null,
            "top": null,
            "visibility": null,
            "width": null
          }
        },
        "7bc89306c5e34beb99e6f3520b9f4a23": {
          "model_module": "@jupyter-widgets/controls",
          "model_module_version": "1.5.0",
          "model_name": "DescriptionStyleModel",
          "state": {
            "_model_module": "@jupyter-widgets/controls",
            "_model_module_version": "1.5.0",
            "_model_name": "DescriptionStyleModel",
            "_view_count": null,
            "_view_module": "@jupyter-widgets/base",
            "_view_module_version": "1.2.0",
            "_view_name": "StyleView",
            "description_width": ""
          }
        },
        "7fb919df41234b04a68f56ed8ba6de3a": {
          "model_module": "@jupyter-widgets/base",
          "model_module_version": "1.2.0",
          "model_name": "LayoutModel",
          "state": {
            "_model_module": "@jupyter-widgets/base",
            "_model_module_version": "1.2.0",
            "_model_name": "LayoutModel",
            "_view_count": null,
            "_view_module": "@jupyter-widgets/base",
            "_view_module_version": "1.2.0",
            "_view_name": "LayoutView",
            "align_content": null,
            "align_items": null,
            "align_self": null,
            "border": null,
            "bottom": null,
            "display": null,
            "flex": null,
            "flex_flow": null,
            "grid_area": null,
            "grid_auto_columns": null,
            "grid_auto_flow": null,
            "grid_auto_rows": null,
            "grid_column": null,
            "grid_gap": null,
            "grid_row": null,
            "grid_template_areas": null,
            "grid_template_columns": null,
            "grid_template_rows": null,
            "height": null,
            "justify_content": null,
            "justify_items": null,
            "left": null,
            "margin": null,
            "max_height": null,
            "max_width": null,
            "min_height": null,
            "min_width": null,
            "object_fit": null,
            "object_position": null,
            "order": null,
            "overflow": null,
            "overflow_x": null,
            "overflow_y": null,
            "padding": null,
            "right": null,
            "top": null,
            "visibility": null,
            "width": null
          }
        },
        "84a45adf1fde40c687655327bc78c63b": {
          "model_module": "@jupyter-widgets/base",
          "model_module_version": "1.2.0",
          "model_name": "LayoutModel",
          "state": {
            "_model_module": "@jupyter-widgets/base",
            "_model_module_version": "1.2.0",
            "_model_name": "LayoutModel",
            "_view_count": null,
            "_view_module": "@jupyter-widgets/base",
            "_view_module_version": "1.2.0",
            "_view_name": "LayoutView",
            "align_content": null,
            "align_items": null,
            "align_self": null,
            "border": null,
            "bottom": null,
            "display": null,
            "flex": null,
            "flex_flow": null,
            "grid_area": null,
            "grid_auto_columns": null,
            "grid_auto_flow": null,
            "grid_auto_rows": null,
            "grid_column": null,
            "grid_gap": null,
            "grid_row": null,
            "grid_template_areas": null,
            "grid_template_columns": null,
            "grid_template_rows": null,
            "height": null,
            "justify_content": null,
            "justify_items": null,
            "left": null,
            "margin": null,
            "max_height": null,
            "max_width": null,
            "min_height": null,
            "min_width": null,
            "object_fit": null,
            "object_position": null,
            "order": null,
            "overflow": null,
            "overflow_x": null,
            "overflow_y": null,
            "padding": null,
            "right": null,
            "top": null,
            "visibility": null,
            "width": null
          }
        },
        "85e75ea7f83e4abdbf2acaa1c0475d21": {
          "model_module": "@jupyter-widgets/base",
          "model_module_version": "1.2.0",
          "model_name": "LayoutModel",
          "state": {
            "_model_module": "@jupyter-widgets/base",
            "_model_module_version": "1.2.0",
            "_model_name": "LayoutModel",
            "_view_count": null,
            "_view_module": "@jupyter-widgets/base",
            "_view_module_version": "1.2.0",
            "_view_name": "LayoutView",
            "align_content": null,
            "align_items": null,
            "align_self": null,
            "border": null,
            "bottom": null,
            "display": null,
            "flex": null,
            "flex_flow": null,
            "grid_area": null,
            "grid_auto_columns": null,
            "grid_auto_flow": null,
            "grid_auto_rows": null,
            "grid_column": null,
            "grid_gap": null,
            "grid_row": null,
            "grid_template_areas": null,
            "grid_template_columns": null,
            "grid_template_rows": null,
            "height": null,
            "justify_content": null,
            "justify_items": null,
            "left": null,
            "margin": null,
            "max_height": null,
            "max_width": null,
            "min_height": null,
            "min_width": null,
            "object_fit": null,
            "object_position": null,
            "order": null,
            "overflow": null,
            "overflow_x": null,
            "overflow_y": null,
            "padding": null,
            "right": null,
            "top": null,
            "visibility": null,
            "width": null
          }
        },
        "88b15237c4ec4f3b925a4b0a2c48ca42": {
          "model_module": "@jupyter-widgets/controls",
          "model_module_version": "1.5.0",
          "model_name": "HTMLModel",
          "state": {
            "_dom_classes": [],
            "_model_module": "@jupyter-widgets/controls",
            "_model_module_version": "1.5.0",
            "_model_name": "HTMLModel",
            "_view_count": null,
            "_view_module": "@jupyter-widgets/controls",
            "_view_module_version": "1.5.0",
            "_view_name": "HTMLView",
            "description": "",
            "description_tooltip": null,
            "layout": "IPY_MODEL_0f7843ee4f3d4774a8330ab0a5fb757f",
            "placeholder": "​",
            "style": "IPY_MODEL_e417e2621b774c7cb92ad6e7e5ea88bb",
            "value": "pytorch_model.bin: 100%"
          }
        },
        "8af4a8fb7c654ae78a60c740a6d139f1": {
          "model_module": "@jupyter-widgets/controls",
          "model_module_version": "1.5.0",
          "model_name": "HTMLModel",
          "state": {
            "_dom_classes": [],
            "_model_module": "@jupyter-widgets/controls",
            "_model_module_version": "1.5.0",
            "_model_name": "HTMLModel",
            "_view_count": null,
            "_view_module": "@jupyter-widgets/controls",
            "_view_module_version": "1.5.0",
            "_view_name": "HTMLView",
            "description": "",
            "description_tooltip": null,
            "layout": "IPY_MODEL_552c4971dc354a96b45d7b40af366d36",
            "placeholder": "​",
            "style": "IPY_MODEL_b2d6b57c90a94166adafc7164c131a23",
            "value": "Downloading builder script: "
          }
        },
        "8c498fe318a0490b901334a099a9f525": {
          "model_module": "@jupyter-widgets/controls",
          "model_module_version": "1.5.0",
          "model_name": "DescriptionStyleModel",
          "state": {
            "_model_module": "@jupyter-widgets/controls",
            "_model_module_version": "1.5.0",
            "_model_name": "DescriptionStyleModel",
            "_view_count": null,
            "_view_module": "@jupyter-widgets/base",
            "_view_module_version": "1.2.0",
            "_view_name": "StyleView",
            "description_width": ""
          }
        },
        "8d8579f77ed44d0aaa1dd8085e2c5cf1": {
          "model_module": "@jupyter-widgets/controls",
          "model_module_version": "1.5.0",
          "model_name": "HTMLModel",
          "state": {
            "_dom_classes": [],
            "_model_module": "@jupyter-widgets/controls",
            "_model_module_version": "1.5.0",
            "_model_name": "HTMLModel",
            "_view_count": null,
            "_view_module": "@jupyter-widgets/controls",
            "_view_module_version": "1.5.0",
            "_view_name": "HTMLView",
            "description": "",
            "description_tooltip": null,
            "layout": "IPY_MODEL_fc77e790ad6b45c2b51e366bc0b0f8be",
            "placeholder": "​",
            "style": "IPY_MODEL_0b07e25377244e6f92fc8a94dd69795f",
            "value": "<center> <img\nsrc=https://huggingface.co/front/assets/huggingface_logo-noborder.svg\nalt='Hugging Face'> <br> Copy a token from <a\nhref=\"https://huggingface.co/settings/tokens\" target=\"_blank\">your Hugging Face\ntokens page</a> and paste it below. <br> Immediately click login after copying\nyour token or it might be stored in plain text in this notebook file. </center>"
          }
        },
        "8e430cc6f6694bd09db20492b3dc5915": {
          "model_module": "@jupyter-widgets/base",
          "model_module_version": "1.2.0",
          "model_name": "LayoutModel",
          "state": {
            "_model_module": "@jupyter-widgets/base",
            "_model_module_version": "1.2.0",
            "_model_name": "LayoutModel",
            "_view_count": null,
            "_view_module": "@jupyter-widgets/base",
            "_view_module_version": "1.2.0",
            "_view_name": "LayoutView",
            "align_content": null,
            "align_items": null,
            "align_self": null,
            "border": null,
            "bottom": null,
            "display": null,
            "flex": null,
            "flex_flow": null,
            "grid_area": null,
            "grid_auto_columns": null,
            "grid_auto_flow": null,
            "grid_auto_rows": null,
            "grid_column": null,
            "grid_gap": null,
            "grid_row": null,
            "grid_template_areas": null,
            "grid_template_columns": null,
            "grid_template_rows": null,
            "height": null,
            "justify_content": null,
            "justify_items": null,
            "left": null,
            "margin": null,
            "max_height": null,
            "max_width": null,
            "min_height": null,
            "min_width": null,
            "object_fit": null,
            "object_position": null,
            "order": null,
            "overflow": null,
            "overflow_x": null,
            "overflow_y": null,
            "padding": null,
            "right": null,
            "top": null,
            "visibility": null,
            "width": null
          }
        },
        "9042c852e88a491cb6bc1a56b692087d": {
          "model_module": "@jupyter-widgets/controls",
          "model_module_version": "1.5.0",
          "model_name": "ProgressStyleModel",
          "state": {
            "_model_module": "@jupyter-widgets/controls",
            "_model_module_version": "1.5.0",
            "_model_name": "ProgressStyleModel",
            "_view_count": null,
            "_view_module": "@jupyter-widgets/base",
            "_view_module_version": "1.2.0",
            "_view_name": "StyleView",
            "bar_color": null,
            "description_width": ""
          }
        },
        "919e0f88cbb741388ef6fcc60aa5b232": {
          "model_module": "@jupyter-widgets/controls",
          "model_module_version": "1.5.0",
          "model_name": "DescriptionStyleModel",
          "state": {
            "_model_module": "@jupyter-widgets/controls",
            "_model_module_version": "1.5.0",
            "_model_name": "DescriptionStyleModel",
            "_view_count": null,
            "_view_module": "@jupyter-widgets/base",
            "_view_module_version": "1.2.0",
            "_view_name": "StyleView",
            "description_width": ""
          }
        },
        "922a4719415640f8b5f6dafb7ab54362": {
          "model_module": "@jupyter-widgets/controls",
          "model_module_version": "1.5.0",
          "model_name": "ButtonStyleModel",
          "state": {
            "_model_module": "@jupyter-widgets/controls",
            "_model_module_version": "1.5.0",
            "_model_name": "ButtonStyleModel",
            "_view_count": null,
            "_view_module": "@jupyter-widgets/base",
            "_view_module_version": "1.2.0",
            "_view_name": "StyleView",
            "button_color": null,
            "font_weight": ""
          }
        },
        "927f8093ad4144bf8f0ae449fd96b691": {
          "model_module": "@jupyter-widgets/base",
          "model_module_version": "1.2.0",
          "model_name": "LayoutModel",
          "state": {
            "_model_module": "@jupyter-widgets/base",
            "_model_module_version": "1.2.0",
            "_model_name": "LayoutModel",
            "_view_count": null,
            "_view_module": "@jupyter-widgets/base",
            "_view_module_version": "1.2.0",
            "_view_name": "LayoutView",
            "align_content": null,
            "align_items": null,
            "align_self": null,
            "border": null,
            "bottom": null,
            "display": null,
            "flex": null,
            "flex_flow": null,
            "grid_area": null,
            "grid_auto_columns": null,
            "grid_auto_flow": null,
            "grid_auto_rows": null,
            "grid_column": null,
            "grid_gap": null,
            "grid_row": null,
            "grid_template_areas": null,
            "grid_template_columns": null,
            "grid_template_rows": null,
            "height": null,
            "justify_content": null,
            "justify_items": null,
            "left": null,
            "margin": null,
            "max_height": null,
            "max_width": null,
            "min_height": null,
            "min_width": null,
            "object_fit": null,
            "object_position": null,
            "order": null,
            "overflow": null,
            "overflow_x": null,
            "overflow_y": null,
            "padding": null,
            "right": null,
            "top": null,
            "visibility": null,
            "width": null
          }
        },
        "9282af109e694317980da8fa04022349": {
          "model_module": "@jupyter-widgets/base",
          "model_module_version": "1.2.0",
          "model_name": "LayoutModel",
          "state": {
            "_model_module": "@jupyter-widgets/base",
            "_model_module_version": "1.2.0",
            "_model_name": "LayoutModel",
            "_view_count": null,
            "_view_module": "@jupyter-widgets/base",
            "_view_module_version": "1.2.0",
            "_view_name": "LayoutView",
            "align_content": null,
            "align_items": null,
            "align_self": null,
            "border": null,
            "bottom": null,
            "display": null,
            "flex": null,
            "flex_flow": null,
            "grid_area": null,
            "grid_auto_columns": null,
            "grid_auto_flow": null,
            "grid_auto_rows": null,
            "grid_column": null,
            "grid_gap": null,
            "grid_row": null,
            "grid_template_areas": null,
            "grid_template_columns": null,
            "grid_template_rows": null,
            "height": null,
            "justify_content": null,
            "justify_items": null,
            "left": null,
            "margin": null,
            "max_height": null,
            "max_width": null,
            "min_height": null,
            "min_width": null,
            "object_fit": null,
            "object_position": null,
            "order": null,
            "overflow": null,
            "overflow_x": null,
            "overflow_y": null,
            "padding": null,
            "right": null,
            "top": null,
            "visibility": null,
            "width": null
          }
        },
        "947121a1f8a1458f8589c877a076aed6": {
          "model_module": "@jupyter-widgets/controls",
          "model_module_version": "1.5.0",
          "model_name": "HBoxModel",
          "state": {
            "_dom_classes": [],
            "_model_module": "@jupyter-widgets/controls",
            "_model_module_version": "1.5.0",
            "_model_name": "HBoxModel",
            "_view_count": null,
            "_view_module": "@jupyter-widgets/controls",
            "_view_module_version": "1.5.0",
            "_view_name": "HBoxView",
            "box_style": "",
            "children": [
              "IPY_MODEL_4d285ee7fa354890b9a2504069cbb5c4",
              "IPY_MODEL_1d4d7d7b1225458ea83e6b4bac5a04f4",
              "IPY_MODEL_c8eb10a2eac74c9cbaffba7770d4b223"
            ],
            "layout": "IPY_MODEL_9f7a486584594d5093f2bd3e137c31ae"
          }
        },
        "9955afe5f8c04c17afdcdff02e562579": {
          "model_module": "@jupyter-widgets/controls",
          "model_module_version": "1.5.0",
          "model_name": "FloatProgressModel",
          "state": {
            "_dom_classes": [],
            "_model_module": "@jupyter-widgets/controls",
            "_model_module_version": "1.5.0",
            "_model_name": "FloatProgressModel",
            "_view_count": null,
            "_view_module": "@jupyter-widgets/controls",
            "_view_module_version": "1.5.0",
            "_view_name": "ProgressView",
            "bar_style": "success",
            "description": "",
            "description_tooltip": null,
            "layout": "IPY_MODEL_66d2e0214129497aac9f8d2e82ee8435",
            "max": 1,
            "min": 0,
            "orientation": "horizontal",
            "style": "IPY_MODEL_01a850436a074e0498447b150ce1184f",
            "value": 1
          }
        },
        "99837679eb3646e99abc8ae85e09dcf5": {
          "model_module": "@jupyter-widgets/controls",
          "model_module_version": "1.5.0",
          "model_name": "DescriptionStyleModel",
          "state": {
            "_model_module": "@jupyter-widgets/controls",
            "_model_module_version": "1.5.0",
            "_model_name": "DescriptionStyleModel",
            "_view_count": null,
            "_view_module": "@jupyter-widgets/base",
            "_view_module_version": "1.2.0",
            "_view_name": "StyleView",
            "description_width": ""
          }
        },
        "9c5134ec4be34305a1d3193531138679": {
          "model_module": "@jupyter-widgets/controls",
          "model_module_version": "1.5.0",
          "model_name": "HTMLModel",
          "state": {
            "_dom_classes": [],
            "_model_module": "@jupyter-widgets/controls",
            "_model_module_version": "1.5.0",
            "_model_name": "HTMLModel",
            "_view_count": null,
            "_view_module": "@jupyter-widgets/controls",
            "_view_module_version": "1.5.0",
            "_view_name": "HTMLView",
            "description": "",
            "description_tooltip": null,
            "layout": "IPY_MODEL_45885f9b38de4d7abc971976ca4899eb",
            "placeholder": "​",
            "style": "IPY_MODEL_ca95c654ea804bc18a902d103b0266a7",
            "value": " 6.33k/? [00:00&lt;00:00, 385kB/s]"
          }
        },
        "9df3417ed4224940bd64a4e218a3910b": {
          "model_module": "@jupyter-widgets/base",
          "model_module_version": "1.2.0",
          "model_name": "LayoutModel",
          "state": {
            "_model_module": "@jupyter-widgets/base",
            "_model_module_version": "1.2.0",
            "_model_name": "LayoutModel",
            "_view_count": null,
            "_view_module": "@jupyter-widgets/base",
            "_view_module_version": "1.2.0",
            "_view_name": "LayoutView",
            "align_content": null,
            "align_items": null,
            "align_self": null,
            "border": null,
            "bottom": null,
            "display": null,
            "flex": null,
            "flex_flow": null,
            "grid_area": null,
            "grid_auto_columns": null,
            "grid_auto_flow": null,
            "grid_auto_rows": null,
            "grid_column": null,
            "grid_gap": null,
            "grid_row": null,
            "grid_template_areas": null,
            "grid_template_columns": null,
            "grid_template_rows": null,
            "height": null,
            "justify_content": null,
            "justify_items": null,
            "left": null,
            "margin": null,
            "max_height": null,
            "max_width": null,
            "min_height": null,
            "min_width": null,
            "object_fit": null,
            "object_position": null,
            "order": null,
            "overflow": null,
            "overflow_x": null,
            "overflow_y": null,
            "padding": null,
            "right": null,
            "top": null,
            "visibility": null,
            "width": null
          }
        },
        "9f7a486584594d5093f2bd3e137c31ae": {
          "model_module": "@jupyter-widgets/base",
          "model_module_version": "1.2.0",
          "model_name": "LayoutModel",
          "state": {
            "_model_module": "@jupyter-widgets/base",
            "_model_module_version": "1.2.0",
            "_model_name": "LayoutModel",
            "_view_count": null,
            "_view_module": "@jupyter-widgets/base",
            "_view_module_version": "1.2.0",
            "_view_name": "LayoutView",
            "align_content": null,
            "align_items": null,
            "align_self": null,
            "border": null,
            "bottom": null,
            "display": null,
            "flex": null,
            "flex_flow": null,
            "grid_area": null,
            "grid_auto_columns": null,
            "grid_auto_flow": null,
            "grid_auto_rows": null,
            "grid_column": null,
            "grid_gap": null,
            "grid_row": null,
            "grid_template_areas": null,
            "grid_template_columns": null,
            "grid_template_rows": null,
            "height": null,
            "justify_content": null,
            "justify_items": null,
            "left": null,
            "margin": null,
            "max_height": null,
            "max_width": null,
            "min_height": null,
            "min_width": null,
            "object_fit": null,
            "object_position": null,
            "order": null,
            "overflow": null,
            "overflow_x": null,
            "overflow_y": null,
            "padding": null,
            "right": null,
            "top": null,
            "visibility": null,
            "width": null
          }
        },
        "9f826d89de2741738b3eddfdeadd133b": {
          "model_module": "@jupyter-widgets/controls",
          "model_module_version": "1.5.0",
          "model_name": "DescriptionStyleModel",
          "state": {
            "_model_module": "@jupyter-widgets/controls",
            "_model_module_version": "1.5.0",
            "_model_name": "DescriptionStyleModel",
            "_view_count": null,
            "_view_module": "@jupyter-widgets/base",
            "_view_module_version": "1.2.0",
            "_view_name": "StyleView",
            "description_width": ""
          }
        },
        "a20a3344f0f14a5c8b991fc41a16a4d0": {
          "model_module": "@jupyter-widgets/controls",
          "model_module_version": "1.5.0",
          "model_name": "HTMLModel",
          "state": {
            "_dom_classes": [],
            "_model_module": "@jupyter-widgets/controls",
            "_model_module_version": "1.5.0",
            "_model_name": "HTMLModel",
            "_view_count": null,
            "_view_module": "@jupyter-widgets/controls",
            "_view_module_version": "1.5.0",
            "_view_name": "HTMLView",
            "description": "",
            "description_tooltip": null,
            "layout": "IPY_MODEL_6b11b40c098d4a34a293707c43543bcf",
            "placeholder": "​",
            "style": "IPY_MODEL_3cec33a81e17426ab55a09626d9137b0",
            "value": "Downloading model.safetensors: 100%"
          }
        },
        "a45bcf77146645d1aed48de9501704b9": {
          "model_module": "@jupyter-widgets/controls",
          "model_module_version": "1.5.0",
          "model_name": "DescriptionStyleModel",
          "state": {
            "_model_module": "@jupyter-widgets/controls",
            "_model_module_version": "1.5.0",
            "_model_name": "DescriptionStyleModel",
            "_view_count": null,
            "_view_module": "@jupyter-widgets/base",
            "_view_module_version": "1.2.0",
            "_view_name": "StyleView",
            "description_width": ""
          }
        },
        "a9baaa4f370442f2857bc78a1b465ecc": {
          "model_module": "@jupyter-widgets/controls",
          "model_module_version": "1.5.0",
          "model_name": "ProgressStyleModel",
          "state": {
            "_model_module": "@jupyter-widgets/controls",
            "_model_module_version": "1.5.0",
            "_model_name": "ProgressStyleModel",
            "_view_count": null,
            "_view_module": "@jupyter-widgets/base",
            "_view_module_version": "1.2.0",
            "_view_name": "StyleView",
            "bar_color": null,
            "description_width": ""
          }
        },
        "b1bf6ea42ce74d1685b6df5ec48d007c": {
          "model_module": "@jupyter-widgets/base",
          "model_module_version": "1.2.0",
          "model_name": "LayoutModel",
          "state": {
            "_model_module": "@jupyter-widgets/base",
            "_model_module_version": "1.2.0",
            "_model_name": "LayoutModel",
            "_view_count": null,
            "_view_module": "@jupyter-widgets/base",
            "_view_module_version": "1.2.0",
            "_view_name": "LayoutView",
            "align_content": null,
            "align_items": null,
            "align_self": null,
            "border": null,
            "bottom": null,
            "display": null,
            "flex": null,
            "flex_flow": null,
            "grid_area": null,
            "grid_auto_columns": null,
            "grid_auto_flow": null,
            "grid_auto_rows": null,
            "grid_column": null,
            "grid_gap": null,
            "grid_row": null,
            "grid_template_areas": null,
            "grid_template_columns": null,
            "grid_template_rows": null,
            "height": null,
            "justify_content": null,
            "justify_items": null,
            "left": null,
            "margin": null,
            "max_height": null,
            "max_width": null,
            "min_height": null,
            "min_width": null,
            "object_fit": null,
            "object_position": null,
            "order": null,
            "overflow": null,
            "overflow_x": null,
            "overflow_y": null,
            "padding": null,
            "right": null,
            "top": null,
            "visibility": null,
            "width": null
          }
        },
        "b2d6b57c90a94166adafc7164c131a23": {
          "model_module": "@jupyter-widgets/controls",
          "model_module_version": "1.5.0",
          "model_name": "DescriptionStyleModel",
          "state": {
            "_model_module": "@jupyter-widgets/controls",
            "_model_module_version": "1.5.0",
            "_model_name": "DescriptionStyleModel",
            "_view_count": null,
            "_view_module": "@jupyter-widgets/base",
            "_view_module_version": "1.2.0",
            "_view_name": "StyleView",
            "description_width": ""
          }
        },
        "b3f3da532e414a739b98b244a6967d34": {
          "model_module": "@jupyter-widgets/base",
          "model_module_version": "1.2.0",
          "model_name": "LayoutModel",
          "state": {
            "_model_module": "@jupyter-widgets/base",
            "_model_module_version": "1.2.0",
            "_model_name": "LayoutModel",
            "_view_count": null,
            "_view_module": "@jupyter-widgets/base",
            "_view_module_version": "1.2.0",
            "_view_name": "LayoutView",
            "align_content": null,
            "align_items": null,
            "align_self": null,
            "border": null,
            "bottom": null,
            "display": null,
            "flex": null,
            "flex_flow": null,
            "grid_area": null,
            "grid_auto_columns": null,
            "grid_auto_flow": null,
            "grid_auto_rows": null,
            "grid_column": null,
            "grid_gap": null,
            "grid_row": null,
            "grid_template_areas": null,
            "grid_template_columns": null,
            "grid_template_rows": null,
            "height": null,
            "justify_content": null,
            "justify_items": null,
            "left": null,
            "margin": null,
            "max_height": null,
            "max_width": null,
            "min_height": null,
            "min_width": null,
            "object_fit": null,
            "object_position": null,
            "order": null,
            "overflow": null,
            "overflow_x": null,
            "overflow_y": null,
            "padding": null,
            "right": null,
            "top": null,
            "visibility": null,
            "width": null
          }
        },
        "b4bc0f8a93d144b4b205ab298335fa34": {
          "model_module": "@jupyter-widgets/controls",
          "model_module_version": "1.5.0",
          "model_name": "ProgressStyleModel",
          "state": {
            "_model_module": "@jupyter-widgets/controls",
            "_model_module_version": "1.5.0",
            "_model_name": "ProgressStyleModel",
            "_view_count": null,
            "_view_module": "@jupyter-widgets/base",
            "_view_module_version": "1.2.0",
            "_view_name": "StyleView",
            "bar_color": null,
            "description_width": ""
          }
        },
        "b73231a3b90c4387b0fd3c57b06aed3e": {
          "model_module": "@jupyter-widgets/base",
          "model_module_version": "1.2.0",
          "model_name": "LayoutModel",
          "state": {
            "_model_module": "@jupyter-widgets/base",
            "_model_module_version": "1.2.0",
            "_model_name": "LayoutModel",
            "_view_count": null,
            "_view_module": "@jupyter-widgets/base",
            "_view_module_version": "1.2.0",
            "_view_name": "LayoutView",
            "align_content": null,
            "align_items": null,
            "align_self": null,
            "border": null,
            "bottom": null,
            "display": null,
            "flex": null,
            "flex_flow": null,
            "grid_area": null,
            "grid_auto_columns": null,
            "grid_auto_flow": null,
            "grid_auto_rows": null,
            "grid_column": null,
            "grid_gap": null,
            "grid_row": null,
            "grid_template_areas": null,
            "grid_template_columns": null,
            "grid_template_rows": null,
            "height": null,
            "justify_content": null,
            "justify_items": null,
            "left": null,
            "margin": null,
            "max_height": null,
            "max_width": null,
            "min_height": null,
            "min_width": null,
            "object_fit": null,
            "object_position": null,
            "order": null,
            "overflow": null,
            "overflow_x": null,
            "overflow_y": null,
            "padding": null,
            "right": null,
            "top": null,
            "visibility": null,
            "width": null
          }
        },
        "bb0dd0923dbd48fd8377ee1760eb9b62": {
          "model_module": "@jupyter-widgets/base",
          "model_module_version": "1.2.0",
          "model_name": "LayoutModel",
          "state": {
            "_model_module": "@jupyter-widgets/base",
            "_model_module_version": "1.2.0",
            "_model_name": "LayoutModel",
            "_view_count": null,
            "_view_module": "@jupyter-widgets/base",
            "_view_module_version": "1.2.0",
            "_view_name": "LayoutView",
            "align_content": null,
            "align_items": null,
            "align_self": null,
            "border": null,
            "bottom": null,
            "display": null,
            "flex": null,
            "flex_flow": null,
            "grid_area": null,
            "grid_auto_columns": null,
            "grid_auto_flow": null,
            "grid_auto_rows": null,
            "grid_column": null,
            "grid_gap": null,
            "grid_row": null,
            "grid_template_areas": null,
            "grid_template_columns": null,
            "grid_template_rows": null,
            "height": null,
            "justify_content": null,
            "justify_items": null,
            "left": null,
            "margin": null,
            "max_height": null,
            "max_width": null,
            "min_height": null,
            "min_width": null,
            "object_fit": null,
            "object_position": null,
            "order": null,
            "overflow": null,
            "overflow_x": null,
            "overflow_y": null,
            "padding": null,
            "right": null,
            "top": null,
            "visibility": null,
            "width": null
          }
        },
        "bbf6e310fb0f481590bd9d0878242ce2": {
          "model_module": "@jupyter-widgets/base",
          "model_module_version": "1.2.0",
          "model_name": "LayoutModel",
          "state": {
            "_model_module": "@jupyter-widgets/base",
            "_model_module_version": "1.2.0",
            "_model_name": "LayoutModel",
            "_view_count": null,
            "_view_module": "@jupyter-widgets/base",
            "_view_module_version": "1.2.0",
            "_view_name": "LayoutView",
            "align_content": null,
            "align_items": null,
            "align_self": null,
            "border": null,
            "bottom": null,
            "display": null,
            "flex": null,
            "flex_flow": null,
            "grid_area": null,
            "grid_auto_columns": null,
            "grid_auto_flow": null,
            "grid_auto_rows": null,
            "grid_column": null,
            "grid_gap": null,
            "grid_row": null,
            "grid_template_areas": null,
            "grid_template_columns": null,
            "grid_template_rows": null,
            "height": null,
            "justify_content": null,
            "justify_items": null,
            "left": null,
            "margin": null,
            "max_height": null,
            "max_width": null,
            "min_height": null,
            "min_width": null,
            "object_fit": null,
            "object_position": null,
            "order": null,
            "overflow": null,
            "overflow_x": null,
            "overflow_y": null,
            "padding": null,
            "right": null,
            "top": null,
            "visibility": null,
            "width": null
          }
        },
        "bec9dbcab6b24eb3b15233be7fc28262": {
          "model_module": "@jupyter-widgets/base",
          "model_module_version": "1.2.0",
          "model_name": "LayoutModel",
          "state": {
            "_model_module": "@jupyter-widgets/base",
            "_model_module_version": "1.2.0",
            "_model_name": "LayoutModel",
            "_view_count": null,
            "_view_module": "@jupyter-widgets/base",
            "_view_module_version": "1.2.0",
            "_view_name": "LayoutView",
            "align_content": null,
            "align_items": null,
            "align_self": null,
            "border": null,
            "bottom": null,
            "display": null,
            "flex": null,
            "flex_flow": null,
            "grid_area": null,
            "grid_auto_columns": null,
            "grid_auto_flow": null,
            "grid_auto_rows": null,
            "grid_column": null,
            "grid_gap": null,
            "grid_row": null,
            "grid_template_areas": null,
            "grid_template_columns": null,
            "grid_template_rows": null,
            "height": null,
            "justify_content": null,
            "justify_items": null,
            "left": null,
            "margin": null,
            "max_height": null,
            "max_width": null,
            "min_height": null,
            "min_width": null,
            "object_fit": null,
            "object_position": null,
            "order": null,
            "overflow": null,
            "overflow_x": null,
            "overflow_y": null,
            "padding": null,
            "right": null,
            "top": null,
            "visibility": null,
            "width": null
          }
        },
        "c1256a30ef2d4607816433b62ddbd532": {
          "model_module": "@jupyter-widgets/controls",
          "model_module_version": "1.5.0",
          "model_name": "FloatProgressModel",
          "state": {
            "_dom_classes": [],
            "_model_module": "@jupyter-widgets/controls",
            "_model_module_version": "1.5.0",
            "_model_name": "FloatProgressModel",
            "_view_count": null,
            "_view_module": "@jupyter-widgets/controls",
            "_view_module_version": "1.5.0",
            "_view_name": "ProgressView",
            "bar_style": "success",
            "description": "",
            "description_tooltip": null,
            "layout": "IPY_MODEL_d021b472289f421382352225ed558ba7",
            "max": 615,
            "min": 0,
            "orientation": "horizontal",
            "style": "IPY_MODEL_9042c852e88a491cb6bc1a56b692087d",
            "value": 615
          }
        },
        "c1a833009b374894be05b7548fa793ad": {
          "model_module": "@jupyter-widgets/controls",
          "model_module_version": "1.5.0",
          "model_name": "ButtonModel",
          "state": {
            "_dom_classes": [],
            "_model_module": "@jupyter-widgets/controls",
            "_model_module_version": "1.5.0",
            "_model_name": "ButtonModel",
            "_view_count": null,
            "_view_module": "@jupyter-widgets/controls",
            "_view_module_version": "1.5.0",
            "_view_name": "ButtonView",
            "button_style": "",
            "description": "Login",
            "disabled": false,
            "icon": "",
            "layout": "IPY_MODEL_32cd041ce23844f4913884216b4d6f86",
            "style": "IPY_MODEL_922a4719415640f8b5f6dafb7ab54362",
            "tooltip": ""
          }
        },
        "c2fbff0ef5814d67a8b3704a1ab8148a": {
          "model_module": "@jupyter-widgets/base",
          "model_module_version": "1.2.0",
          "model_name": "LayoutModel",
          "state": {
            "_model_module": "@jupyter-widgets/base",
            "_model_module_version": "1.2.0",
            "_model_name": "LayoutModel",
            "_view_count": null,
            "_view_module": "@jupyter-widgets/base",
            "_view_module_version": "1.2.0",
            "_view_name": "LayoutView",
            "align_content": null,
            "align_items": null,
            "align_self": null,
            "border": null,
            "bottom": null,
            "display": null,
            "flex": null,
            "flex_flow": null,
            "grid_area": null,
            "grid_auto_columns": null,
            "grid_auto_flow": null,
            "grid_auto_rows": null,
            "grid_column": null,
            "grid_gap": null,
            "grid_row": null,
            "grid_template_areas": null,
            "grid_template_columns": null,
            "grid_template_rows": null,
            "height": null,
            "justify_content": null,
            "justify_items": null,
            "left": null,
            "margin": null,
            "max_height": null,
            "max_width": null,
            "min_height": null,
            "min_width": null,
            "object_fit": null,
            "object_position": null,
            "order": null,
            "overflow": null,
            "overflow_x": null,
            "overflow_y": null,
            "padding": null,
            "right": null,
            "top": null,
            "visibility": null,
            "width": null
          }
        },
        "c8eb10a2eac74c9cbaffba7770d4b223": {
          "model_module": "@jupyter-widgets/controls",
          "model_module_version": "1.5.0",
          "model_name": "HTMLModel",
          "state": {
            "_dom_classes": [],
            "_model_module": "@jupyter-widgets/controls",
            "_model_module_version": "1.5.0",
            "_model_name": "HTMLModel",
            "_view_count": null,
            "_view_module": "@jupyter-widgets/controls",
            "_view_module_version": "1.5.0",
            "_view_name": "HTMLView",
            "description": "",
            "description_tooltip": null,
            "layout": "IPY_MODEL_750047bb1d4744178c3050567d3bca24",
            "placeholder": "​",
            "style": "IPY_MODEL_7bc89306c5e34beb99e6f3520b9f4a23",
            "value": " 5.07M/5.07M [00:00&lt;00:00, 31.7MB/s]"
          }
        },
        "ca74f8c935754275a12488224b220dad": {
          "model_module": "@jupyter-widgets/controls",
          "model_module_version": "1.5.0",
          "model_name": "DescriptionStyleModel",
          "state": {
            "_model_module": "@jupyter-widgets/controls",
            "_model_module_version": "1.5.0",
            "_model_name": "DescriptionStyleModel",
            "_view_count": null,
            "_view_module": "@jupyter-widgets/base",
            "_view_module_version": "1.2.0",
            "_view_name": "StyleView",
            "description_width": ""
          }
        },
        "ca95c654ea804bc18a902d103b0266a7": {
          "model_module": "@jupyter-widgets/controls",
          "model_module_version": "1.5.0",
          "model_name": "DescriptionStyleModel",
          "state": {
            "_model_module": "@jupyter-widgets/controls",
            "_model_module_version": "1.5.0",
            "_model_name": "DescriptionStyleModel",
            "_view_count": null,
            "_view_module": "@jupyter-widgets/base",
            "_view_module_version": "1.2.0",
            "_view_name": "StyleView",
            "description_width": ""
          }
        },
        "d021b472289f421382352225ed558ba7": {
          "model_module": "@jupyter-widgets/base",
          "model_module_version": "1.2.0",
          "model_name": "LayoutModel",
          "state": {
            "_model_module": "@jupyter-widgets/base",
            "_model_module_version": "1.2.0",
            "_model_name": "LayoutModel",
            "_view_count": null,
            "_view_module": "@jupyter-widgets/base",
            "_view_module_version": "1.2.0",
            "_view_name": "LayoutView",
            "align_content": null,
            "align_items": null,
            "align_self": null,
            "border": null,
            "bottom": null,
            "display": null,
            "flex": null,
            "flex_flow": null,
            "grid_area": null,
            "grid_auto_columns": null,
            "grid_auto_flow": null,
            "grid_auto_rows": null,
            "grid_column": null,
            "grid_gap": null,
            "grid_row": null,
            "grid_template_areas": null,
            "grid_template_columns": null,
            "grid_template_rows": null,
            "height": null,
            "justify_content": null,
            "justify_items": null,
            "left": null,
            "margin": null,
            "max_height": null,
            "max_width": null,
            "min_height": null,
            "min_width": null,
            "object_fit": null,
            "object_position": null,
            "order": null,
            "overflow": null,
            "overflow_x": null,
            "overflow_y": null,
            "padding": null,
            "right": null,
            "top": null,
            "visibility": null,
            "width": null
          }
        },
        "d0b9206d43c34a1aa8d8de76cc659456": {
          "model_module": "@jupyter-widgets/controls",
          "model_module_version": "1.5.0",
          "model_name": "DescriptionStyleModel",
          "state": {
            "_model_module": "@jupyter-widgets/controls",
            "_model_module_version": "1.5.0",
            "_model_name": "DescriptionStyleModel",
            "_view_count": null,
            "_view_module": "@jupyter-widgets/base",
            "_view_module_version": "1.2.0",
            "_view_name": "StyleView",
            "description_width": ""
          }
        },
        "d27fb2f9d1514c67b10c2bd7dcd5571f": {
          "model_module": "@jupyter-widgets/controls",
          "model_module_version": "1.5.0",
          "model_name": "ProgressStyleModel",
          "state": {
            "_model_module": "@jupyter-widgets/controls",
            "_model_module_version": "1.5.0",
            "_model_name": "ProgressStyleModel",
            "_view_count": null,
            "_view_module": "@jupyter-widgets/base",
            "_view_module_version": "1.2.0",
            "_view_name": "StyleView",
            "bar_color": null,
            "description_width": ""
          }
        },
        "d2e993c612ac433c91f39b99ec3bd733": {
          "model_module": "@jupyter-widgets/controls",
          "model_module_version": "1.5.0",
          "model_name": "HTMLModel",
          "state": {
            "_dom_classes": [],
            "_model_module": "@jupyter-widgets/controls",
            "_model_module_version": "1.5.0",
            "_model_name": "HTMLModel",
            "_view_count": null,
            "_view_module": "@jupyter-widgets/controls",
            "_view_module_version": "1.5.0",
            "_view_name": "HTMLView",
            "description": "",
            "description_tooltip": null,
            "layout": "IPY_MODEL_c2fbff0ef5814d67a8b3704a1ab8148a",
            "placeholder": "​",
            "style": "IPY_MODEL_d4bf842f1e04465abd5b063809d20a12",
            "value": " 1.11G/1.11G [00:21&lt;00:00, 50.0MB/s]"
          }
        },
        "d3fcfced67774b6caae7e64e65f828d3": {
          "model_module": "@jupyter-widgets/controls",
          "model_module_version": "1.5.0",
          "model_name": "HTMLModel",
          "state": {
            "_dom_classes": [],
            "_model_module": "@jupyter-widgets/controls",
            "_model_module_version": "1.5.0",
            "_model_name": "HTMLModel",
            "_view_count": null,
            "_view_module": "@jupyter-widgets/controls",
            "_view_module_version": "1.5.0",
            "_view_name": "HTMLView",
            "description": "",
            "description_tooltip": null,
            "layout": "IPY_MODEL_ed0aee2c29d742878e0d19b4baf74cae",
            "placeholder": "​",
            "style": "IPY_MODEL_5b9657c94b3141fb86f6dd74711dfc7d",
            "value": " 9.10M/9.10M [00:00&lt;00:00, 61.2MB/s]"
          }
        },
        "d41a5aeb9860409888ec9c844dbbfbbe": {
          "model_module": "@jupyter-widgets/controls",
          "model_module_version": "1.5.0",
          "model_name": "ProgressStyleModel",
          "state": {
            "_model_module": "@jupyter-widgets/controls",
            "_model_module_version": "1.5.0",
            "_model_name": "ProgressStyleModel",
            "_view_count": null,
            "_view_module": "@jupyter-widgets/base",
            "_view_module_version": "1.2.0",
            "_view_name": "StyleView",
            "bar_color": null,
            "description_width": ""
          }
        },
        "d4bf842f1e04465abd5b063809d20a12": {
          "model_module": "@jupyter-widgets/controls",
          "model_module_version": "1.5.0",
          "model_name": "DescriptionStyleModel",
          "state": {
            "_model_module": "@jupyter-widgets/controls",
            "_model_module_version": "1.5.0",
            "_model_name": "DescriptionStyleModel",
            "_view_count": null,
            "_view_module": "@jupyter-widgets/base",
            "_view_module_version": "1.2.0",
            "_view_name": "StyleView",
            "description_width": ""
          }
        },
        "d913c11f769f4a4aa4cdf91111aaee92": {
          "model_module": "@jupyter-widgets/controls",
          "model_module_version": "1.5.0",
          "model_name": "DescriptionStyleModel",
          "state": {
            "_model_module": "@jupyter-widgets/controls",
            "_model_module_version": "1.5.0",
            "_model_name": "DescriptionStyleModel",
            "_view_count": null,
            "_view_module": "@jupyter-widgets/base",
            "_view_module_version": "1.2.0",
            "_view_name": "StyleView",
            "description_width": ""
          }
        },
        "d9abca9ac1374052a1728b7cab383712": {
          "model_module": "@jupyter-widgets/controls",
          "model_module_version": "1.5.0",
          "model_name": "HTMLModel",
          "state": {
            "_dom_classes": [],
            "_model_module": "@jupyter-widgets/controls",
            "_model_module_version": "1.5.0",
            "_model_name": "HTMLModel",
            "_view_count": null,
            "_view_module": "@jupyter-widgets/controls",
            "_view_module_version": "1.5.0",
            "_view_name": "HTMLView",
            "description": "",
            "description_tooltip": null,
            "layout": "IPY_MODEL_211056921bf44b8e8bc2bba96cce9e15",
            "placeholder": "​",
            "style": "IPY_MODEL_04ffc682cb0a40a7b2fddbe3b264713d",
            "value": "Upload 1 LFS files: 100%"
          }
        },
        "dd3d3b31ab9b47e2924ce9aa68574e59": {
          "model_module": "@jupyter-widgets/controls",
          "model_module_version": "1.5.0",
          "model_name": "FloatProgressModel",
          "state": {
            "_dom_classes": [],
            "_model_module": "@jupyter-widgets/controls",
            "_model_module_version": "1.5.0",
            "_model_name": "FloatProgressModel",
            "_view_count": null,
            "_view_module": "@jupyter-widgets/controls",
            "_view_module_version": "1.5.0",
            "_view_name": "ProgressView",
            "bar_style": "success",
            "description": "",
            "description_tooltip": null,
            "layout": "IPY_MODEL_043f45fe0b244aea8c8da009359263c6",
            "max": 1,
            "min": 0,
            "orientation": "horizontal",
            "style": "IPY_MODEL_a9baaa4f370442f2857bc78a1b465ecc",
            "value": 1
          }
        },
        "dd5cd395286540ceb642078c9ca4094c": {
          "model_module": "@jupyter-widgets/controls",
          "model_module_version": "1.5.0",
          "model_name": "LabelModel",
          "state": {
            "_dom_classes": [],
            "_model_module": "@jupyter-widgets/controls",
            "_model_module_version": "1.5.0",
            "_model_name": "LabelModel",
            "_view_count": null,
            "_view_module": "@jupyter-widgets/controls",
            "_view_module_version": "1.5.0",
            "_view_name": "LabelView",
            "description": "",
            "description_tooltip": null,
            "layout": "IPY_MODEL_85e75ea7f83e4abdbf2acaa1c0475d21",
            "placeholder": "​",
            "style": "IPY_MODEL_1f75115359ac4732b881c8c66176c530",
            "value": "Your token has been saved to /root/.cache/huggingface/token"
          }
        },
        "e18f457fa2a248b092a21b5c15f8767d": {
          "model_module": "@jupyter-widgets/base",
          "model_module_version": "1.2.0",
          "model_name": "LayoutModel",
          "state": {
            "_model_module": "@jupyter-widgets/base",
            "_model_module_version": "1.2.0",
            "_model_name": "LayoutModel",
            "_view_count": null,
            "_view_module": "@jupyter-widgets/base",
            "_view_module_version": "1.2.0",
            "_view_name": "LayoutView",
            "align_content": null,
            "align_items": null,
            "align_self": null,
            "border": null,
            "bottom": null,
            "display": null,
            "flex": null,
            "flex_flow": null,
            "grid_area": null,
            "grid_auto_columns": null,
            "grid_auto_flow": null,
            "grid_auto_rows": null,
            "grid_column": null,
            "grid_gap": null,
            "grid_row": null,
            "grid_template_areas": null,
            "grid_template_columns": null,
            "grid_template_rows": null,
            "height": null,
            "justify_content": null,
            "justify_items": null,
            "left": null,
            "margin": null,
            "max_height": null,
            "max_width": null,
            "min_height": null,
            "min_width": null,
            "object_fit": null,
            "object_position": null,
            "order": null,
            "overflow": null,
            "overflow_x": null,
            "overflow_y": null,
            "padding": null,
            "right": null,
            "top": null,
            "visibility": null,
            "width": null
          }
        },
        "e39580cd4eca4c0bb4f4a3dc041b90eb": {
          "model_module": "@jupyter-widgets/controls",
          "model_module_version": "1.5.0",
          "model_name": "HBoxModel",
          "state": {
            "_dom_classes": [],
            "_model_module": "@jupyter-widgets/controls",
            "_model_module_version": "1.5.0",
            "_model_name": "HBoxModel",
            "_view_count": null,
            "_view_module": "@jupyter-widgets/controls",
            "_view_module_version": "1.5.0",
            "_view_name": "HBoxView",
            "box_style": "",
            "children": [
              "IPY_MODEL_30c591fc13b447538aebcfe1d681c7bc",
              "IPY_MODEL_9955afe5f8c04c17afdcdff02e562579",
              "IPY_MODEL_f7e012ae657f4921aff2d2382a9d671c"
            ],
            "layout": "IPY_MODEL_e18f457fa2a248b092a21b5c15f8767d"
          }
        },
        "e417e2621b774c7cb92ad6e7e5ea88bb": {
          "model_module": "@jupyter-widgets/controls",
          "model_module_version": "1.5.0",
          "model_name": "DescriptionStyleModel",
          "state": {
            "_model_module": "@jupyter-widgets/controls",
            "_model_module_version": "1.5.0",
            "_model_name": "DescriptionStyleModel",
            "_view_count": null,
            "_view_module": "@jupyter-widgets/base",
            "_view_module_version": "1.2.0",
            "_view_name": "StyleView",
            "description_width": ""
          }
        },
        "e5705b4ce527497cadf2ed391c0e2cc9": {
          "model_module": "@jupyter-widgets/controls",
          "model_module_version": "1.5.0",
          "model_name": "FloatProgressModel",
          "state": {
            "_dom_classes": [],
            "_model_module": "@jupyter-widgets/controls",
            "_model_module_version": "1.5.0",
            "_model_name": "FloatProgressModel",
            "_view_count": null,
            "_view_module": "@jupyter-widgets/controls",
            "_view_module_version": "1.5.0",
            "_view_name": "ProgressView",
            "bar_style": "success",
            "description": "",
            "description_tooltip": null,
            "layout": "IPY_MODEL_84a45adf1fde40c687655327bc78c63b",
            "max": 1109894509,
            "min": 0,
            "orientation": "horizontal",
            "style": "IPY_MODEL_d27fb2f9d1514c67b10c2bd7dcd5571f",
            "value": 1109894509
          }
        },
        "e8f4d4f2873d4ef7bce370a09713c801": {
          "model_module": "@jupyter-widgets/controls",
          "model_module_version": "1.5.0",
          "model_name": "DescriptionStyleModel",
          "state": {
            "_model_module": "@jupyter-widgets/controls",
            "_model_module_version": "1.5.0",
            "_model_name": "DescriptionStyleModel",
            "_view_count": null,
            "_view_module": "@jupyter-widgets/base",
            "_view_module_version": "1.2.0",
            "_view_name": "StyleView",
            "description_width": ""
          }
        },
        "e9014cf5389f431d8c650f576eeea900": {
          "model_module": "@jupyter-widgets/controls",
          "model_module_version": "1.5.0",
          "model_name": "DescriptionStyleModel",
          "state": {
            "_model_module": "@jupyter-widgets/controls",
            "_model_module_version": "1.5.0",
            "_model_name": "DescriptionStyleModel",
            "_view_count": null,
            "_view_module": "@jupyter-widgets/base",
            "_view_module_version": "1.2.0",
            "_view_name": "StyleView",
            "description_width": ""
          }
        },
        "ed0aee2c29d742878e0d19b4baf74cae": {
          "model_module": "@jupyter-widgets/base",
          "model_module_version": "1.2.0",
          "model_name": "LayoutModel",
          "state": {
            "_model_module": "@jupyter-widgets/base",
            "_model_module_version": "1.2.0",
            "_model_name": "LayoutModel",
            "_view_count": null,
            "_view_module": "@jupyter-widgets/base",
            "_view_module_version": "1.2.0",
            "_view_name": "LayoutView",
            "align_content": null,
            "align_items": null,
            "align_self": null,
            "border": null,
            "bottom": null,
            "display": null,
            "flex": null,
            "flex_flow": null,
            "grid_area": null,
            "grid_auto_columns": null,
            "grid_auto_flow": null,
            "grid_auto_rows": null,
            "grid_column": null,
            "grid_gap": null,
            "grid_row": null,
            "grid_template_areas": null,
            "grid_template_columns": null,
            "grid_template_rows": null,
            "height": null,
            "justify_content": null,
            "justify_items": null,
            "left": null,
            "margin": null,
            "max_height": null,
            "max_width": null,
            "min_height": null,
            "min_width": null,
            "object_fit": null,
            "object_position": null,
            "order": null,
            "overflow": null,
            "overflow_x": null,
            "overflow_y": null,
            "padding": null,
            "right": null,
            "top": null,
            "visibility": null,
            "width": null
          }
        },
        "ee10d9d64b9046fe80986f0243548b75": {
          "model_module": "@jupyter-widgets/controls",
          "model_module_version": "1.5.0",
          "model_name": "HBoxModel",
          "state": {
            "_dom_classes": [],
            "_model_module": "@jupyter-widgets/controls",
            "_model_module_version": "1.5.0",
            "_model_name": "HBoxModel",
            "_view_count": null,
            "_view_module": "@jupyter-widgets/controls",
            "_view_module_version": "1.5.0",
            "_view_name": "HBoxView",
            "box_style": "",
            "children": [
              "IPY_MODEL_8af4a8fb7c654ae78a60c740a6d139f1",
              "IPY_MODEL_552b8aae5a924980bcd4caa0ead8ad1f",
              "IPY_MODEL_9c5134ec4be34305a1d3193531138679"
            ],
            "layout": "IPY_MODEL_927f8093ad4144bf8f0ae449fd96b691"
          }
        },
        "f292ced57a874e4db4a84570355d1ef2": {
          "model_module": "@jupyter-widgets/controls",
          "model_module_version": "1.5.0",
          "model_name": "VBoxModel",
          "state": {
            "_dom_classes": [],
            "_model_module": "@jupyter-widgets/controls",
            "_model_module_version": "1.5.0",
            "_model_name": "VBoxModel",
            "_view_count": null,
            "_view_module": "@jupyter-widgets/controls",
            "_view_module_version": "1.5.0",
            "_view_name": "VBoxView",
            "box_style": "",
            "children": [
              "IPY_MODEL_75a94d97399c4f908116c280a5be3109",
              "IPY_MODEL_ffcdee6f3d3f471eafaa0da987370507",
              "IPY_MODEL_dd5cd395286540ceb642078c9ca4094c",
              "IPY_MODEL_1a79a0211dc44d0684ed3ccc2cd935e8"
            ],
            "layout": "IPY_MODEL_45e3728386b949188febd5933cb52bc6"
          }
        },
        "f3f8bc6975d44308b6662910c0ab64b1": {
          "model_module": "@jupyter-widgets/controls",
          "model_module_version": "1.5.0",
          "model_name": "DescriptionStyleModel",
          "state": {
            "_model_module": "@jupyter-widgets/controls",
            "_model_module_version": "1.5.0",
            "_model_name": "DescriptionStyleModel",
            "_view_count": null,
            "_view_module": "@jupyter-widgets/base",
            "_view_module_version": "1.2.0",
            "_view_name": "StyleView",
            "description_width": ""
          }
        },
        "f55dde87e4644a3b800536ccc08391e6": {
          "model_module": "@jupyter-widgets/controls",
          "model_module_version": "1.5.0",
          "model_name": "HBoxModel",
          "state": {
            "_dom_classes": [],
            "_model_module": "@jupyter-widgets/controls",
            "_model_module_version": "1.5.0",
            "_model_name": "HBoxModel",
            "_view_count": null,
            "_view_module": "@jupyter-widgets/controls",
            "_view_module_version": "1.5.0",
            "_view_name": "HBoxView",
            "box_style": "",
            "children": [
              "IPY_MODEL_d9abca9ac1374052a1728b7cab383712",
              "IPY_MODEL_dd3d3b31ab9b47e2924ce9aa68574e59",
              "IPY_MODEL_f61fe38ab50e475ca50df5ffb4e0b2f8"
            ],
            "layout": "IPY_MODEL_bb0dd0923dbd48fd8377ee1760eb9b62"
          }
        },
        "f61fe38ab50e475ca50df5ffb4e0b2f8": {
          "model_module": "@jupyter-widgets/controls",
          "model_module_version": "1.5.0",
          "model_name": "HTMLModel",
          "state": {
            "_dom_classes": [],
            "_model_module": "@jupyter-widgets/controls",
            "_model_module_version": "1.5.0",
            "_model_name": "HTMLModel",
            "_view_count": null,
            "_view_module": "@jupyter-widgets/controls",
            "_view_module_version": "1.5.0",
            "_view_name": "HTMLView",
            "description": "",
            "description_tooltip": null,
            "layout": "IPY_MODEL_bec9dbcab6b24eb3b15233be7fc28262",
            "placeholder": "​",
            "style": "IPY_MODEL_5ffee7df05c2407fa0c8705287ae879b",
            "value": " 1/1 [00:00&lt;00:00,  1.20it/s]"
          }
        },
        "f680495ce3cc43079749dcdd011a5c5a": {
          "model_module": "@jupyter-widgets/controls",
          "model_module_version": "1.5.0",
          "model_name": "HTMLModel",
          "state": {
            "_dom_classes": [],
            "_model_module": "@jupyter-widgets/controls",
            "_model_module_version": "1.5.0",
            "_model_name": "HTMLModel",
            "_view_count": null,
            "_view_module": "@jupyter-widgets/controls",
            "_view_module_version": "1.5.0",
            "_view_name": "HTMLView",
            "description": "",
            "description_tooltip": null,
            "layout": "IPY_MODEL_5281233348804a849d0c279c01c915d7",
            "placeholder": "​",
            "style": "IPY_MODEL_5649d51c976246e6979e6660493cdf55",
            "value": "\n<b>Pro Tip:</b> If you don't already have one, you can create a dedicated\n'notebooks' token with 'write' access, that you can then easily reuse for all\nnotebooks. </center>"
          }
        },
        "f7e012ae657f4921aff2d2382a9d671c": {
          "model_module": "@jupyter-widgets/controls",
          "model_module_version": "1.5.0",
          "model_name": "HTMLModel",
          "state": {
            "_dom_classes": [],
            "_model_module": "@jupyter-widgets/controls",
            "_model_module_version": "1.5.0",
            "_model_name": "HTMLModel",
            "_view_count": null,
            "_view_module": "@jupyter-widgets/controls",
            "_view_module_version": "1.5.0",
            "_view_name": "HTMLView",
            "description": "",
            "description_tooltip": null,
            "layout": "IPY_MODEL_00fccdf25d10425eab1416eae5dea59a",
            "placeholder": "​",
            "style": "IPY_MODEL_608c15c31fca450bb001a5eefe4ddc38",
            "value": " 1/1 [00:22&lt;00:00, 22.24s/it]"
          }
        },
        "f97c63cedebd40f0a75075e12a3e0d4a": {
          "model_module": "@jupyter-widgets/base",
          "model_module_version": "1.2.0",
          "model_name": "LayoutModel",
          "state": {
            "_model_module": "@jupyter-widgets/base",
            "_model_module_version": "1.2.0",
            "_model_name": "LayoutModel",
            "_view_count": null,
            "_view_module": "@jupyter-widgets/base",
            "_view_module_version": "1.2.0",
            "_view_name": "LayoutView",
            "align_content": null,
            "align_items": null,
            "align_self": null,
            "border": null,
            "bottom": null,
            "display": null,
            "flex": null,
            "flex_flow": null,
            "grid_area": null,
            "grid_auto_columns": null,
            "grid_auto_flow": null,
            "grid_auto_rows": null,
            "grid_column": null,
            "grid_gap": null,
            "grid_row": null,
            "grid_template_areas": null,
            "grid_template_columns": null,
            "grid_template_rows": null,
            "height": null,
            "justify_content": null,
            "justify_items": null,
            "left": null,
            "margin": null,
            "max_height": null,
            "max_width": null,
            "min_height": null,
            "min_width": null,
            "object_fit": null,
            "object_position": null,
            "order": null,
            "overflow": null,
            "overflow_x": null,
            "overflow_y": null,
            "padding": null,
            "right": null,
            "top": null,
            "visibility": null,
            "width": null
          }
        },
        "fb3cf9a258e9423da979fa0ca2bd057d": {
          "model_module": "@jupyter-widgets/base",
          "model_module_version": "1.2.0",
          "model_name": "LayoutModel",
          "state": {
            "_model_module": "@jupyter-widgets/base",
            "_model_module_version": "1.2.0",
            "_model_name": "LayoutModel",
            "_view_count": null,
            "_view_module": "@jupyter-widgets/base",
            "_view_module_version": "1.2.0",
            "_view_name": "LayoutView",
            "align_content": null,
            "align_items": null,
            "align_self": null,
            "border": null,
            "bottom": null,
            "display": null,
            "flex": null,
            "flex_flow": null,
            "grid_area": null,
            "grid_auto_columns": null,
            "grid_auto_flow": null,
            "grid_auto_rows": null,
            "grid_column": null,
            "grid_gap": null,
            "grid_row": null,
            "grid_template_areas": null,
            "grid_template_columns": null,
            "grid_template_rows": null,
            "height": null,
            "justify_content": null,
            "justify_items": null,
            "left": null,
            "margin": null,
            "max_height": null,
            "max_width": null,
            "min_height": null,
            "min_width": null,
            "object_fit": null,
            "object_position": null,
            "order": null,
            "overflow": null,
            "overflow_x": null,
            "overflow_y": null,
            "padding": null,
            "right": null,
            "top": null,
            "visibility": null,
            "width": null
          }
        },
        "fb5c16ae9ee24c3292f85fcc44a97bf1": {
          "model_module": "@jupyter-widgets/controls",
          "model_module_version": "1.5.0",
          "model_name": "HBoxModel",
          "state": {
            "_dom_classes": [],
            "_model_module": "@jupyter-widgets/controls",
            "_model_module_version": "1.5.0",
            "_model_name": "HBoxModel",
            "_view_count": null,
            "_view_module": "@jupyter-widgets/controls",
            "_view_module_version": "1.5.0",
            "_view_name": "HBoxView",
            "box_style": "",
            "children": [
              "IPY_MODEL_42078267ccd34adfb577cfdbcee67a7f",
              "IPY_MODEL_c1256a30ef2d4607816433b62ddbd532",
              "IPY_MODEL_25773ae387724c43b4f15407c759b95f"
            ],
            "layout": "IPY_MODEL_78a656d53c2747ce8cb92336c3714804"
          }
        },
        "fc77e790ad6b45c2b51e366bc0b0f8be": {
          "model_module": "@jupyter-widgets/base",
          "model_module_version": "1.2.0",
          "model_name": "LayoutModel",
          "state": {
            "_model_module": "@jupyter-widgets/base",
            "_model_module_version": "1.2.0",
            "_model_name": "LayoutModel",
            "_view_count": null,
            "_view_module": "@jupyter-widgets/base",
            "_view_module_version": "1.2.0",
            "_view_name": "LayoutView",
            "align_content": null,
            "align_items": null,
            "align_self": null,
            "border": null,
            "bottom": null,
            "display": null,
            "flex": null,
            "flex_flow": null,
            "grid_area": null,
            "grid_auto_columns": null,
            "grid_auto_flow": null,
            "grid_auto_rows": null,
            "grid_column": null,
            "grid_gap": null,
            "grid_row": null,
            "grid_template_areas": null,
            "grid_template_columns": null,
            "grid_template_rows": null,
            "height": null,
            "justify_content": null,
            "justify_items": null,
            "left": null,
            "margin": null,
            "max_height": null,
            "max_width": null,
            "min_height": null,
            "min_width": null,
            "object_fit": null,
            "object_position": null,
            "order": null,
            "overflow": null,
            "overflow_x": null,
            "overflow_y": null,
            "padding": null,
            "right": null,
            "top": null,
            "visibility": null,
            "width": null
          }
        },
        "fd20ad6592c14a36a24bcad4628b66f5": {
          "model_module": "@jupyter-widgets/base",
          "model_module_version": "1.2.0",
          "model_name": "LayoutModel",
          "state": {
            "_model_module": "@jupyter-widgets/base",
            "_model_module_version": "1.2.0",
            "_model_name": "LayoutModel",
            "_view_count": null,
            "_view_module": "@jupyter-widgets/base",
            "_view_module_version": "1.2.0",
            "_view_name": "LayoutView",
            "align_content": null,
            "align_items": null,
            "align_self": null,
            "border": null,
            "bottom": null,
            "display": null,
            "flex": null,
            "flex_flow": null,
            "grid_area": null,
            "grid_auto_columns": null,
            "grid_auto_flow": null,
            "grid_auto_rows": null,
            "grid_column": null,
            "grid_gap": null,
            "grid_row": null,
            "grid_template_areas": null,
            "grid_template_columns": null,
            "grid_template_rows": null,
            "height": null,
            "justify_content": null,
            "justify_items": null,
            "left": null,
            "margin": null,
            "max_height": null,
            "max_width": null,
            "min_height": null,
            "min_width": null,
            "object_fit": null,
            "object_position": null,
            "order": null,
            "overflow": null,
            "overflow_x": null,
            "overflow_y": null,
            "padding": null,
            "right": null,
            "top": null,
            "visibility": null,
            "width": null
          }
        },
        "ffcdee6f3d3f471eafaa0da987370507": {
          "model_module": "@jupyter-widgets/controls",
          "model_module_version": "1.5.0",
          "model_name": "LabelModel",
          "state": {
            "_dom_classes": [],
            "_model_module": "@jupyter-widgets/controls",
            "_model_module_version": "1.5.0",
            "_model_name": "LabelModel",
            "_view_count": null,
            "_view_module": "@jupyter-widgets/controls",
            "_view_module_version": "1.5.0",
            "_view_name": "LabelView",
            "description": "",
            "description_tooltip": null,
            "layout": "IPY_MODEL_f97c63cedebd40f0a75075e12a3e0d4a",
            "placeholder": "​",
            "style": "IPY_MODEL_99837679eb3646e99abc8ae85e09dcf5",
            "value": "Your token has been saved in your configured git credential helpers (store)."
          }
        }
      }
    }
  },
  "nbformat": 4,
  "nbformat_minor": 0
}
